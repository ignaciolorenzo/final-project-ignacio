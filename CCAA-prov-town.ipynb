{
 "cells": [
  {
   "cell_type": "code",
   "execution_count": 1,
   "metadata": {},
   "outputs": [],
   "source": [
    "import pandas as pd\n",
    "import math\n",
    "from bs4 import BeautifulSoup\n",
    "import requests\n",
    "import nums_from_string as nfs\n",
    "import numpy as np\n",
    "from re import search\n",
    "from random import randint\n",
    "from time import sleep\n",
    "import openpyxl\n",
    "import xlrd\n",
    "import lxml"
   ]
  },
  {
   "cell_type": "code",
   "execution_count": 2,
   "metadata": {},
   "outputs": [],
   "source": [
    "ccaa = pd.read_excel('ccaa-prov.xlsx')\n",
    "ccaa = ccaa.rename(columns={'Codigo': 'CPRO'})"
   ]
  },
  {
   "cell_type": "code",
   "execution_count": 3,
   "metadata": {},
   "outputs": [],
   "source": [
    "df_province_names = pd.read_excel('21codmun.xls', sheet_name = \"Hoja1\", header=8)\n",
    "province_ccaa = df_province_names.merge(ccaa, on='CPRO', how='left')\n",
    "province_ccaa = province_ccaa.drop(['Cod_CCAA', 'Provincia_y', 'Provincia_x'], axis=1)\n",
    "province_ccaa = province_ccaa.rename(columns={'Texto': 'Provincia'})"
   ]
  },
  {
   "cell_type": "code",
   "execution_count": 4,
   "metadata": {},
   "outputs": [],
   "source": [
    "dct_provinces = {}\n",
    "for i, province in enumerate(df_province_names['Provincia']):\n",
    "    if i == 0:\n",
    "        #creating a df for each province\n",
    "        CPRO = df_province_names['CPRO'][i]\n",
    "        if CPRO < 10: CPRO = \"0\"+ str(df_province_names['CPRO'][i])\n",
    "        else: CPRO = str(CPRO)\n",
    "        dct_provinces[province] = pd.read_excel('21codmun.xls', sheet_name = CPRO, header=3)\n",
    "        #concatenating all dfs\n",
    "        all_provinces = dct_provinces[province]\n",
    "    else:\n",
    "        CPRO = df_province_names['CPRO'][i]\n",
    "        dct_provinces[province] = pd.read_excel('21codmun.xls', sheet_name = CPRO, header=3)\n",
    "        all_provinces = all_provinces.append(dct_provinces[province], ignore_index = True)"
   ]
  },
  {
   "cell_type": "code",
   "execution_count": 5,
   "metadata": {},
   "outputs": [],
   "source": [
    "town_province_ccaa = all_provinces.merge(df_province_names, on='CPRO', how='left')\n",
    "town_province_ccaa = town_province_ccaa.drop([\"CPRO\", \"CMUN\", \"DC\", \"001\", \"5\", \"Ajofrín\", \"CPRO\"], axis = 1)\n",
    "town_province_ccaa = town_province_ccaa.merge(province_ccaa, on = \"Provincia\", how='left')\n",
    "town_province_ccaa = town_province_ccaa.drop(\"CPRO\", axis=1)\n",
    "town_province_ccaa.columns = ['Municipo', 'Provincia', 'CCAA']"
   ]
  },
  {
   "cell_type": "code",
   "execution_count": 6,
   "metadata": {},
   "outputs": [
    {
     "data": {
      "text/html": [
       "<div>\n",
       "<style scoped>\n",
       "    .dataframe tbody tr th:only-of-type {\n",
       "        vertical-align: middle;\n",
       "    }\n",
       "\n",
       "    .dataframe tbody tr th {\n",
       "        vertical-align: top;\n",
       "    }\n",
       "\n",
       "    .dataframe thead th {\n",
       "        text-align: right;\n",
       "    }\n",
       "</style>\n",
       "<table border=\"1\" class=\"dataframe\">\n",
       "  <thead>\n",
       "    <tr style=\"text-align: right;\">\n",
       "      <th></th>\n",
       "      <th>Municipo</th>\n",
       "      <th>Provincia</th>\n",
       "      <th>CCAA</th>\n",
       "    </tr>\n",
       "  </thead>\n",
       "  <tbody>\n",
       "    <tr>\n",
       "      <th>0</th>\n",
       "      <td>Abengibre</td>\n",
       "      <td>Albacete</td>\n",
       "      <td>Castilla - La Mancha</td>\n",
       "    </tr>\n",
       "    <tr>\n",
       "      <th>1</th>\n",
       "      <td>Alatoz</td>\n",
       "      <td>Albacete</td>\n",
       "      <td>Castilla - La Mancha</td>\n",
       "    </tr>\n",
       "    <tr>\n",
       "      <th>2</th>\n",
       "      <td>Albacete</td>\n",
       "      <td>Albacete</td>\n",
       "      <td>Castilla - La Mancha</td>\n",
       "    </tr>\n",
       "    <tr>\n",
       "      <th>3</th>\n",
       "      <td>Albatana</td>\n",
       "      <td>Albacete</td>\n",
       "      <td>Castilla - La Mancha</td>\n",
       "    </tr>\n",
       "    <tr>\n",
       "      <th>4</th>\n",
       "      <td>Alborea</td>\n",
       "      <td>Albacete</td>\n",
       "      <td>Castilla - La Mancha</td>\n",
       "    </tr>\n",
       "    <tr>\n",
       "      <th>...</th>\n",
       "      <td>...</td>\n",
       "      <td>...</td>\n",
       "      <td>...</td>\n",
       "    </tr>\n",
       "    <tr>\n",
       "      <th>295</th>\n",
       "      <td>Olula del Río</td>\n",
       "      <td>Almería</td>\n",
       "      <td>Andalucía</td>\n",
       "    </tr>\n",
       "    <tr>\n",
       "      <th>296</th>\n",
       "      <td>Oria</td>\n",
       "      <td>Almería</td>\n",
       "      <td>Andalucía</td>\n",
       "    </tr>\n",
       "    <tr>\n",
       "      <th>297</th>\n",
       "      <td>Padules</td>\n",
       "      <td>Almería</td>\n",
       "      <td>Andalucía</td>\n",
       "    </tr>\n",
       "    <tr>\n",
       "      <th>298</th>\n",
       "      <td>Partaloa</td>\n",
       "      <td>Almería</td>\n",
       "      <td>Andalucía</td>\n",
       "    </tr>\n",
       "    <tr>\n",
       "      <th>299</th>\n",
       "      <td>Paterna del Río</td>\n",
       "      <td>Almería</td>\n",
       "      <td>Andalucía</td>\n",
       "    </tr>\n",
       "  </tbody>\n",
       "</table>\n",
       "<p>300 rows × 3 columns</p>\n",
       "</div>"
      ],
      "text/plain": [
       "            Municipo Provincia                  CCAA\n",
       "0          Abengibre  Albacete  Castilla - La Mancha\n",
       "1             Alatoz  Albacete  Castilla - La Mancha\n",
       "2           Albacete  Albacete  Castilla - La Mancha\n",
       "3           Albatana  Albacete  Castilla - La Mancha\n",
       "4            Alborea  Albacete  Castilla - La Mancha\n",
       "..               ...       ...                   ...\n",
       "295    Olula del Río   Almería             Andalucía\n",
       "296             Oria   Almería             Andalucía\n",
       "297          Padules   Almería             Andalucía\n",
       "298         Partaloa   Almería             Andalucía\n",
       "299  Paterna del Río   Almería             Andalucía\n",
       "\n",
       "[300 rows x 3 columns]"
      ]
     },
     "execution_count": 6,
     "metadata": {},
     "output_type": "execute_result"
    }
   ],
   "source": [
    "town_province_ccaa.head(300)"
   ]
  },
  {
   "cell_type": "code",
   "execution_count": 12,
   "metadata": {},
   "outputs": [],
   "source": [
    "province_ccaa.to_csv(path_or_buf = '/Users/ignaciolorenzoqueralt/Documents/Ironhack/Final Project/data/province-town-n_props/'+'province_ccaa'+'.csv')"
   ]
  },
  {
   "cell_type": "code",
   "execution_count": null,
   "metadata": {},
   "outputs": [],
   "source": []
  }
 ],
 "metadata": {
  "kernelspec": {
   "display_name": "ironhack_1",
   "language": "python",
   "name": "ironhack_1"
  },
  "language_info": {
   "codemirror_mode": {
    "name": "ipython",
    "version": 3
   },
   "file_extension": ".py",
   "mimetype": "text/x-python",
   "name": "python",
   "nbconvert_exporter": "python",
   "pygments_lexer": "ipython3",
   "version": "3.8.5"
  }
 },
 "nbformat": 4,
 "nbformat_minor": 5
}
