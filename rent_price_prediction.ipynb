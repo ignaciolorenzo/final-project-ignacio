{
 "cells": [
  {
   "cell_type": "markdown",
   "id": "ea2d10e3",
   "metadata": {},
   "source": [
    "## 1 | Imports"
   ]
  },
  {
   "cell_type": "code",
   "execution_count": 1,
   "id": "89eb3cad",
   "metadata": {},
   "outputs": [],
   "source": [
    "import pandas as pd\n",
    "import seaborn as sns\n",
    "import matplotlib.pyplot as plt\n",
    "import warnings\n",
    "warnings.filterwarnings('ignore')"
   ]
  },
  {
   "cell_type": "markdown",
   "id": "d5b5791e",
   "metadata": {},
   "source": [
    "## 2 | Defined functions"
   ]
  },
  {
   "cell_type": "code",
   "execution_count": 2,
   "id": "173d80ab",
   "metadata": {},
   "outputs": [],
   "source": [
    "def clean_last_update(df, c):\n",
    "    for i,n in enumerate(df[c]):\n",
    "        try:\n",
    "            df[c][i] = int(n)\n",
    "        except:\n",
    "            df[c][i] = int('0')"
   ]
  },
  {
   "cell_type": "code",
   "execution_count": 3,
   "id": "94eb2a71",
   "metadata": {},
   "outputs": [],
   "source": [
    "def checking_nulls(df):\n",
    "    # This function shows which columns have null values and returns a df with only nulls\n",
    "    for c in df.columns:\n",
    "        null_count = df[c].isnull().sum()\n",
    "        if null_count > 0:\n",
    "            print (\"The column \", c, \" has \", null_count, \" null values\")\n",
    "    nulls = df[df.isna().any(axis=1)]\n",
    "    return nulls.head(3)"
   ]
  },
  {
   "cell_type": "code",
   "execution_count": 4,
   "id": "f9e6977f",
   "metadata": {},
   "outputs": [],
   "source": [
    "def convet_to_numerical(df, list = []):\n",
    "    for l in list:\n",
    "        df[l] = df[l].astype('int')"
   ]
  },
  {
   "cell_type": "markdown",
   "id": "1ca9c074",
   "metadata": {},
   "source": [
    "## 3 | Model"
   ]
  },
  {
   "cell_type": "markdown",
   "id": "129965d7",
   "metadata": {},
   "source": [
    "### Cleaning the original data set"
   ]
  },
  {
   "cell_type": "code",
   "execution_count": 5,
   "id": "7772987c",
   "metadata": {},
   "outputs": [],
   "source": [
    "rent_df = pd.read_csv('/Users/ignaciolorenzoqueralt/Documents/Ironhack/Final Project/properties/rent/2021.11.04_cataluña_837.3249999999999_100.csv', engine='python' )\n",
    "rent_df = rent_df.loc[:, ~rent_df.columns.str.contains('^Unnamed')]"
   ]
  },
  {
   "cell_type": "code",
   "execution_count": 6,
   "id": "89f7ab6a",
   "metadata": {},
   "outputs": [
    {
     "data": {
      "text/plain": [
       "(7984, 15)"
      ]
     },
     "execution_count": 6,
     "metadata": {},
     "output_type": "execute_result"
    }
   ],
   "source": [
    "rent_df.shape"
   ]
  },
  {
   "cell_type": "code",
   "execution_count": 7,
   "id": "1e66efd2",
   "metadata": {},
   "outputs": [],
   "source": [
    "clean_last_update(rent_df, c = 'last_update')"
   ]
  },
  {
   "cell_type": "code",
   "execution_count": 8,
   "id": "6fc6365b",
   "metadata": {},
   "outputs": [],
   "source": [
    "rent_df = rent_df.dropna()"
   ]
  },
  {
   "cell_type": "code",
   "execution_count": 9,
   "id": "d955d69a",
   "metadata": {},
   "outputs": [
    {
     "data": {
      "text/html": [
       "<div>\n",
       "<style scoped>\n",
       "    .dataframe tbody tr th:only-of-type {\n",
       "        vertical-align: middle;\n",
       "    }\n",
       "\n",
       "    .dataframe tbody tr th {\n",
       "        vertical-align: top;\n",
       "    }\n",
       "\n",
       "    .dataframe thead th {\n",
       "        text-align: right;\n",
       "    }\n",
       "</style>\n",
       "<table border=\"1\" class=\"dataframe\">\n",
       "  <thead>\n",
       "    <tr style=\"text-align: right;\">\n",
       "      <th></th>\n",
       "      <th>name</th>\n",
       "      <th>area</th>\n",
       "      <th>m2</th>\n",
       "      <th>n_rooms</th>\n",
       "      <th>n_bath</th>\n",
       "      <th>price_m2</th>\n",
       "      <th>price</th>\n",
       "      <th>price_reduction</th>\n",
       "      <th>opportunity</th>\n",
       "      <th>last_update</th>\n",
       "      <th>description</th>\n",
       "      <th>url</th>\n",
       "      <th>geo_town</th>\n",
       "      <th>province</th>\n",
       "      <th>ccaa</th>\n",
       "    </tr>\n",
       "  </thead>\n",
       "  <tbody>\n",
       "  </tbody>\n",
       "</table>\n",
       "</div>"
      ],
      "text/plain": [
       "Empty DataFrame\n",
       "Columns: [name, area, m2, n_rooms, n_bath, price_m2, price, price_reduction, opportunity, last_update, description, url, geo_town, province, ccaa]\n",
       "Index: []"
      ]
     },
     "execution_count": 9,
     "metadata": {},
     "output_type": "execute_result"
    }
   ],
   "source": [
    "checking_nulls(rent_df)"
   ]
  },
  {
   "cell_type": "code",
   "execution_count": 10,
   "id": "e2278b0e",
   "metadata": {},
   "outputs": [
    {
     "data": {
      "text/plain": [
       "(7835, 15)"
      ]
     },
     "execution_count": 10,
     "metadata": {},
     "output_type": "execute_result"
    }
   ],
   "source": [
    "rent_df.shape"
   ]
  },
  {
   "cell_type": "code",
   "execution_count": 11,
   "id": "88f6d7e4",
   "metadata": {},
   "outputs": [],
   "source": [
    "numericals = ['m2', 'n_rooms', 'n_bath', 'price_m2', 'price', 'price_reduction', 'last_update']\n",
    "convet_to_numerical(rent_df, numericals)"
   ]
  },
  {
   "cell_type": "code",
   "execution_count": 12,
   "id": "afb7259d",
   "metadata": {},
   "outputs": [
    {
     "data": {
      "text/plain": [
       "name               object\n",
       "area               object\n",
       "m2                  int64\n",
       "n_rooms             int64\n",
       "n_bath              int64\n",
       "price_m2            int64\n",
       "price               int64\n",
       "price_reduction     int64\n",
       "opportunity        object\n",
       "last_update         int64\n",
       "description        object\n",
       "url                object\n",
       "geo_town           object\n",
       "province           object\n",
       "ccaa               object\n",
       "dtype: object"
      ]
     },
     "execution_count": 12,
     "metadata": {},
     "output_type": "execute_result"
    }
   ],
   "source": [
    "rent_df.dtypes"
   ]
  },
  {
   "cell_type": "code",
   "execution_count": 13,
   "id": "5fed1f83",
   "metadata": {},
   "outputs": [
    {
     "data": {
      "text/html": [
       "<div>\n",
       "<style scoped>\n",
       "    .dataframe tbody tr th:only-of-type {\n",
       "        vertical-align: middle;\n",
       "    }\n",
       "\n",
       "    .dataframe tbody tr th {\n",
       "        vertical-align: top;\n",
       "    }\n",
       "\n",
       "    .dataframe thead th {\n",
       "        text-align: right;\n",
       "    }\n",
       "</style>\n",
       "<table border=\"1\" class=\"dataframe\">\n",
       "  <thead>\n",
       "    <tr style=\"text-align: right;\">\n",
       "      <th></th>\n",
       "      <th>name</th>\n",
       "      <th>area</th>\n",
       "      <th>m2</th>\n",
       "      <th>n_rooms</th>\n",
       "      <th>n_bath</th>\n",
       "      <th>price_m2</th>\n",
       "      <th>price</th>\n",
       "      <th>price_reduction</th>\n",
       "      <th>opportunity</th>\n",
       "      <th>last_update</th>\n",
       "      <th>description</th>\n",
       "      <th>url</th>\n",
       "      <th>geo_town</th>\n",
       "      <th>province</th>\n",
       "      <th>ccaa</th>\n",
       "    </tr>\n",
       "  </thead>\n",
       "  <tbody>\n",
       "    <tr>\n",
       "      <th>0</th>\n",
       "      <td>Alquiler Piso  en  Carrer ponent, 11. Obra nueva</td>\n",
       "      <td>Abrera</td>\n",
       "      <td>45</td>\n",
       "      <td>1</td>\n",
       "      <td>1</td>\n",
       "      <td>14</td>\n",
       "      <td>630</td>\n",
       "      <td>0</td>\n",
       "      <td>yes</td>\n",
       "      <td>0</td>\n",
       "      <td>Piso en alquiler de obra nueva en el centro de...</td>\n",
       "      <td>https://www.habitaclia.com/alquiler-piso-obra_...</td>\n",
       "      <td>abrera</td>\n",
       "      <td>barcelona</td>\n",
       "      <td>cataluña</td>\n",
       "    </tr>\n",
       "    <tr>\n",
       "      <th>1</th>\n",
       "      <td>Alquiler Piso  en  Carrer ponent, 11. Obra nueva</td>\n",
       "      <td>Abrera</td>\n",
       "      <td>55</td>\n",
       "      <td>2</td>\n",
       "      <td>1</td>\n",
       "      <td>13</td>\n",
       "      <td>750</td>\n",
       "      <td>0</td>\n",
       "      <td>no</td>\n",
       "      <td>0</td>\n",
       "      <td>Pisos en alquiler de obra nueva en el centro d...</td>\n",
       "      <td>https://www.habitaclia.com/alquiler-piso-obra_...</td>\n",
       "      <td>abrera</td>\n",
       "      <td>barcelona</td>\n",
       "      <td>cataluña</td>\n",
       "    </tr>\n",
       "    <tr>\n",
       "      <th>2</th>\n",
       "      <td>Alquiler Piso  en  Carrer ponent, 11. Obra nueva</td>\n",
       "      <td>Abrera</td>\n",
       "      <td>78</td>\n",
       "      <td>2</td>\n",
       "      <td>1</td>\n",
       "      <td>10</td>\n",
       "      <td>820</td>\n",
       "      <td>0</td>\n",
       "      <td>no</td>\n",
       "      <td>0</td>\n",
       "      <td>Pisos en alquiler de obra nueva en el centro d...</td>\n",
       "      <td>https://www.habitaclia.com/alquiler-piso-obra_...</td>\n",
       "      <td>abrera</td>\n",
       "      <td>barcelona</td>\n",
       "      <td>cataluña</td>\n",
       "    </tr>\n",
       "  </tbody>\n",
       "</table>\n",
       "</div>"
      ],
      "text/plain": [
       "                                               name    area  m2  n_rooms  \\\n",
       "0  Alquiler Piso  en  Carrer ponent, 11. Obra nueva  Abrera  45        1   \n",
       "1  Alquiler Piso  en  Carrer ponent, 11. Obra nueva  Abrera  55        2   \n",
       "2  Alquiler Piso  en  Carrer ponent, 11. Obra nueva  Abrera  78        2   \n",
       "\n",
       "   n_bath  price_m2  price  price_reduction opportunity  last_update  \\\n",
       "0       1        14    630                0         yes            0   \n",
       "1       1        13    750                0          no            0   \n",
       "2       1        10    820                0          no            0   \n",
       "\n",
       "                                         description  \\\n",
       "0  Piso en alquiler de obra nueva en el centro de...   \n",
       "1  Pisos en alquiler de obra nueva en el centro d...   \n",
       "2  Pisos en alquiler de obra nueva en el centro d...   \n",
       "\n",
       "                                                 url geo_town   province  \\\n",
       "0  https://www.habitaclia.com/alquiler-piso-obra_...   abrera  barcelona   \n",
       "1  https://www.habitaclia.com/alquiler-piso-obra_...   abrera  barcelona   \n",
       "2  https://www.habitaclia.com/alquiler-piso-obra_...   abrera  barcelona   \n",
       "\n",
       "       ccaa  \n",
       "0  cataluña  \n",
       "1  cataluña  \n",
       "2  cataluña  "
      ]
     },
     "execution_count": 13,
     "metadata": {},
     "output_type": "execute_result"
    }
   ],
   "source": [
    "rent_df.head(3)"
   ]
  },
  {
   "cell_type": "markdown",
   "id": "e2707e80",
   "metadata": {},
   "source": [
    "### Defining the df for the model"
   ]
  },
  {
   "cell_type": "code",
   "execution_count": 20,
   "id": "3d253094",
   "metadata": {},
   "outputs": [],
   "source": [
    "X = rent_df[['m2', 'n_rooms', 'n_bath', 'opportunity', 'last_update', 'geo_town', 'province', 'ccaa']].copy()\n",
    "y = rent_df[['price']].copy()"
   ]
  },
  {
   "cell_type": "code",
   "execution_count": 16,
   "id": "9121b3f1",
   "metadata": {},
   "outputs": [],
   "source": [
    "X_cat = X.select_dtypes('object')\n",
    "X_num = X.select_dtypes('int')"
   ]
  },
  {
   "cell_type": "code",
   "execution_count": null,
   "id": "0441a66a",
   "metadata": {},
   "outputs": [],
   "source": []
  }
 ],
 "metadata": {
  "kernelspec": {
   "display_name": "ironhack_1",
   "language": "python",
   "name": "ironhack_1"
  },
  "language_info": {
   "codemirror_mode": {
    "name": "ipython",
    "version": 3
   },
   "file_extension": ".py",
   "mimetype": "text/x-python",
   "name": "python",
   "nbconvert_exporter": "python",
   "pygments_lexer": "ipython3",
   "version": "3.8.5"
  }
 },
 "nbformat": 4,
 "nbformat_minor": 5
}
