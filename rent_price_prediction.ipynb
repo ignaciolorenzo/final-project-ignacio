{
 "cells": [
  {
   "cell_type": "markdown",
   "metadata": {},
   "source": [
    "# Imports"
   ]
  },
  {
   "cell_type": "code",
   "execution_count": 1,
   "metadata": {},
   "outputs": [],
   "source": [
    "import pandas as pd\n",
    "import seaborn as sns\n",
    "import matplotlib.pyplot as plt\n",
    "import warnings\n",
    "from functions import *\n",
    "import numpy as np\n",
    "from sklearn.model_selection import train_test_split\n",
    "from sklearn.linear_model import LinearRegression\n",
    "from sklearn.metrics import r2_score, mean_squared_error, mean_absolute_error\n",
    "from sklearn.preprocessing import OneHotEncoder, Normalizer, MinMaxScaler\n",
    "from sklearn import preprocessing\n",
    "import scipy.stats as stats\n",
    "from scipy.special import inv_boxcox\n",
    "import statsmodels.api as sm\n",
    "from imblearn.over_sampling import SMOTE\n",
    "import matplotlib.ticker as ticker\n",
    "from sklearn.pipeline import Pipeline\n",
    "from sklearn.ensemble import RandomForestRegressor\n",
    "from sklearn.model_selection import GridSearchCV\n",
    "\n",
    "warnings.filterwarnings('ignore')"
   ]
  },
  {
   "cell_type": "code",
   "execution_count": 2,
   "metadata": {},
   "outputs": [],
   "source": [
    "rent_df = pd.read_csv('/Users/ignaciolorenzoqueralt/Documents/Ironhack/Final Project/properties/rent/2021.11.17_cataluña_1300_5.csv', engine='python' )\n",
    "rent_df = rent_df.loc[:, ~rent_df.columns.str.contains('^Unnamed')]"
   ]
  },
  {
   "cell_type": "markdown",
   "metadata": {},
   "source": [
    "# Working on the data"
   ]
  },
  {
   "cell_type": "markdown",
   "metadata": {},
   "source": [
    "### Adding sqm price for each neighborhood"
   ]
  },
  {
   "cell_type": "code",
   "execution_count": 3,
   "metadata": {},
   "outputs": [],
   "source": [
    "rent_df['hood_price_m2'] = \"\"\n",
    "\n",
    "for index, row in rent_df.iterrows():\n",
    "    hood_price_m2 = rent_df[rent_df['neighborhood'] == rent_df['neighborhood'][index]]['price_m2'].mean()\n",
    "    rent_df['hood_price_m2'][index] = hood_price_m2"
   ]
  },
  {
   "cell_type": "markdown",
   "metadata": {},
   "source": [
    "### Cleaning the data"
   ]
  },
  {
   "cell_type": "markdown",
   "metadata": {},
   "source": [
    "- Replacing nulls from last_update:"
   ]
  },
  {
   "cell_type": "code",
   "execution_count": 4,
   "metadata": {},
   "outputs": [],
   "source": [
    "clean_last_update(rent_df, c = 'last_update')"
   ]
  },
  {
   "cell_type": "markdown",
   "metadata": {},
   "source": [
    "- Replacing null values of lift column with 'no'. All properties with no lift data don't have a lift."
   ]
  },
  {
   "cell_type": "code",
   "execution_count": 5,
   "metadata": {},
   "outputs": [],
   "source": [
    "fill_lift_column(rent_df)"
   ]
  },
  {
   "cell_type": "markdown",
   "metadata": {},
   "source": [
    "- Dealing with null values"
   ]
  },
  {
   "cell_type": "code",
   "execution_count": 6,
   "metadata": {},
   "outputs": [
    {
     "name": "stdout",
     "output_type": "stream",
     "text": [
      "The column  area  has  11  null values\n",
      "The column  floor  has  2511  null values\n",
      "The column  ccaa  has  22  null values\n",
      "The column  description  has  11  null values\n",
      "The column  geo_town  has  36  null values\n",
      "The column  m2  has  36  null values\n",
      "The column  n_bath  has  36  null values\n",
      "The column  n_rooms  has  36  null values\n",
      "The column  name  has  36  null values\n",
      "The column  neighborhood  has  36  null values\n",
      "The column  opportunity  has  36  null values\n",
      "The column  price  has  36  null values\n",
      "The column  price_m2  has  61  null values\n",
      "The column  price_reduction  has  61  null values\n",
      "The column  province  has  61  null values\n",
      "The column  url  has  61  null values\n",
      "The column  hood_price_m2  has  61  null values\n"
     ]
    }
   ],
   "source": [
    "checking_nulls(rent_df)"
   ]
  },
  {
   "cell_type": "code",
   "execution_count": 7,
   "metadata": {},
   "outputs": [],
   "source": [
    "rent_df = rent_df.dropna()"
   ]
  },
  {
   "cell_type": "code",
   "execution_count": 8,
   "metadata": {},
   "outputs": [
    {
     "data": {
      "text/html": [
       "<div>\n",
       "<style scoped>\n",
       "    .dataframe tbody tr th:only-of-type {\n",
       "        vertical-align: middle;\n",
       "    }\n",
       "\n",
       "    .dataframe tbody tr th {\n",
       "        vertical-align: top;\n",
       "    }\n",
       "\n",
       "    .dataframe thead th {\n",
       "        text-align: right;\n",
       "    }\n",
       "</style>\n",
       "<table border=\"1\" class=\"dataframe\">\n",
       "  <thead>\n",
       "    <tr style=\"text-align: right;\">\n",
       "      <th></th>\n",
       "      <th>area</th>\n",
       "      <th>floor</th>\n",
       "      <th>ccaa</th>\n",
       "      <th>description</th>\n",
       "      <th>geo_town</th>\n",
       "      <th>last_update</th>\n",
       "      <th>lift</th>\n",
       "      <th>m2</th>\n",
       "      <th>n_bath</th>\n",
       "      <th>n_rooms</th>\n",
       "      <th>name</th>\n",
       "      <th>neighborhood</th>\n",
       "      <th>opportunity</th>\n",
       "      <th>price</th>\n",
       "      <th>price_m2</th>\n",
       "      <th>price_reduction</th>\n",
       "      <th>province</th>\n",
       "      <th>url</th>\n",
       "      <th>hood_price_m2</th>\n",
       "    </tr>\n",
       "  </thead>\n",
       "  <tbody>\n",
       "    <tr>\n",
       "      <th>1</th>\n",
       "      <td>Arenys de Mar</td>\n",
       "      <td>first</td>\n",
       "      <td>cataluña</td>\n",
       "      <td>INMUEBLE NO SUJETO A LA LIMITACIÓN DE PRECIOS ...</td>\n",
       "      <td>arenys_de_mar</td>\n",
       "      <td>0.0</td>\n",
       "      <td>yes</td>\n",
       "      <td>70</td>\n",
       "      <td>1</td>\n",
       "      <td>3.0</td>\n",
       "      <td>Alquiler Apartamento  N ii junquera. Por meses...</td>\n",
       "      <td>Urbanitzacions</td>\n",
       "      <td>no</td>\n",
       "      <td>900</td>\n",
       "      <td>12.0</td>\n",
       "      <td>80.0</td>\n",
       "      <td>barcelona</td>\n",
       "      <td>https://www.habitaclia.com/alquiler-apartament...</td>\n",
       "      <td>9.368421</td>\n",
       "    </tr>\n",
       "  </tbody>\n",
       "</table>\n",
       "</div>"
      ],
      "text/plain": [
       "             area  floor      ccaa  \\\n",
       "1  Arenys de Mar   first  cataluña   \n",
       "\n",
       "                                         description       geo_town  \\\n",
       "1  INMUEBLE NO SUJETO A LA LIMITACIÓN DE PRECIOS ...  arenys_de_mar   \n",
       "\n",
       "   last_update lift  m2 n_bath  n_rooms  \\\n",
       "1          0.0  yes  70      1      3.0   \n",
       "\n",
       "                                                name    neighborhood  \\\n",
       "1  Alquiler Apartamento  N ii junquera. Por meses...  Urbanitzacions   \n",
       "\n",
       "  opportunity price  price_m2  price_reduction   province  \\\n",
       "1          no   900      12.0             80.0  barcelona   \n",
       "\n",
       "                                                 url hood_price_m2  \n",
       "1  https://www.habitaclia.com/alquiler-apartament...      9.368421  "
      ]
     },
     "execution_count": 8,
     "metadata": {},
     "output_type": "execute_result"
    }
   ],
   "source": [
    "rent_df.head(1)"
   ]
  },
  {
   "cell_type": "markdown",
   "metadata": {},
   "source": [
    "- Creating df with the neighborhoods of the df and its hood_price_m2:"
   ]
  },
  {
   "cell_type": "code",
   "execution_count": 9,
   "metadata": {},
   "outputs": [
    {
     "data": {
      "text/html": [
       "<div>\n",
       "<style scoped>\n",
       "    .dataframe tbody tr th:only-of-type {\n",
       "        vertical-align: middle;\n",
       "    }\n",
       "\n",
       "    .dataframe tbody tr th {\n",
       "        vertical-align: top;\n",
       "    }\n",
       "\n",
       "    .dataframe thead th {\n",
       "        text-align: right;\n",
       "    }\n",
       "</style>\n",
       "<table border=\"1\" class=\"dataframe\">\n",
       "  <thead>\n",
       "    <tr style=\"text-align: right;\">\n",
       "      <th></th>\n",
       "      <th>neighborhood</th>\n",
       "      <th>geo_town</th>\n",
       "      <th>hood_price_m2</th>\n",
       "    </tr>\n",
       "  </thead>\n",
       "  <tbody>\n",
       "    <tr>\n",
       "      <th>0</th>\n",
       "      <td>Zona alta</td>\n",
       "      <td>arenys_de_mar</td>\n",
       "      <td>9.333333</td>\n",
       "    </tr>\n",
       "    <tr>\n",
       "      <th>1</th>\n",
       "      <td>Nucli Urbà</td>\n",
       "      <td>argentona</td>\n",
       "      <td>8.384615</td>\n",
       "    </tr>\n",
       "    <tr>\n",
       "      <th>2</th>\n",
       "      <td>Montigalà</td>\n",
       "      <td>badalona</td>\n",
       "      <td>12.0</td>\n",
       "    </tr>\n",
       "  </tbody>\n",
       "</table>\n",
       "</div>"
      ],
      "text/plain": [
       "  neighborhood       geo_town hood_price_m2\n",
       "0    Zona alta  arenys_de_mar      9.333333\n",
       "1   Nucli Urbà      argentona      8.384615\n",
       "2    Montigalà       badalona          12.0"
      ]
     },
     "execution_count": 9,
     "metadata": {},
     "output_type": "execute_result"
    }
   ],
   "source": [
    "neighborhood_price_sqm = rent_df[['neighborhood','geo_town','hood_price_m2']].copy()\n",
    "neighborhood_price_sqm.drop_duplicates(keep=False,inplace=True)\n",
    "neighborhood_price_sqm = neighborhood_price_sqm.reset_index(drop=True)\n",
    "neighborhood_price_sqm.head(3)"
   ]
  },
  {
   "cell_type": "markdown",
   "metadata": {},
   "source": [
    "- Cleaning numerical variables"
   ]
  },
  {
   "cell_type": "code",
   "execution_count": 10,
   "metadata": {},
   "outputs": [],
   "source": [
    "numericals = ['m2', 'n_rooms', 'n_bath', 'price_m2', 'price', 'price_reduction', 'last_update', 'hood_price_m2']\n",
    "convert_to_numerical(rent_df, numericals)"
   ]
  },
  {
   "cell_type": "markdown",
   "metadata": {},
   "source": [
    "- Filtering out towns in which there are less than x properties listed."
   ]
  },
  {
   "cell_type": "code",
   "execution_count": 11,
   "metadata": {},
   "outputs": [],
   "source": [
    "filtered_towns = list(rent_df['geo_town'].value_counts()[lambda x: x > 10].index)\n",
    "rent_df = rent_df[rent_df['geo_town'].isin(filtered_towns)]"
   ]
  },
  {
   "cell_type": "markdown",
   "metadata": {},
   "source": [
    "# Exploratory analysis"
   ]
  },
  {
   "cell_type": "code",
   "execution_count": 12,
   "metadata": {},
   "outputs": [
    {
     "data": {
      "text/html": [
       "<div>\n",
       "<style scoped>\n",
       "    .dataframe tbody tr th:only-of-type {\n",
       "        vertical-align: middle;\n",
       "    }\n",
       "\n",
       "    .dataframe tbody tr th {\n",
       "        vertical-align: top;\n",
       "    }\n",
       "\n",
       "    .dataframe thead th {\n",
       "        text-align: right;\n",
       "    }\n",
       "</style>\n",
       "<table border=\"1\" class=\"dataframe\">\n",
       "  <thead>\n",
       "    <tr style=\"text-align: right;\">\n",
       "      <th></th>\n",
       "      <th>area</th>\n",
       "      <th>floor</th>\n",
       "      <th>ccaa</th>\n",
       "      <th>description</th>\n",
       "      <th>geo_town</th>\n",
       "      <th>last_update</th>\n",
       "      <th>lift</th>\n",
       "      <th>m2</th>\n",
       "      <th>n_bath</th>\n",
       "      <th>n_rooms</th>\n",
       "      <th>name</th>\n",
       "      <th>neighborhood</th>\n",
       "      <th>opportunity</th>\n",
       "      <th>price</th>\n",
       "      <th>price_m2</th>\n",
       "      <th>price_reduction</th>\n",
       "      <th>province</th>\n",
       "      <th>url</th>\n",
       "      <th>hood_price_m2</th>\n",
       "    </tr>\n",
       "  </thead>\n",
       "  <tbody>\n",
       "    <tr>\n",
       "      <th>1</th>\n",
       "      <td>Arenys de Mar</td>\n",
       "      <td>first</td>\n",
       "      <td>cataluña</td>\n",
       "      <td>INMUEBLE NO SUJETO A LA LIMITACIÓN DE PRECIOS ...</td>\n",
       "      <td>arenys_de_mar</td>\n",
       "      <td>0</td>\n",
       "      <td>yes</td>\n",
       "      <td>70</td>\n",
       "      <td>1</td>\n",
       "      <td>3</td>\n",
       "      <td>Alquiler Apartamento  N ii junquera. Por meses...</td>\n",
       "      <td>Urbanitzacions</td>\n",
       "      <td>no</td>\n",
       "      <td>900</td>\n",
       "      <td>12</td>\n",
       "      <td>80</td>\n",
       "      <td>barcelona</td>\n",
       "      <td>https://www.habitaclia.com/alquiler-apartament...</td>\n",
       "      <td>9</td>\n",
       "    </tr>\n",
       "    <tr>\n",
       "      <th>2</th>\n",
       "      <td>Arenys de Mar</td>\n",
       "      <td>fourth</td>\n",
       "      <td>cataluña</td>\n",
       "      <td>Vivienda en la Urbanización Carolines de Areny...</td>\n",
       "      <td>arenys_de_mar</td>\n",
       "      <td>8</td>\n",
       "      <td>yes</td>\n",
       "      <td>89</td>\n",
       "      <td>1</td>\n",
       "      <td>2</td>\n",
       "      <td>Alquiler Piso  en  Carrer mig (del), 20. Vivie...</td>\n",
       "      <td>Urbanitzacions</td>\n",
       "      <td>no</td>\n",
       "      <td>680</td>\n",
       "      <td>7</td>\n",
       "      <td>20</td>\n",
       "      <td>barcelona</td>\n",
       "      <td>https://www.habitaclia.com/alquiler-piso-vivie...</td>\n",
       "      <td>9</td>\n",
       "    </tr>\n",
       "    <tr>\n",
       "      <th>4</th>\n",
       "      <td>Arenys de Mar</td>\n",
       "      <td>second</td>\n",
       "      <td>cataluña</td>\n",
       "      <td>ALQUILER DE TEMPORADA - Bonito piso de 70 m2 t...</td>\n",
       "      <td>arenys_de_mar</td>\n",
       "      <td>13</td>\n",
       "      <td>yes</td>\n",
       "      <td>70</td>\n",
       "      <td>1</td>\n",
       "      <td>3</td>\n",
       "      <td>Alquiler Apartamento  Carrer camí ral del caba...</td>\n",
       "      <td>Urbanitzacions</td>\n",
       "      <td>no</td>\n",
       "      <td>900</td>\n",
       "      <td>12</td>\n",
       "      <td>80</td>\n",
       "      <td>barcelona</td>\n",
       "      <td>https://www.habitaclia.com/alquiler-apartament...</td>\n",
       "      <td>9</td>\n",
       "    </tr>\n",
       "  </tbody>\n",
       "</table>\n",
       "</div>"
      ],
      "text/plain": [
       "             area   floor      ccaa  \\\n",
       "1  Arenys de Mar    first  cataluña   \n",
       "2  Arenys de Mar   fourth  cataluña   \n",
       "4  Arenys de Mar   second  cataluña   \n",
       "\n",
       "                                         description       geo_town  \\\n",
       "1  INMUEBLE NO SUJETO A LA LIMITACIÓN DE PRECIOS ...  arenys_de_mar   \n",
       "2  Vivienda en la Urbanización Carolines de Areny...  arenys_de_mar   \n",
       "4  ALQUILER DE TEMPORADA - Bonito piso de 70 m2 t...  arenys_de_mar   \n",
       "\n",
       "   last_update lift  m2  n_bath  n_rooms  \\\n",
       "1            0  yes  70       1        3   \n",
       "2            8  yes  89       1        2   \n",
       "4           13  yes  70       1        3   \n",
       "\n",
       "                                                name    neighborhood  \\\n",
       "1  Alquiler Apartamento  N ii junquera. Por meses...  Urbanitzacions   \n",
       "2  Alquiler Piso  en  Carrer mig (del), 20. Vivie...  Urbanitzacions   \n",
       "4  Alquiler Apartamento  Carrer camí ral del caba...  Urbanitzacions   \n",
       "\n",
       "  opportunity  price  price_m2  price_reduction   province  \\\n",
       "1          no    900        12               80  barcelona   \n",
       "2          no    680         7               20  barcelona   \n",
       "4          no    900        12               80  barcelona   \n",
       "\n",
       "                                                 url  hood_price_m2  \n",
       "1  https://www.habitaclia.com/alquiler-apartament...              9  \n",
       "2  https://www.habitaclia.com/alquiler-piso-vivie...              9  \n",
       "4  https://www.habitaclia.com/alquiler-apartament...              9  "
      ]
     },
     "execution_count": 12,
     "metadata": {},
     "output_type": "execute_result"
    }
   ],
   "source": [
    "rent_df.head(3)"
   ]
  },
  {
   "cell_type": "code",
   "execution_count": 13,
   "metadata": {},
   "outputs": [
    {
     "data": {
      "text/plain": [
       "(2276, 19)"
      ]
     },
     "execution_count": 13,
     "metadata": {},
     "output_type": "execute_result"
    }
   ],
   "source": [
    "rent_df.shape"
   ]
  },
  {
   "cell_type": "code",
   "execution_count": 14,
   "metadata": {},
   "outputs": [
    {
     "data": {
      "text/plain": [
       "area               object\n",
       "floor              object\n",
       "ccaa               object\n",
       "description        object\n",
       "geo_town           object\n",
       "last_update         int64\n",
       "lift               object\n",
       "m2                  int64\n",
       "n_bath              int64\n",
       "n_rooms             int64\n",
       "name               object\n",
       "neighborhood       object\n",
       "opportunity        object\n",
       "price               int64\n",
       "price_m2            int64\n",
       "price_reduction     int64\n",
       "province           object\n",
       "url                object\n",
       "hood_price_m2       int64\n",
       "dtype: object"
      ]
     },
     "execution_count": 14,
     "metadata": {},
     "output_type": "execute_result"
    }
   ],
   "source": [
    "rent_df.dtypes"
   ]
  },
  {
   "cell_type": "code",
   "execution_count": 15,
   "metadata": {},
   "outputs": [
    {
     "data": {
      "image/png": "[encoded data removed]",
      "text/plain": [
       "<Figure size 1008x360 with 1 Axes>"
      ]
     },
     "metadata": {
      "needs_background": "light"
     },
     "output_type": "display_data"
    }
   ],
   "source": [
    "countplot(rent_df,c = \"geo_town\")"
   ]
  },
  {
   "cell_type": "markdown",
   "metadata": {},
   "source": [
    "# Model"
   ]
  },
  {
   "cell_type": "markdown",
   "metadata": {},
   "source": [
    "#### Feature selection"
   ]
  },
  {
   "cell_type": "markdown",
   "metadata": {},
   "source": [
    "We skip neighborhood as it would add too many distinct categorical values which would increase too much the size of the model when encoding it."
   ]
  },
  {
   "cell_type": "markdown",
   "metadata": {},
   "source": [
    "## Model for small towns"
   ]
  },
  {
   "cell_type": "code",
   "execution_count": 16,
   "metadata": {},
   "outputs": [],
   "source": [
    "model_df = rent_df[['m2', 'n_rooms', 'n_bath', 'last_update', 'geo_town', 'province', 'ccaa', 'price', 'lift', 'floor', 'hood_price_m2']].copy()"
   ]
  },
  {
   "cell_type": "markdown",
   "metadata": {},
   "source": [
    "#### Filtering out big cities"
   ]
  },
  {
   "cell_type": "code",
   "execution_count": 17,
   "metadata": {},
   "outputs": [],
   "source": [
    "model_df_small = model_df[model_df['geo_town'] != filtering_big_cities(model_df)]"
   ]
  },
  {
   "cell_type": "markdown",
   "metadata": {},
   "source": [
    "#### Removing outliers"
   ]
  },
  {
   "cell_type": "code",
   "execution_count": 18,
   "metadata": {},
   "outputs": [],
   "source": [
    "model_df_small = remove_outliers(model_df_small, threshold=1.5, in_columns = ['m2', 'n_rooms', 'last_update', 'price', 'hood_price_m2'])"
   ]
  },
  {
   "cell_type": "markdown",
   "metadata": {},
   "source": [
    "#### Visualising our data"
   ]
  },
  {
   "cell_type": "code",
   "execution_count": 19,
   "metadata": {},
   "outputs": [
    {
     "data": {
      "image/png": "[encoded data removed]",
      "text/plain": [
       "<Figure size 648x648 with 6 Axes>"
      ]
     },
     "metadata": {
      "needs_background": "light"
     },
     "output_type": "display_data"
    }
   ],
   "source": [
    "fig, axes = plt.subplots(nrows=3, ncols=2, figsize=(9, 9))\n",
    "axes = axes.flat\n",
    "numeric_columns = model_df_small.select_dtypes(include=['float64', 'int']).columns\n",
    "\n",
    "for i, column in enumerate(numeric_columns):\n",
    "    sns.histplot(\n",
    "        data    = model_df_small,\n",
    "        x       = column,\n",
    "        stat    = \"count\",\n",
    "        kde     = True,\n",
    "        color   = (list(plt.rcParams['axes.prop_cycle'])*2)[i][\"color\"],\n",
    "        line_kws= {'linewidth': 2},\n",
    "        alpha   = 0.3,\n",
    "        ax      = axes[i]\n",
    "    )\n",
    "    axes[i].set_title(column, fontsize = 12, fontweight = \"bold\")\n",
    "    axes[i].tick_params(labelsize = 12)\n",
    "    axes[i].set_xlabel(\"\")\n",
    "    \n",
    "fig.tight_layout()\n",
    "plt.subplots_adjust(top = 0.9)\n",
    "fig.suptitle('Numerical features', fontsize = 12, fontweight = \"bold\");"
   ]
  },
  {
   "cell_type": "markdown",
   "metadata": {},
   "source": [
    "#### X-y Split"
   ]
  },
  {
   "cell_type": "code",
   "execution_count": 20,
   "metadata": {},
   "outputs": [],
   "source": [
    "X = model_df_small.drop('price', axis=1)\n",
    "y = model_df_small[['price']].copy()"
   ]
  },
  {
   "cell_type": "markdown",
   "metadata": {},
   "source": [
    "#### Encoding categoricals and normalizing numericals"
   ]
  },
  {
   "cell_type": "code",
   "execution_count": 21,
   "metadata": {},
   "outputs": [
    {
     "data": {
      "text/plain": [
       "(693, 44)"
      ]
     },
     "execution_count": 21,
     "metadata": {},
     "output_type": "execute_result"
    }
   ],
   "source": [
    "X_cat = X.select_dtypes('object')\n",
    "X_num = X.select_dtypes('int')\n",
    "\n",
    "X_cat_enc = pd.get_dummies(X_cat, drop_first=True)\n",
    "X_num_norm, _ci = boxcox_transform(X_num)\n",
    "\n",
    "X = np.concatenate([X_num_norm, X_cat_enc], axis=1)\n",
    "X.shape"
   ]
  },
  {
   "cell_type": "markdown",
   "metadata": {},
   "source": [
    "#### Train-test split"
   ]
  },
  {
   "cell_type": "code",
   "execution_count": 22,
   "metadata": {},
   "outputs": [],
   "source": [
    "X_train, X_test, y_train, y_test = train_test_split(X, y, test_size=0.3, random_state=10)"
   ]
  },
  {
   "cell_type": "markdown",
   "metadata": {},
   "source": [
    "#### Fitting and running the model"
   ]
  },
  {
   "cell_type": "code",
   "execution_count": 23,
   "metadata": {},
   "outputs": [],
   "source": [
    "model_small_city = LinearRegression()\n",
    "model_small_city.fit(X_train, y_train)\n",
    "\n",
    "predictions = model_small_city.predict(X_test)\n",
    "r2 = r2_score(y_test, predictions)"
   ]
  },
  {
   "cell_type": "code",
   "execution_count": 24,
   "metadata": {},
   "outputs": [
    {
     "name": "stdout",
     "output_type": "stream",
     "text": [
      "R2:  0.6824\n",
      "mean_absolute_error:  93.43890626461663\n",
      "mean_squared_error:  120.8962614544325\n",
      "y_test price mean:  815.4134615384615\n",
      "y_train price mean:  809.0907216494845\n"
     ]
    }
   ],
   "source": [
    "print('R2: ', round(r2,4))\n",
    "print('mean_absolute_error: ', mean_absolute_error(y_test, predictions))\n",
    "print('mean_squared_error: ', mean_squared_error(y_test, predictions, squared=False))\n",
    "print('y_test price mean: ', y_test['price'].mean())\n",
    "print('y_train price mean: ', y_train['price'].mean())"
   ]
  },
  {
   "cell_type": "code",
   "execution_count": 25,
   "metadata": {},
   "outputs": [],
   "source": [
    "y_test['predicted'] = predictions\n",
    "y_test['difference_%'] = ((y_test['predicted']-y_test['price'])/y_test['predicted'])*100"
   ]
  },
  {
   "cell_type": "code",
   "execution_count": 26,
   "metadata": {},
   "outputs": [
    {
     "data": {
      "text/plain": [
       "<AxesSubplot:xlabel='difference_%', ylabel='Count'>"
      ]
     },
     "execution_count": 26,
     "metadata": {},
     "output_type": "execute_result"
    },
    {
     "data": {
      "image/png": "[encoded data removed]",
      "text/plain": [
       "<Figure size 432x288 with 1 Axes>"
      ]
     },
     "metadata": {
      "needs_background": "light"
     },
     "output_type": "display_data"
    }
   ],
   "source": [
    "sns.histplot(\n",
    "        x       = y_test.sort_values(by=\"difference_%\", ascending=False)['difference_%'],\n",
    "        stat    = \"count\",\n",
    "        kde     = True,\n",
    "        color   = (list(plt.rcParams['axes.prop_cycle'])*2)[i][\"color\"],\n",
    "        line_kws= {'linewidth': 2},\n",
    "        alpha   = 0.3\n",
    ")"
   ]
  },
  {
   "cell_type": "markdown",
   "metadata": {},
   "source": [
    "Gridsearch"
   ]
  },
  {
   "cell_type": "code",
   "execution_count": 27,
   "metadata": {},
   "outputs": [],
   "source": [
    "pipe = Pipeline(steps=[('estimator', LinearRegression())])"
   ]
  },
  {
   "cell_type": "code",
   "execution_count": 28,
   "metadata": {},
   "outputs": [],
   "source": [
    "params_grid = [ {'estimator':[LinearRegression()],\n",
    "                },\n",
    "               {'estimator': [RandomForestRegressor()],\n",
    "               'estimator__n_estimators':[50,100, 200, 300],\n",
    "                'estimator__max_depth':[1,2,3, None],\n",
    "                'estimator__min_samples_split':[2,3, None],\n",
    "                'estimator__min_samples_leaf':[1,2],\n",
    "               }\n",
    "              ]"
   ]
  },
  {
   "cell_type": "code",
   "execution_count": 29,
   "metadata": {},
   "outputs": [
    {
     "name": "stdout",
     "output_type": "stream",
     "text": [
      "Fitting 5 folds for each of 97 candidates, totalling 485 fits\n"
     ]
    }
   ],
   "source": [
    "grid = GridSearchCV(pipe, params_grid, n_jobs =-1, verbose = 2)\n",
    "res = grid.fit(X, y)"
   ]
  },
  {
   "cell_type": "code",
   "execution_count": 30,
   "metadata": {},
   "outputs": [
    {
     "data": {
      "text/plain": [
       "{'estimator': RandomForestRegressor(n_estimators=200),\n",
       " 'estimator__max_depth': None,\n",
       " 'estimator__min_samples_leaf': 1,\n",
       " 'estimator__min_samples_split': 2,\n",
       " 'estimator__n_estimators': 200}"
      ]
     },
     "execution_count": 30,
     "metadata": {},
     "output_type": "execute_result"
    }
   ],
   "source": [
    "grid.best_params_"
   ]
  },
  {
   "cell_type": "code",
   "execution_count": 31,
   "metadata": {},
   "outputs": [
    {
     "data": {
      "text/html": [
       "<div>\n",
       "<style scoped>\n",
       "    .dataframe tbody tr th:only-of-type {\n",
       "        vertical-align: middle;\n",
       "    }\n",
       "\n",
       "    .dataframe tbody tr th {\n",
       "        vertical-align: top;\n",
       "    }\n",
       "\n",
       "    .dataframe thead th {\n",
       "        text-align: right;\n",
       "    }\n",
       "</style>\n",
       "<table border=\"1\" class=\"dataframe\">\n",
       "  <thead>\n",
       "    <tr style=\"text-align: right;\">\n",
       "      <th></th>\n",
       "      <th>mean_fit_time</th>\n",
       "      <th>std_fit_time</th>\n",
       "      <th>mean_score_time</th>\n",
       "      <th>std_score_time</th>\n",
       "      <th>param_estimator</th>\n",
       "      <th>param_estimator__max_depth</th>\n",
       "      <th>param_estimator__min_samples_leaf</th>\n",
       "      <th>param_estimator__min_samples_split</th>\n",
       "      <th>param_estimator__n_estimators</th>\n",
       "      <th>params</th>\n",
       "      <th>split0_test_score</th>\n",
       "      <th>split1_test_score</th>\n",
       "      <th>split2_test_score</th>\n",
       "      <th>split3_test_score</th>\n",
       "      <th>split4_test_score</th>\n",
       "      <th>mean_test_score</th>\n",
       "      <th>std_test_score</th>\n",
       "      <th>rank_test_score</th>\n",
       "    </tr>\n",
       "  </thead>\n",
       "  <tbody>\n",
       "    <tr>\n",
       "      <th>0</th>\n",
       "      <td>0.010390</td>\n",
       "      <td>0.006202</td>\n",
       "      <td>0.002619</td>\n",
       "      <td>0.000328</td>\n",
       "      <td>LinearRegression()</td>\n",
       "      <td>NaN</td>\n",
       "      <td>NaN</td>\n",
       "      <td>NaN</td>\n",
       "      <td>NaN</td>\n",
       "      <td>{'estimator': LinearRegression()}</td>\n",
       "      <td>0.507035</td>\n",
       "      <td>0.456329</td>\n",
       "      <td>0.443220</td>\n",
       "      <td>0.439637</td>\n",
       "      <td>0.033266</td>\n",
       "      <td>0.375898</td>\n",
       "      <td>0.173007</td>\n",
       "      <td>14</td>\n",
       "    </tr>\n",
       "    <tr>\n",
       "      <th>1</th>\n",
       "      <td>0.108500</td>\n",
       "      <td>0.002837</td>\n",
       "      <td>0.008901</td>\n",
       "      <td>0.000166</td>\n",
       "      <td>RandomForestRegressor(n_estimators=200)</td>\n",
       "      <td>1</td>\n",
       "      <td>1</td>\n",
       "      <td>2</td>\n",
       "      <td>50</td>\n",
       "      <td>{'estimator': RandomForestRegressor(n_estimato...</td>\n",
       "      <td>0.284166</td>\n",
       "      <td>0.308930</td>\n",
       "      <td>0.139461</td>\n",
       "      <td>0.158690</td>\n",
       "      <td>-0.465082</td>\n",
       "      <td>0.085233</td>\n",
       "      <td>0.283125</td>\n",
       "      <td>61</td>\n",
       "    </tr>\n",
       "    <tr>\n",
       "      <th>2</th>\n",
       "      <td>0.223826</td>\n",
       "      <td>0.006649</td>\n",
       "      <td>0.031558</td>\n",
       "      <td>0.026892</td>\n",
       "      <td>RandomForestRegressor(n_estimators=200)</td>\n",
       "      <td>1</td>\n",
       "      <td>1</td>\n",
       "      <td>2</td>\n",
       "      <td>100</td>\n",
       "      <td>{'estimator': RandomForestRegressor(n_estimato...</td>\n",
       "      <td>0.283116</td>\n",
       "      <td>0.304749</td>\n",
       "      <td>0.138291</td>\n",
       "      <td>0.156013</td>\n",
       "      <td>-0.441176</td>\n",
       "      <td>0.088199</td>\n",
       "      <td>0.272849</td>\n",
       "      <td>55</td>\n",
       "    </tr>\n",
       "    <tr>\n",
       "      <th>3</th>\n",
       "      <td>0.408352</td>\n",
       "      <td>0.012486</td>\n",
       "      <td>0.027475</td>\n",
       "      <td>0.000505</td>\n",
       "      <td>RandomForestRegressor(n_estimators=200)</td>\n",
       "      <td>1</td>\n",
       "      <td>1</td>\n",
       "      <td>2</td>\n",
       "      <td>200</td>\n",
       "      <td>{'estimator': RandomForestRegressor(n_estimato...</td>\n",
       "      <td>0.273458</td>\n",
       "      <td>0.305885</td>\n",
       "      <td>0.145661</td>\n",
       "      <td>0.162614</td>\n",
       "      <td>-0.452752</td>\n",
       "      <td>0.086973</td>\n",
       "      <td>0.276828</td>\n",
       "      <td>57</td>\n",
       "    </tr>\n",
       "    <tr>\n",
       "      <th>4</th>\n",
       "      <td>0.617765</td>\n",
       "      <td>0.012954</td>\n",
       "      <td>0.040776</td>\n",
       "      <td>0.002487</td>\n",
       "      <td>RandomForestRegressor(n_estimators=200)</td>\n",
       "      <td>1</td>\n",
       "      <td>1</td>\n",
       "      <td>2</td>\n",
       "      <td>300</td>\n",
       "      <td>{'estimator': RandomForestRegressor(n_estimato...</td>\n",
       "      <td>0.279585</td>\n",
       "      <td>0.306174</td>\n",
       "      <td>0.143797</td>\n",
       "      <td>0.168732</td>\n",
       "      <td>-0.460018</td>\n",
       "      <td>0.087654</td>\n",
       "      <td>0.280805</td>\n",
       "      <td>56</td>\n",
       "    </tr>\n",
       "    <tr>\n",
       "      <th>...</th>\n",
       "      <td>...</td>\n",
       "      <td>...</td>\n",
       "      <td>...</td>\n",
       "      <td>...</td>\n",
       "      <td>...</td>\n",
       "      <td>...</td>\n",
       "      <td>...</td>\n",
       "      <td>...</td>\n",
       "      <td>...</td>\n",
       "      <td>...</td>\n",
       "      <td>...</td>\n",
       "      <td>...</td>\n",
       "      <td>...</td>\n",
       "      <td>...</td>\n",
       "      <td>...</td>\n",
       "      <td>...</td>\n",
       "      <td>...</td>\n",
       "      <td>...</td>\n",
       "    </tr>\n",
       "    <tr>\n",
       "      <th>92</th>\n",
       "      <td>1.151566</td>\n",
       "      <td>0.022034</td>\n",
       "      <td>0.046234</td>\n",
       "      <td>0.002260</td>\n",
       "      <td>RandomForestRegressor(n_estimators=200)</td>\n",
       "      <td>None</td>\n",
       "      <td>2</td>\n",
       "      <td>3</td>\n",
       "      <td>300</td>\n",
       "      <td>{'estimator': RandomForestRegressor(n_estimato...</td>\n",
       "      <td>0.479791</td>\n",
       "      <td>0.463880</td>\n",
       "      <td>0.421391</td>\n",
       "      <td>0.463704</td>\n",
       "      <td>0.057313</td>\n",
       "      <td>0.377216</td>\n",
       "      <td>0.161122</td>\n",
       "      <td>12</td>\n",
       "    </tr>\n",
       "    <tr>\n",
       "      <th>93</th>\n",
       "      <td>0.035699</td>\n",
       "      <td>0.002102</td>\n",
       "      <td>0.000000</td>\n",
       "      <td>0.000000</td>\n",
       "      <td>RandomForestRegressor(n_estimators=200)</td>\n",
       "      <td>None</td>\n",
       "      <td>2</td>\n",
       "      <td>None</td>\n",
       "      <td>50</td>\n",
       "      <td>{'estimator': RandomForestRegressor(n_estimato...</td>\n",
       "      <td>NaN</td>\n",
       "      <td>NaN</td>\n",
       "      <td>NaN</td>\n",
       "      <td>NaN</td>\n",
       "      <td>NaN</td>\n",
       "      <td>NaN</td>\n",
       "      <td>NaN</td>\n",
       "      <td>69</td>\n",
       "    </tr>\n",
       "    <tr>\n",
       "      <th>94</th>\n",
       "      <td>0.065424</td>\n",
       "      <td>0.002606</td>\n",
       "      <td>0.000000</td>\n",
       "      <td>0.000000</td>\n",
       "      <td>RandomForestRegressor(n_estimators=200)</td>\n",
       "      <td>None</td>\n",
       "      <td>2</td>\n",
       "      <td>None</td>\n",
       "      <td>100</td>\n",
       "      <td>{'estimator': RandomForestRegressor(n_estimato...</td>\n",
       "      <td>NaN</td>\n",
       "      <td>NaN</td>\n",
       "      <td>NaN</td>\n",
       "      <td>NaN</td>\n",
       "      <td>NaN</td>\n",
       "      <td>NaN</td>\n",
       "      <td>NaN</td>\n",
       "      <td>70</td>\n",
       "    </tr>\n",
       "    <tr>\n",
       "      <th>95</th>\n",
       "      <td>0.127520</td>\n",
       "      <td>0.002929</td>\n",
       "      <td>0.000000</td>\n",
       "      <td>0.000000</td>\n",
       "      <td>RandomForestRegressor(n_estimators=200)</td>\n",
       "      <td>None</td>\n",
       "      <td>2</td>\n",
       "      <td>None</td>\n",
       "      <td>200</td>\n",
       "      <td>{'estimator': RandomForestRegressor(n_estimato...</td>\n",
       "      <td>NaN</td>\n",
       "      <td>NaN</td>\n",
       "      <td>NaN</td>\n",
       "      <td>NaN</td>\n",
       "      <td>NaN</td>\n",
       "      <td>NaN</td>\n",
       "      <td>NaN</td>\n",
       "      <td>90</td>\n",
       "    </tr>\n",
       "    <tr>\n",
       "      <th>96</th>\n",
       "      <td>0.182090</td>\n",
       "      <td>0.012387</td>\n",
       "      <td>0.000000</td>\n",
       "      <td>0.000000</td>\n",
       "      <td>RandomForestRegressor(n_estimators=200)</td>\n",
       "      <td>None</td>\n",
       "      <td>2</td>\n",
       "      <td>None</td>\n",
       "      <td>300</td>\n",
       "      <td>{'estimator': RandomForestRegressor(n_estimato...</td>\n",
       "      <td>NaN</td>\n",
       "      <td>NaN</td>\n",
       "      <td>NaN</td>\n",
       "      <td>NaN</td>\n",
       "      <td>NaN</td>\n",
       "      <td>NaN</td>\n",
       "      <td>NaN</td>\n",
       "      <td>97</td>\n",
       "    </tr>\n",
       "  </tbody>\n",
       "</table>\n",
       "<p>97 rows × 18 columns</p>\n",
       "</div>"
      ],
      "text/plain": [
       "    mean_fit_time  std_fit_time  mean_score_time  std_score_time  \\\n",
       "0        0.010390      0.006202         0.002619        0.000328   \n",
       "1        0.108500      0.002837         0.008901        0.000166   \n",
       "2        0.223826      0.006649         0.031558        0.026892   \n",
       "3        0.408352      0.012486         0.027475        0.000505   \n",
       "4        0.617765      0.012954         0.040776        0.002487   \n",
       "..            ...           ...              ...             ...   \n",
       "92       1.151566      0.022034         0.046234        0.002260   \n",
       "93       0.035699      0.002102         0.000000        0.000000   \n",
       "94       0.065424      0.002606         0.000000        0.000000   \n",
       "95       0.127520      0.002929         0.000000        0.000000   \n",
       "96       0.182090      0.012387         0.000000        0.000000   \n",
       "\n",
       "                            param_estimator param_estimator__max_depth  \\\n",
       "0                        LinearRegression()                        NaN   \n",
       "1   RandomForestRegressor(n_estimators=200)                          1   \n",
       "2   RandomForestRegressor(n_estimators=200)                          1   \n",
       "3   RandomForestRegressor(n_estimators=200)                          1   \n",
       "4   RandomForestRegressor(n_estimators=200)                          1   \n",
       "..                                      ...                        ...   \n",
       "92  RandomForestRegressor(n_estimators=200)                       None   \n",
       "93  RandomForestRegressor(n_estimators=200)                       None   \n",
       "94  RandomForestRegressor(n_estimators=200)                       None   \n",
       "95  RandomForestRegressor(n_estimators=200)                       None   \n",
       "96  RandomForestRegressor(n_estimators=200)                       None   \n",
       "\n",
       "   param_estimator__min_samples_leaf param_estimator__min_samples_split  \\\n",
       "0                                NaN                                NaN   \n",
       "1                                  1                                  2   \n",
       "2                                  1                                  2   \n",
       "3                                  1                                  2   \n",
       "4                                  1                                  2   \n",
       "..                               ...                                ...   \n",
       "92                                 2                                  3   \n",
       "93                                 2                               None   \n",
       "94                                 2                               None   \n",
       "95                                 2                               None   \n",
       "96                                 2                               None   \n",
       "\n",
       "   param_estimator__n_estimators  \\\n",
       "0                            NaN   \n",
       "1                             50   \n",
       "2                            100   \n",
       "3                            200   \n",
       "4                            300   \n",
       "..                           ...   \n",
       "92                           300   \n",
       "93                            50   \n",
       "94                           100   \n",
       "95                           200   \n",
       "96                           300   \n",
       "\n",
       "                                               params  split0_test_score  \\\n",
       "0                   {'estimator': LinearRegression()}           0.507035   \n",
       "1   {'estimator': RandomForestRegressor(n_estimato...           0.284166   \n",
       "2   {'estimator': RandomForestRegressor(n_estimato...           0.283116   \n",
       "3   {'estimator': RandomForestRegressor(n_estimato...           0.273458   \n",
       "4   {'estimator': RandomForestRegressor(n_estimato...           0.279585   \n",
       "..                                                ...                ...   \n",
       "92  {'estimator': RandomForestRegressor(n_estimato...           0.479791   \n",
       "93  {'estimator': RandomForestRegressor(n_estimato...                NaN   \n",
       "94  {'estimator': RandomForestRegressor(n_estimato...                NaN   \n",
       "95  {'estimator': RandomForestRegressor(n_estimato...                NaN   \n",
       "96  {'estimator': RandomForestRegressor(n_estimato...                NaN   \n",
       "\n",
       "    split1_test_score  split2_test_score  split3_test_score  \\\n",
       "0            0.456329           0.443220           0.439637   \n",
       "1            0.308930           0.139461           0.158690   \n",
       "2            0.304749           0.138291           0.156013   \n",
       "3            0.305885           0.145661           0.162614   \n",
       "4            0.306174           0.143797           0.168732   \n",
       "..                ...                ...                ...   \n",
       "92           0.463880           0.421391           0.463704   \n",
       "93                NaN                NaN                NaN   \n",
       "94                NaN                NaN                NaN   \n",
       "95                NaN                NaN                NaN   \n",
       "96                NaN                NaN                NaN   \n",
       "\n",
       "    split4_test_score  mean_test_score  std_test_score  rank_test_score  \n",
       "0            0.033266         0.375898        0.173007               14  \n",
       "1           -0.465082         0.085233        0.283125               61  \n",
       "2           -0.441176         0.088199        0.272849               55  \n",
       "3           -0.452752         0.086973        0.276828               57  \n",
       "4           -0.460018         0.087654        0.280805               56  \n",
       "..                ...              ...             ...              ...  \n",
       "92           0.057313         0.377216        0.161122               12  \n",
       "93                NaN              NaN             NaN               69  \n",
       "94                NaN              NaN             NaN               70  \n",
       "95                NaN              NaN             NaN               90  \n",
       "96                NaN              NaN             NaN               97  \n",
       "\n",
       "[97 rows x 18 columns]"
      ]
     },
     "execution_count": 31,
     "metadata": {},
     "output_type": "execute_result"
    }
   ],
   "source": [
    "pd.DataFrame(grid.cv_results_)"
   ]
  },
  {
   "cell_type": "markdown",
   "metadata": {},
   "source": [
    "#### Evaluating variables"
   ]
  },
  {
   "cell_type": "code",
   "execution_count": 32,
   "metadata": {},
   "outputs": [
    {
     "data": {
      "image/png": "[encoded data removed]",
      "text/plain": [
       "<Figure size 720x576 with 2 Axes>"
      ]
     },
     "metadata": {
      "needs_background": "light"
     },
     "output_type": "display_data"
    }
   ],
   "source": [
    "# check the correlations\n",
    "mask = np.zeros_like(model_df.corr())\n",
    "\n",
    "mask[np.triu_indices_from(mask)] = True # optional, to hide repeat half of the matrix\n",
    "\n",
    "fig, ax = plt.subplots(figsize=(10, 8))\n",
    "ax = sns.heatmap(model_df.corr(), mask=mask, annot=True)\n",
    "plt.show()\n"
   ]
  },
  {
   "cell_type": "code",
   "execution_count": 33,
   "metadata": {},
   "outputs": [
    {
     "data": {
      "text/html": [
       "<table class=\"simpletable\">\n",
       "<caption>OLS Regression Results</caption>\n",
       "<tr>\n",
       "  <th>Dep. Variable:</th>          <td>price</td>      <th>  R-squared:         </th> <td>   0.525</td> \n",
       "</tr>\n",
       "<tr>\n",
       "  <th>Model:</th>                   <td>OLS</td>       <th>  Adj. R-squared:    </th> <td>   0.521</td> \n",
       "</tr>\n",
       "<tr>\n",
       "  <th>Method:</th>             <td>Least Squares</td>  <th>  F-statistic:       </th> <td>   151.7</td> \n",
       "</tr>\n",
       "<tr>\n",
       "  <th>Date:</th>             <td>Tue, 23 Nov 2021</td> <th>  Prob (F-statistic):</th> <td>2.06e-108</td>\n",
       "</tr>\n",
       "<tr>\n",
       "  <th>Time:</th>                 <td>23:04:21</td>     <th>  Log-Likelihood:    </th> <td> -4397.4</td> \n",
       "</tr>\n",
       "<tr>\n",
       "  <th>No. Observations:</th>      <td>   693</td>      <th>  AIC:               </th> <td>   8807.</td> \n",
       "</tr>\n",
       "<tr>\n",
       "  <th>Df Residuals:</th>          <td>   687</td>      <th>  BIC:               </th> <td>   8834.</td> \n",
       "</tr>\n",
       "<tr>\n",
       "  <th>Df Model:</th>              <td>     5</td>      <th>                     </th>     <td> </td>    \n",
       "</tr>\n",
       "<tr>\n",
       "  <th>Covariance Type:</th>      <td>nonrobust</td>    <th>                     </th>     <td> </td>    \n",
       "</tr>\n",
       "</table>\n",
       "<table class=\"simpletable\">\n",
       "<tr>\n",
       "        <td></td>           <th>coef</th>     <th>std err</th>      <th>t</th>      <th>P>|t|</th>  <th>[0.025</th>    <th>0.975]</th>  \n",
       "</tr>\n",
       "<tr>\n",
       "  <th>const</th>         <td> -548.0839</td> <td>   83.533</td> <td>   -6.561</td> <td> 0.000</td> <td> -712.094</td> <td> -384.074</td>\n",
       "</tr>\n",
       "<tr>\n",
       "  <th>m2</th>            <td>  158.4439</td> <td>   13.279</td> <td>   11.932</td> <td> 0.000</td> <td>  132.372</td> <td>  184.516</td>\n",
       "</tr>\n",
       "<tr>\n",
       "  <th>n_rooms</th>       <td>  -14.4826</td> <td>    7.890</td> <td>   -1.835</td> <td> 0.067</td> <td>  -29.975</td> <td>    1.010</td>\n",
       "</tr>\n",
       "<tr>\n",
       "  <th>n_bath</th>        <td>  423.3400</td> <td>   45.833</td> <td>    9.236</td> <td> 0.000</td> <td>  333.350</td> <td>  513.330</td>\n",
       "</tr>\n",
       "<tr>\n",
       "  <th>last_update</th>   <td>    0.7733</td> <td>    2.193</td> <td>    0.353</td> <td> 0.724</td> <td>   -3.533</td> <td>    5.079</td>\n",
       "</tr>\n",
       "<tr>\n",
       "  <th>hood_price_m2</th> <td>   11.2512</td> <td>    0.752</td> <td>   14.958</td> <td> 0.000</td> <td>    9.774</td> <td>   12.728</td>\n",
       "</tr>\n",
       "</table>\n",
       "<table class=\"simpletable\">\n",
       "<tr>\n",
       "  <th>Omnibus:</th>       <td>28.360</td> <th>  Durbin-Watson:     </th> <td>   1.444</td>\n",
       "</tr>\n",
       "<tr>\n",
       "  <th>Prob(Omnibus):</th> <td> 0.000</td> <th>  Jarque-Bera (JB):  </th> <td>  36.490</td>\n",
       "</tr>\n",
       "<tr>\n",
       "  <th>Skew:</th>          <td> 0.398</td> <th>  Prob(JB):          </th> <td>1.19e-08</td>\n",
       "</tr>\n",
       "<tr>\n",
       "  <th>Kurtosis:</th>      <td> 3.793</td> <th>  Cond. No.          </th> <td>    507.</td>\n",
       "</tr>\n",
       "</table><br/><br/>Notes:<br/>[1] Standard Errors assume that the covariance matrix of the errors is correctly specified."
      ],
      "text/plain": [
       "<class 'statsmodels.iolib.summary.Summary'>\n",
       "\"\"\"\n",
       "                            OLS Regression Results                            \n",
       "==============================================================================\n",
       "Dep. Variable:                  price   R-squared:                       0.525\n",
       "Model:                            OLS   Adj. R-squared:                  0.521\n",
       "Method:                 Least Squares   F-statistic:                     151.7\n",
       "Date:                Tue, 23 Nov 2021   Prob (F-statistic):          2.06e-108\n",
       "Time:                        23:04:21   Log-Likelihood:                -4397.4\n",
       "No. Observations:                 693   AIC:                             8807.\n",
       "Df Residuals:                     687   BIC:                             8834.\n",
       "Df Model:                           5                                         \n",
       "Covariance Type:            nonrobust                                         \n",
       "=================================================================================\n",
       "                    coef    std err          t      P>|t|      [0.025      0.975]\n",
       "---------------------------------------------------------------------------------\n",
       "const          -548.0839     83.533     -6.561      0.000    -712.094    -384.074\n",
       "m2              158.4439     13.279     11.932      0.000     132.372     184.516\n",
       "n_rooms         -14.4826      7.890     -1.835      0.067     -29.975       1.010\n",
       "n_bath          423.3400     45.833      9.236      0.000     333.350     513.330\n",
       "last_update       0.7733      2.193      0.353      0.724      -3.533       5.079\n",
       "hood_price_m2    11.2512      0.752     14.958      0.000       9.774      12.728\n",
       "==============================================================================\n",
       "Omnibus:                       28.360   Durbin-Watson:                   1.444\n",
       "Prob(Omnibus):                  0.000   Jarque-Bera (JB):               36.490\n",
       "Skew:                           0.398   Prob(JB):                     1.19e-08\n",
       "Kurtosis:                       3.793   Cond. No.                         507.\n",
       "==============================================================================\n",
       "\n",
       "Notes:\n",
       "[1] Standard Errors assume that the covariance matrix of the errors is correctly specified.\n",
       "\"\"\""
      ]
     },
     "execution_count": 33,
     "metadata": {},
     "output_type": "execute_result"
    }
   ],
   "source": [
    "X_num = sm.add_constant(X_num) # we need to add this constant value for the intercepts\n",
    "model = sm.OLS(y, X_num).fit()\n",
    "model.summary()"
   ]
  },
  {
   "cell_type": "markdown",
   "metadata": {},
   "source": [
    "## Model for big cities"
   ]
  },
  {
   "cell_type": "code",
   "execution_count": 34,
   "metadata": {},
   "outputs": [],
   "source": [
    "model_df = rent_df[['geo_town', 'm2', 'n_rooms', 'n_bath', 'last_update', 'price', 'lift', 'floor', 'hood_price_m2', 'neighborhood']].copy()"
   ]
  },
  {
   "cell_type": "markdown",
   "metadata": {},
   "source": [
    "#### Filtering out small towns"
   ]
  },
  {
   "cell_type": "code",
   "execution_count": 35,
   "metadata": {},
   "outputs": [],
   "source": [
    "model_df_big = model_df[model_df['geo_town'] == filtering_big_cities(model_df)]"
   ]
  },
  {
   "cell_type": "code",
   "execution_count": 36,
   "metadata": {},
   "outputs": [
    {
     "data": {
      "text/plain": [
       "(1207, 10)"
      ]
     },
     "execution_count": 36,
     "metadata": {},
     "output_type": "execute_result"
    }
   ],
   "source": [
    "filtered_neighborhoods = list(model_df_big['neighborhood'].value_counts()[lambda x: x > 10].index)\n",
    "model_df_big = model_df_big[model_df_big['neighborhood'].isin(filtered_neighborhoods)]\n",
    "model_df_big.shape"
   ]
  },
  {
   "cell_type": "markdown",
   "metadata": {},
   "source": [
    "#### Removing outliers"
   ]
  },
  {
   "cell_type": "code",
   "execution_count": 37,
   "metadata": {},
   "outputs": [],
   "source": [
    "model_df_big = remove_outliers(model_df_big, threshold=1.5, in_columns = ['m2', 'n_rooms', 'last_update', 'price', 'hood_price_m2'])"
   ]
  },
  {
   "cell_type": "markdown",
   "metadata": {},
   "source": [
    "#### Visualising our data"
   ]
  },
  {
   "cell_type": "code",
   "execution_count": 38,
   "metadata": {},
   "outputs": [
    {
     "data": {
      "image/png": "[encoded data removed]",
      "text/plain": [
       "<Figure size 648x648 with 6 Axes>"
      ]
     },
     "metadata": {
      "needs_background": "light"
     },
     "output_type": "display_data"
    }
   ],
   "source": [
    "fig, axes = plt.subplots(nrows=3, ncols=2, figsize=(9, 9))\n",
    "axes = axes.flat\n",
    "numeric_columns = model_df_big.select_dtypes(include=['float64', 'int']).columns\n",
    "\n",
    "for i, column in enumerate(numeric_columns):\n",
    "    sns.histplot(\n",
    "        data    = model_df_small,\n",
    "        x       = column,\n",
    "        stat    = \"count\",\n",
    "        kde     = True,\n",
    "        color   = (list(plt.rcParams['axes.prop_cycle'])*2)[i][\"color\"],\n",
    "        line_kws= {'linewidth': 2},\n",
    "        alpha   = 0.3,\n",
    "        ax      = axes[i]\n",
    "    )\n",
    "    axes[i].set_title(column, fontsize = 12, fontweight = \"bold\")\n",
    "    axes[i].tick_params(labelsize = 12)\n",
    "    axes[i].set_xlabel(\"\")\n",
    "    \n",
    "fig.tight_layout()\n",
    "plt.subplots_adjust(top = 0.9)\n",
    "fig.suptitle('Numerical features', fontsize = 12, fontweight = \"bold\");"
   ]
  },
  {
   "cell_type": "markdown",
   "metadata": {},
   "source": [
    "#### X-y Split"
   ]
  },
  {
   "cell_type": "code",
   "execution_count": 39,
   "metadata": {},
   "outputs": [],
   "source": [
    "X = model_df_big.drop('price', axis=1)\n",
    "y = model_df_big[['price']].copy()"
   ]
  },
  {
   "cell_type": "markdown",
   "metadata": {},
   "source": [
    "#### Encoding categoricals and normalizing numericals"
   ]
  },
  {
   "cell_type": "code",
   "execution_count": 40,
   "metadata": {},
   "outputs": [
    {
     "data": {
      "text/plain": [
       "(1152, 45)"
      ]
     },
     "execution_count": 40,
     "metadata": {},
     "output_type": "execute_result"
    }
   ],
   "source": [
    "X_cat = X.select_dtypes('object')\n",
    "X_num = X.select_dtypes('int')\n",
    "\n",
    "X_cat_enc = pd.get_dummies(X_cat, drop_first=True)\n",
    "X_num_norm, _ci = boxcox_transform(X_num)\n",
    "\n",
    "X = np.concatenate([X_num_norm, X_cat_enc], axis=1)\n",
    "X.shape"
   ]
  },
  {
   "cell_type": "markdown",
   "metadata": {},
   "source": [
    "#### Train-test split"
   ]
  },
  {
   "cell_type": "code",
   "execution_count": 41,
   "metadata": {},
   "outputs": [],
   "source": [
    "X_train, X_test, y_train, y_test = train_test_split(X, y, test_size=0.3, random_state=10)"
   ]
  },
  {
   "cell_type": "markdown",
   "metadata": {},
   "source": [
    "#### Fitting and running the model"
   ]
  },
  {
   "cell_type": "code",
   "execution_count": 42,
   "metadata": {},
   "outputs": [],
   "source": [
    "model_big_city = LinearRegression()\n",
    "model_big_city.fit(X_train, y_train)\n",
    "\n",
    "predictions = model_big_city.predict(X_test)\n",
    "r2 = r2_score(y_test, predictions)"
   ]
  },
  {
   "cell_type": "code",
   "execution_count": 43,
   "metadata": {},
   "outputs": [],
   "source": [
    "predictions = model_big_city.predict(X_test)\n",
    "r2 = r2_score(y_test, predictions)"
   ]
  },
  {
   "cell_type": "code",
   "execution_count": 44,
   "metadata": {},
   "outputs": [
    {
     "name": "stdout",
     "output_type": "stream",
     "text": [
      "R2:  0.3783\n",
      "mean_absolute_error:  126.153270919888\n",
      "mean_squared_error:  159.0544922255188\n",
      "y_test price mean:  1019.7283236994219\n",
      "y_train price mean:  1017.8424317617867\n"
     ]
    }
   ],
   "source": [
    "print('R2: ', round(r2,4))\n",
    "print('mean_absolute_error: ', mean_absolute_error(y_test, predictions))\n",
    "print('mean_squared_error: ', mean_squared_error(y_test, predictions, squared=False))\n",
    "print('y_test price mean: ', y_test['price'].mean())\n",
    "print('y_train price mean: ', y_train['price'].mean())"
   ]
  },
  {
   "cell_type": "code",
   "execution_count": 45,
   "metadata": {},
   "outputs": [],
   "source": [
    "y_test['predicted'] = predictions\n",
    "y_test['difference_%'] = ((y_test['predicted']-y_test['price'])/y_test['predicted'])*100"
   ]
  },
  {
   "cell_type": "code",
   "execution_count": 46,
   "metadata": {},
   "outputs": [
    {
     "data": {
      "text/plain": [
       "<AxesSubplot:xlabel='difference_%', ylabel='Count'>"
      ]
     },
     "execution_count": 46,
     "metadata": {},
     "output_type": "execute_result"
    },
    {
     "data": {
      "image/png": "[encoded data removed]",
      "text/plain": [
       "<Figure size 432x288 with 1 Axes>"
      ]
     },
     "metadata": {
      "needs_background": "light"
     },
     "output_type": "display_data"
    }
   ],
   "source": [
    "sns.histplot(\n",
    "        x       = y_test.sort_values(by=\"difference_%\", ascending=False)['difference_%'],\n",
    "        stat    = \"count\",\n",
    "        kde     = True,\n",
    "        color   = (list(plt.rcParams['axes.prop_cycle'])*2)[i][\"color\"],\n",
    "        line_kws= {'linewidth': 2},\n",
    "        alpha   = 0.3\n",
    ")"
   ]
  },
  {
   "cell_type": "code",
   "execution_count": 47,
   "metadata": {},
   "outputs": [
    {
     "name": "stdout",
     "output_type": "stream",
     "text": [
      "Fitting 5 folds for each of 97 candidates, totalling 485 fits\n"
     ]
    },
    {
     "data": {
      "text/plain": [
       "{'estimator': RandomForestRegressor(min_samples_leaf=2, min_samples_split=3),\n",
       " 'estimator__max_depth': None,\n",
       " 'estimator__min_samples_leaf': 2,\n",
       " 'estimator__min_samples_split': 3,\n",
       " 'estimator__n_estimators': 100}"
      ]
     },
     "execution_count": 47,
     "metadata": {},
     "output_type": "execute_result"
    }
   ],
   "source": [
    "pipe = Pipeline(steps=[('estimator', LinearRegression())])\n",
    "\n",
    "params_grid = [ {'estimator':[LinearRegression()],\n",
    "                },\n",
    "               {'estimator': [RandomForestRegressor()],\n",
    "               'estimator__n_estimators':[50,100, 200, 300],\n",
    "                'estimator__max_depth':[1,2,3, None],\n",
    "                'estimator__min_samples_split':[2,3, None],\n",
    "                'estimator__min_samples_leaf':[1,2],\n",
    "               }\n",
    "              ]\n",
    "\n",
    "grid = GridSearchCV(pipe, params_grid, n_jobs =-1, verbose = 2)\n",
    "res = grid.fit(X, y)\n",
    "\n",
    "grid.best_params_"
   ]
  },
  {
   "cell_type": "code",
   "execution_count": 48,
   "metadata": {},
   "outputs": [
    {
     "data": {
      "text/html": [
       "<div>\n",
       "<style scoped>\n",
       "    .dataframe tbody tr th:only-of-type {\n",
       "        vertical-align: middle;\n",
       "    }\n",
       "\n",
       "    .dataframe tbody tr th {\n",
       "        vertical-align: top;\n",
       "    }\n",
       "\n",
       "    .dataframe thead th {\n",
       "        text-align: right;\n",
       "    }\n",
       "</style>\n",
       "<table border=\"1\" class=\"dataframe\">\n",
       "  <thead>\n",
       "    <tr style=\"text-align: right;\">\n",
       "      <th></th>\n",
       "      <th>mean_fit_time</th>\n",
       "      <th>std_fit_time</th>\n",
       "      <th>mean_score_time</th>\n",
       "      <th>std_score_time</th>\n",
       "      <th>param_estimator</th>\n",
       "      <th>param_estimator__max_depth</th>\n",
       "      <th>param_estimator__min_samples_leaf</th>\n",
       "      <th>param_estimator__min_samples_split</th>\n",
       "      <th>param_estimator__n_estimators</th>\n",
       "      <th>params</th>\n",
       "      <th>split0_test_score</th>\n",
       "      <th>split1_test_score</th>\n",
       "      <th>split2_test_score</th>\n",
       "      <th>split3_test_score</th>\n",
       "      <th>split4_test_score</th>\n",
       "      <th>mean_test_score</th>\n",
       "      <th>std_test_score</th>\n",
       "      <th>rank_test_score</th>\n",
       "    </tr>\n",
       "  </thead>\n",
       "  <tbody>\n",
       "    <tr>\n",
       "      <th>0</th>\n",
       "      <td>0.007138</td>\n",
       "      <td>0.002396</td>\n",
       "      <td>0.002770</td>\n",
       "      <td>0.000512</td>\n",
       "      <td>LinearRegression()</td>\n",
       "      <td>NaN</td>\n",
       "      <td>NaN</td>\n",
       "      <td>NaN</td>\n",
       "      <td>NaN</td>\n",
       "      <td>{'estimator': LinearRegression()}</td>\n",
       "      <td>0.349342</td>\n",
       "      <td>0.444854</td>\n",
       "      <td>0.320934</td>\n",
       "      <td>-0.117220</td>\n",
       "      <td>0.338414</td>\n",
       "      <td>0.267265</td>\n",
       "      <td>0.197000</td>\n",
       "      <td>17</td>\n",
       "    </tr>\n",
       "    <tr>\n",
       "      <th>1</th>\n",
       "      <td>0.134075</td>\n",
       "      <td>0.008968</td>\n",
       "      <td>0.011162</td>\n",
       "      <td>0.003453</td>\n",
       "      <td>RandomForestRegressor(min_samples_leaf=2, min_...</td>\n",
       "      <td>1</td>\n",
       "      <td>1</td>\n",
       "      <td>2</td>\n",
       "      <td>50</td>\n",
       "      <td>{'estimator': RandomForestRegressor(min_sample...</td>\n",
       "      <td>0.235416</td>\n",
       "      <td>0.265182</td>\n",
       "      <td>0.186664</td>\n",
       "      <td>-0.252005</td>\n",
       "      <td>0.179315</td>\n",
       "      <td>0.122914</td>\n",
       "      <td>0.190109</td>\n",
       "      <td>55</td>\n",
       "    </tr>\n",
       "    <tr>\n",
       "      <th>2</th>\n",
       "      <td>0.242069</td>\n",
       "      <td>0.017123</td>\n",
       "      <td>0.020772</td>\n",
       "      <td>0.006905</td>\n",
       "      <td>RandomForestRegressor(min_samples_leaf=2, min_...</td>\n",
       "      <td>1</td>\n",
       "      <td>1</td>\n",
       "      <td>2</td>\n",
       "      <td>100</td>\n",
       "      <td>{'estimator': RandomForestRegressor(min_sample...</td>\n",
       "      <td>0.240287</td>\n",
       "      <td>0.259699</td>\n",
       "      <td>0.182772</td>\n",
       "      <td>-0.237971</td>\n",
       "      <td>0.174706</td>\n",
       "      <td>0.123899</td>\n",
       "      <td>0.183840</td>\n",
       "      <td>51</td>\n",
       "    </tr>\n",
       "    <tr>\n",
       "      <th>3</th>\n",
       "      <td>0.460115</td>\n",
       "      <td>0.023468</td>\n",
       "      <td>0.027022</td>\n",
       "      <td>0.000727</td>\n",
       "      <td>RandomForestRegressor(min_samples_leaf=2, min_...</td>\n",
       "      <td>1</td>\n",
       "      <td>1</td>\n",
       "      <td>2</td>\n",
       "      <td>200</td>\n",
       "      <td>{'estimator': RandomForestRegressor(min_sample...</td>\n",
       "      <td>0.235709</td>\n",
       "      <td>0.265785</td>\n",
       "      <td>0.181358</td>\n",
       "      <td>-0.242014</td>\n",
       "      <td>0.175807</td>\n",
       "      <td>0.123329</td>\n",
       "      <td>0.185753</td>\n",
       "      <td>53</td>\n",
       "    </tr>\n",
       "    <tr>\n",
       "      <th>4</th>\n",
       "      <td>0.672517</td>\n",
       "      <td>0.009902</td>\n",
       "      <td>0.039572</td>\n",
       "      <td>0.000824</td>\n",
       "      <td>RandomForestRegressor(min_samples_leaf=2, min_...</td>\n",
       "      <td>1</td>\n",
       "      <td>1</td>\n",
       "      <td>2</td>\n",
       "      <td>300</td>\n",
       "      <td>{'estimator': RandomForestRegressor(min_sample...</td>\n",
       "      <td>0.227868</td>\n",
       "      <td>0.266213</td>\n",
       "      <td>0.187671</td>\n",
       "      <td>-0.248975</td>\n",
       "      <td>0.174656</td>\n",
       "      <td>0.121487</td>\n",
       "      <td>0.187996</td>\n",
       "      <td>60</td>\n",
       "    </tr>\n",
       "    <tr>\n",
       "      <th>...</th>\n",
       "      <td>...</td>\n",
       "      <td>...</td>\n",
       "      <td>...</td>\n",
       "      <td>...</td>\n",
       "      <td>...</td>\n",
       "      <td>...</td>\n",
       "      <td>...</td>\n",
       "      <td>...</td>\n",
       "      <td>...</td>\n",
       "      <td>...</td>\n",
       "      <td>...</td>\n",
       "      <td>...</td>\n",
       "      <td>...</td>\n",
       "      <td>...</td>\n",
       "      <td>...</td>\n",
       "      <td>...</td>\n",
       "      <td>...</td>\n",
       "      <td>...</td>\n",
       "    </tr>\n",
       "    <tr>\n",
       "      <th>92</th>\n",
       "      <td>1.623045</td>\n",
       "      <td>0.032228</td>\n",
       "      <td>0.048737</td>\n",
       "      <td>0.004504</td>\n",
       "      <td>RandomForestRegressor(min_samples_leaf=2, min_...</td>\n",
       "      <td>None</td>\n",
       "      <td>2</td>\n",
       "      <td>3</td>\n",
       "      <td>300</td>\n",
       "      <td>{'estimator': RandomForestRegressor(min_sample...</td>\n",
       "      <td>0.430127</td>\n",
       "      <td>0.452172</td>\n",
       "      <td>0.398070</td>\n",
       "      <td>0.142668</td>\n",
       "      <td>0.359668</td>\n",
       "      <td>0.356541</td>\n",
       "      <td>0.111388</td>\n",
       "      <td>4</td>\n",
       "    </tr>\n",
       "    <tr>\n",
       "      <th>93</th>\n",
       "      <td>0.039424</td>\n",
       "      <td>0.002728</td>\n",
       "      <td>0.000000</td>\n",
       "      <td>0.000000</td>\n",
       "      <td>RandomForestRegressor(min_samples_leaf=2, min_...</td>\n",
       "      <td>None</td>\n",
       "      <td>2</td>\n",
       "      <td>None</td>\n",
       "      <td>50</td>\n",
       "      <td>{'estimator': RandomForestRegressor(min_sample...</td>\n",
       "      <td>NaN</td>\n",
       "      <td>NaN</td>\n",
       "      <td>NaN</td>\n",
       "      <td>NaN</td>\n",
       "      <td>NaN</td>\n",
       "      <td>NaN</td>\n",
       "      <td>NaN</td>\n",
       "      <td>69</td>\n",
       "    </tr>\n",
       "    <tr>\n",
       "      <th>94</th>\n",
       "      <td>0.064538</td>\n",
       "      <td>0.001738</td>\n",
       "      <td>0.000000</td>\n",
       "      <td>0.000000</td>\n",
       "      <td>RandomForestRegressor(min_samples_leaf=2, min_...</td>\n",
       "      <td>None</td>\n",
       "      <td>2</td>\n",
       "      <td>None</td>\n",
       "      <td>100</td>\n",
       "      <td>{'estimator': RandomForestRegressor(min_sample...</td>\n",
       "      <td>NaN</td>\n",
       "      <td>NaN</td>\n",
       "      <td>NaN</td>\n",
       "      <td>NaN</td>\n",
       "      <td>NaN</td>\n",
       "      <td>NaN</td>\n",
       "      <td>NaN</td>\n",
       "      <td>70</td>\n",
       "    </tr>\n",
       "    <tr>\n",
       "      <th>95</th>\n",
       "      <td>0.131242</td>\n",
       "      <td>0.011567</td>\n",
       "      <td>0.000000</td>\n",
       "      <td>0.000000</td>\n",
       "      <td>RandomForestRegressor(min_samples_leaf=2, min_...</td>\n",
       "      <td>None</td>\n",
       "      <td>2</td>\n",
       "      <td>None</td>\n",
       "      <td>200</td>\n",
       "      <td>{'estimator': RandomForestRegressor(min_sample...</td>\n",
       "      <td>NaN</td>\n",
       "      <td>NaN</td>\n",
       "      <td>NaN</td>\n",
       "      <td>NaN</td>\n",
       "      <td>NaN</td>\n",
       "      <td>NaN</td>\n",
       "      <td>NaN</td>\n",
       "      <td>90</td>\n",
       "    </tr>\n",
       "    <tr>\n",
       "      <th>96</th>\n",
       "      <td>0.185423</td>\n",
       "      <td>0.007534</td>\n",
       "      <td>0.000000</td>\n",
       "      <td>0.000000</td>\n",
       "      <td>RandomForestRegressor(min_samples_leaf=2, min_...</td>\n",
       "      <td>None</td>\n",
       "      <td>2</td>\n",
       "      <td>None</td>\n",
       "      <td>300</td>\n",
       "      <td>{'estimator': RandomForestRegressor(min_sample...</td>\n",
       "      <td>NaN</td>\n",
       "      <td>NaN</td>\n",
       "      <td>NaN</td>\n",
       "      <td>NaN</td>\n",
       "      <td>NaN</td>\n",
       "      <td>NaN</td>\n",
       "      <td>NaN</td>\n",
       "      <td>97</td>\n",
       "    </tr>\n",
       "  </tbody>\n",
       "</table>\n",
       "<p>97 rows × 18 columns</p>\n",
       "</div>"
      ],
      "text/plain": [
       "    mean_fit_time  std_fit_time  mean_score_time  std_score_time  \\\n",
       "0        0.007138      0.002396         0.002770        0.000512   \n",
       "1        0.134075      0.008968         0.011162        0.003453   \n",
       "2        0.242069      0.017123         0.020772        0.006905   \n",
       "3        0.460115      0.023468         0.027022        0.000727   \n",
       "4        0.672517      0.009902         0.039572        0.000824   \n",
       "..            ...           ...              ...             ...   \n",
       "92       1.623045      0.032228         0.048737        0.004504   \n",
       "93       0.039424      0.002728         0.000000        0.000000   \n",
       "94       0.064538      0.001738         0.000000        0.000000   \n",
       "95       0.131242      0.011567         0.000000        0.000000   \n",
       "96       0.185423      0.007534         0.000000        0.000000   \n",
       "\n",
       "                                      param_estimator  \\\n",
       "0                                  LinearRegression()   \n",
       "1   RandomForestRegressor(min_samples_leaf=2, min_...   \n",
       "2   RandomForestRegressor(min_samples_leaf=2, min_...   \n",
       "3   RandomForestRegressor(min_samples_leaf=2, min_...   \n",
       "4   RandomForestRegressor(min_samples_leaf=2, min_...   \n",
       "..                                                ...   \n",
       "92  RandomForestRegressor(min_samples_leaf=2, min_...   \n",
       "93  RandomForestRegressor(min_samples_leaf=2, min_...   \n",
       "94  RandomForestRegressor(min_samples_leaf=2, min_...   \n",
       "95  RandomForestRegressor(min_samples_leaf=2, min_...   \n",
       "96  RandomForestRegressor(min_samples_leaf=2, min_...   \n",
       "\n",
       "   param_estimator__max_depth param_estimator__min_samples_leaf  \\\n",
       "0                         NaN                               NaN   \n",
       "1                           1                                 1   \n",
       "2                           1                                 1   \n",
       "3                           1                                 1   \n",
       "4                           1                                 1   \n",
       "..                        ...                               ...   \n",
       "92                       None                                 2   \n",
       "93                       None                                 2   \n",
       "94                       None                                 2   \n",
       "95                       None                                 2   \n",
       "96                       None                                 2   \n",
       "\n",
       "   param_estimator__min_samples_split param_estimator__n_estimators  \\\n",
       "0                                 NaN                           NaN   \n",
       "1                                   2                            50   \n",
       "2                                   2                           100   \n",
       "3                                   2                           200   \n",
       "4                                   2                           300   \n",
       "..                                ...                           ...   \n",
       "92                                  3                           300   \n",
       "93                               None                            50   \n",
       "94                               None                           100   \n",
       "95                               None                           200   \n",
       "96                               None                           300   \n",
       "\n",
       "                                               params  split0_test_score  \\\n",
       "0                   {'estimator': LinearRegression()}           0.349342   \n",
       "1   {'estimator': RandomForestRegressor(min_sample...           0.235416   \n",
       "2   {'estimator': RandomForestRegressor(min_sample...           0.240287   \n",
       "3   {'estimator': RandomForestRegressor(min_sample...           0.235709   \n",
       "4   {'estimator': RandomForestRegressor(min_sample...           0.227868   \n",
       "..                                                ...                ...   \n",
       "92  {'estimator': RandomForestRegressor(min_sample...           0.430127   \n",
       "93  {'estimator': RandomForestRegressor(min_sample...                NaN   \n",
       "94  {'estimator': RandomForestRegressor(min_sample...                NaN   \n",
       "95  {'estimator': RandomForestRegressor(min_sample...                NaN   \n",
       "96  {'estimator': RandomForestRegressor(min_sample...                NaN   \n",
       "\n",
       "    split1_test_score  split2_test_score  split3_test_score  \\\n",
       "0            0.444854           0.320934          -0.117220   \n",
       "1            0.265182           0.186664          -0.252005   \n",
       "2            0.259699           0.182772          -0.237971   \n",
       "3            0.265785           0.181358          -0.242014   \n",
       "4            0.266213           0.187671          -0.248975   \n",
       "..                ...                ...                ...   \n",
       "92           0.452172           0.398070           0.142668   \n",
       "93                NaN                NaN                NaN   \n",
       "94                NaN                NaN                NaN   \n",
       "95                NaN                NaN                NaN   \n",
       "96                NaN                NaN                NaN   \n",
       "\n",
       "    split4_test_score  mean_test_score  std_test_score  rank_test_score  \n",
       "0            0.338414         0.267265        0.197000               17  \n",
       "1            0.179315         0.122914        0.190109               55  \n",
       "2            0.174706         0.123899        0.183840               51  \n",
       "3            0.175807         0.123329        0.185753               53  \n",
       "4            0.174656         0.121487        0.187996               60  \n",
       "..                ...              ...             ...              ...  \n",
       "92           0.359668         0.356541        0.111388                4  \n",
       "93                NaN              NaN             NaN               69  \n",
       "94                NaN              NaN             NaN               70  \n",
       "95                NaN              NaN             NaN               90  \n",
       "96                NaN              NaN             NaN               97  \n",
       "\n",
       "[97 rows x 18 columns]"
      ]
     },
     "execution_count": 48,
     "metadata": {},
     "output_type": "execute_result"
    }
   ],
   "source": [
    "pd.DataFrame(grid.cv_results_)"
   ]
  },
  {
   "cell_type": "markdown",
   "metadata": {},
   "source": [
    "#### Evaluating variables"
   ]
  },
  {
   "cell_type": "code",
   "execution_count": 49,
   "metadata": {},
   "outputs": [
    {
     "data": {
      "image/png": "[encoded data removed]",
      "text/plain": [
       "<Figure size 720x576 with 2 Axes>"
      ]
     },
     "metadata": {
      "needs_background": "light"
     },
     "output_type": "display_data"
    }
   ],
   "source": [
    "# check the correlations\n",
    "mask = np.zeros_like(model_df.corr())\n",
    "\n",
    "mask[np.triu_indices_from(mask)] = True # optional, to hide repeat half of the matrix\n",
    "\n",
    "fig, ax = plt.subplots(figsize=(10, 8))\n",
    "ax = sns.heatmap(model_df.corr(), mask=mask, annot=True)\n",
    "plt.show()"
   ]
  },
  {
   "cell_type": "code",
   "execution_count": 50,
   "metadata": {},
   "outputs": [
    {
     "data": {
      "text/html": [
       "<table class=\"simpletable\">\n",
       "<caption>OLS Regression Results</caption>\n",
       "<tr>\n",
       "  <th>Dep. Variable:</th>          <td>price</td>      <th>  R-squared:         </th> <td>   0.315</td> \n",
       "</tr>\n",
       "<tr>\n",
       "  <th>Model:</th>                   <td>OLS</td>       <th>  Adj. R-squared:    </th> <td>   0.312</td> \n",
       "</tr>\n",
       "<tr>\n",
       "  <th>Method:</th>             <td>Least Squares</td>  <th>  F-statistic:       </th> <td>   105.5</td> \n",
       "</tr>\n",
       "<tr>\n",
       "  <th>Date:</th>             <td>Tue, 23 Nov 2021</td> <th>  Prob (F-statistic):</th> <td>1.12e-91</td> \n",
       "</tr>\n",
       "<tr>\n",
       "  <th>Time:</th>                 <td>23:05:19</td>     <th>  Log-Likelihood:    </th> <td> -7538.9</td> \n",
       "</tr>\n",
       "<tr>\n",
       "  <th>No. Observations:</th>      <td>  1152</td>      <th>  AIC:               </th> <td>1.509e+04</td>\n",
       "</tr>\n",
       "<tr>\n",
       "  <th>Df Residuals:</th>          <td>  1146</td>      <th>  BIC:               </th> <td>1.512e+04</td>\n",
       "</tr>\n",
       "<tr>\n",
       "  <th>Df Model:</th>              <td>     5</td>      <th>                     </th>     <td> </td>    \n",
       "</tr>\n",
       "<tr>\n",
       "  <th>Covariance Type:</th>      <td>nonrobust</td>    <th>                     </th>     <td> </td>    \n",
       "</tr>\n",
       "</table>\n",
       "<table class=\"simpletable\">\n",
       "<tr>\n",
       "        <td></td>           <th>coef</th>     <th>std err</th>      <th>t</th>      <th>P>|t|</th>  <th>[0.025</th>    <th>0.975]</th>  \n",
       "</tr>\n",
       "<tr>\n",
       "  <th>const</th>         <td> -678.2055</td> <td>  262.976</td> <td>   -2.579</td> <td> 0.010</td> <td>-1194.174</td> <td> -162.237</td>\n",
       "</tr>\n",
       "<tr>\n",
       "  <th>m2</th>            <td>   32.7603</td> <td>    1.978</td> <td>   16.566</td> <td> 0.000</td> <td>   28.880</td> <td>   36.640</td>\n",
       "</tr>\n",
       "<tr>\n",
       "  <th>n_rooms</th>       <td>  -43.7290</td> <td>   10.069</td> <td>   -4.343</td> <td> 0.000</td> <td>  -63.484</td> <td>  -23.974</td>\n",
       "</tr>\n",
       "<tr>\n",
       "  <th>n_bath</th>        <td>  339.3856</td> <td>   70.117</td> <td>    4.840</td> <td> 0.000</td> <td>  201.814</td> <td>  476.958</td>\n",
       "</tr>\n",
       "<tr>\n",
       "  <th>last_update</th>   <td>   10.6690</td> <td>    2.042</td> <td>    5.225</td> <td> 0.000</td> <td>    6.662</td> <td>   14.676</td>\n",
       "</tr>\n",
       "<tr>\n",
       "  <th>hood_price_m2</th> <td>  725.1296</td> <td>  178.460</td> <td>    4.063</td> <td> 0.000</td> <td>  374.984</td> <td> 1075.275</td>\n",
       "</tr>\n",
       "</table>\n",
       "<table class=\"simpletable\">\n",
       "<tr>\n",
       "  <th>Omnibus:</th>       <td>32.506</td> <th>  Durbin-Watson:     </th> <td>   1.806</td>\n",
       "</tr>\n",
       "<tr>\n",
       "  <th>Prob(Omnibus):</th> <td> 0.000</td> <th>  Jarque-Bera (JB):  </th> <td>  32.758</td>\n",
       "</tr>\n",
       "<tr>\n",
       "  <th>Skew:</th>          <td> 0.385</td> <th>  Prob(JB):          </th> <td>7.71e-08</td>\n",
       "</tr>\n",
       "<tr>\n",
       "  <th>Kurtosis:</th>      <td> 2.700</td> <th>  Cond. No.          </th> <td>1.29e+03</td>\n",
       "</tr>\n",
       "</table><br/><br/>Notes:<br/>[1] Standard Errors assume that the covariance matrix of the errors is correctly specified.<br/>[2] The condition number is large, 1.29e+03. This might indicate that there are<br/>strong multicollinearity or other numerical problems."
      ],
      "text/plain": [
       "<class 'statsmodels.iolib.summary.Summary'>\n",
       "\"\"\"\n",
       "                            OLS Regression Results                            \n",
       "==============================================================================\n",
       "Dep. Variable:                  price   R-squared:                       0.315\n",
       "Model:                            OLS   Adj. R-squared:                  0.312\n",
       "Method:                 Least Squares   F-statistic:                     105.5\n",
       "Date:                Tue, 23 Nov 2021   Prob (F-statistic):           1.12e-91\n",
       "Time:                        23:05:19   Log-Likelihood:                -7538.9\n",
       "No. Observations:                1152   AIC:                         1.509e+04\n",
       "Df Residuals:                    1146   BIC:                         1.512e+04\n",
       "Df Model:                           5                                         \n",
       "Covariance Type:            nonrobust                                         \n",
       "=================================================================================\n",
       "                    coef    std err          t      P>|t|      [0.025      0.975]\n",
       "---------------------------------------------------------------------------------\n",
       "const          -678.2055    262.976     -2.579      0.010   -1194.174    -162.237\n",
       "m2               32.7603      1.978     16.566      0.000      28.880      36.640\n",
       "n_rooms         -43.7290     10.069     -4.343      0.000     -63.484     -23.974\n",
       "n_bath          339.3856     70.117      4.840      0.000     201.814     476.958\n",
       "last_update      10.6690      2.042      5.225      0.000       6.662      14.676\n",
       "hood_price_m2   725.1296    178.460      4.063      0.000     374.984    1075.275\n",
       "==============================================================================\n",
       "Omnibus:                       32.506   Durbin-Watson:                   1.806\n",
       "Prob(Omnibus):                  0.000   Jarque-Bera (JB):               32.758\n",
       "Skew:                           0.385   Prob(JB):                     7.71e-08\n",
       "Kurtosis:                       2.700   Cond. No.                     1.29e+03\n",
       "==============================================================================\n",
       "\n",
       "Notes:\n",
       "[1] Standard Errors assume that the covariance matrix of the errors is correctly specified.\n",
       "[2] The condition number is large, 1.29e+03. This might indicate that there are\n",
       "strong multicollinearity or other numerical problems.\n",
       "\"\"\""
      ]
     },
     "execution_count": 50,
     "metadata": {},
     "output_type": "execute_result"
    }
   ],
   "source": [
    "X_num = sm.add_constant(X_num) # we need to add this constant value for the intercepts\n",
    "model = sm.OLS(y, X_num).fit()\n",
    "model.summary()"
   ]
  },
  {
   "cell_type": "markdown",
   "metadata": {},
   "source": [
    "## Finding the most profitable towns to Buy & Rent"
   ]
  },
  {
   "cell_type": "markdown",
   "metadata": {},
   "source": [
    "1. Importar df con propiedades en venta\n",
    "2. Distinguir entre propiedades que pertenecen a modelo de ciudad grande o pequeña\n",
    "- Seleccionar varialbes de un modelo y de otro\n",
    "- filtrar poblaciones de propiedades en venta que no estan en los municipios del modelo\n",
    "3. Sacar tabla de predicciones para modelo grande y pequeña\n",
    "4. concatenar tabla de predicciones\n",
    "5. Merge con info de precios de venta\n",
    "6. Calcular ROI\n",
    "7. Visualizacion"
   ]
  },
  {
   "cell_type": "markdown",
   "metadata": {},
   "source": [
    "### Importar df con propiedades en venta"
   ]
  },
  {
   "cell_type": "code",
   "execution_count": 51,
   "metadata": {},
   "outputs": [],
   "source": [
    "df_sale = pd.read_csv('/Users/ignaciolorenzoqueralt/Documents/Ironhack/Final Project/properties/sale/2021.11.15_cataluña_90000_10.csv', engine = 'python')"
   ]
  },
  {
   "cell_type": "markdown",
   "metadata": {},
   "source": [
    "### Distinguir entre propiedades que pertenecen a modelo de ciudad grande o pequeña"
   ]
  },
  {
   "cell_type": "code",
   "execution_count": 53,
   "metadata": {},
   "outputs": [],
   "source": [
    "df_sale_big = df_sale[df_sale['geo_town'] == filtering_big_cities(model_df)]\n",
    "df_sale_small = df_sale[df_sale['geo_town'] != filtering_big_cities(model_df)]"
   ]
  },
  {
   "cell_type": "markdown",
   "metadata": {},
   "source": [
    "#### Cleaning big city sale df"
   ]
  },
  {
   "cell_type": "code",
   "execution_count": 54,
   "metadata": {},
   "outputs": [],
   "source": [
    "df_sale_big['hood_price_m2'] = \"\""
   ]
  },
  {
   "cell_type": "code",
   "execution_count": 55,
   "metadata": {},
   "outputs": [],
   "source": [
    "df_sale_big = df_sale_big[['geo_town', 'm2', 'n_rooms', 'n_bath', 'last_update', 'price', 'lift', 'floor', 'hood_price_m2', 'neighborhood']].copy()"
   ]
  },
  {
   "cell_type": "code",
   "execution_count": 56,
   "metadata": {},
   "outputs": [],
   "source": [
    "clean_last_update(df_sale_big, c = 'last_update')"
   ]
  },
  {
   "cell_type": "code",
   "execution_count": 57,
   "metadata": {},
   "outputs": [],
   "source": [
    "fill_lift_column(df_sale_big)"
   ]
  },
  {
   "cell_type": "code",
   "execution_count": 58,
   "metadata": {},
   "outputs": [
    {
     "name": "stdout",
     "output_type": "stream",
     "text": [
      "The column  floor  has  99  null values\n"
     ]
    }
   ],
   "source": [
    "checking_nulls(df_sale_big)"
   ]
  },
  {
   "cell_type": "code",
   "execution_count": 59,
   "metadata": {},
   "outputs": [],
   "source": [
    "df_sale_big = df_sale_big.dropna()"
   ]
  },
  {
   "cell_type": "code",
   "execution_count": 60,
   "metadata": {},
   "outputs": [
    {
     "data": {
      "text/plain": [
       "(64, 10)"
      ]
     },
     "execution_count": 60,
     "metadata": {},
     "output_type": "execute_result"
    }
   ],
   "source": [
    "df_sale_big.shape"
   ]
  },
  {
   "cell_type": "code",
   "execution_count": 61,
   "metadata": {},
   "outputs": [],
   "source": [
    "df_sale_big1 = df_sale_big.copy()"
   ]
  },
  {
   "cell_type": "code",
   "execution_count": 62,
   "metadata": {},
   "outputs": [],
   "source": [
    "df_sale_big1 = df_sale_big1.merge(neighborhood_price_sqm, on='neighborhood', how='inner')\n",
    "df_sale_big1 = df_sale_big1.drop([\"geo_town_x\", \"hood_price_m2_x\"], axis = 1)\n",
    "df_sale_big1.columns = ['m2', 'n_rooms', 'n_bath', 'last_update', 'price', 'lift', 'floor', 'neighborhood', 'geo_town', 'hood_price_m2']"
   ]
  },
  {
   "cell_type": "code",
   "execution_count": 63,
   "metadata": {},
   "outputs": [],
   "source": [
    "new_row = {'geo_town':'dumb', 'm2':87, 'n_rooms':92, 'n_bath':97, 'last_update':97, 'price':97, 'lift':'yes', 'floor':\"ground\", 'hood_price_m2':97, 'neighborhood': 'Eixample'}\n",
    "df_sale_big1 = df_sale_big1.append(new_row, ignore_index=True)"
   ]
  },
  {
   "cell_type": "code",
   "execution_count": 66,
   "metadata": {},
   "outputs": [],
   "source": [
    "numericals = ['m2', 'n_rooms', 'n_bath', 'price', 'last_update', 'hood_price_m2']\n",
    "convert_to_numerical(df_sale_big1, numericals)"
   ]
  },
  {
   "cell_type": "code",
   "execution_count": 67,
   "metadata": {},
   "outputs": [],
   "source": [
    "X_cat = df_sale_big1.select_dtypes('object')\n",
    "X_num = df_sale_big1.select_dtypes('int')"
   ]
  },
  {
   "cell_type": "code",
   "execution_count": 68,
   "metadata": {},
   "outputs": [
    {
     "data": {
      "text/plain": [
       "(13, 15)"
      ]
     },
     "execution_count": 68,
     "metadata": {},
     "output_type": "execute_result"
    }
   ],
   "source": [
    "X_cat_enc = pd.get_dummies(X_cat, drop_first=True)\n",
    "X_num_norm, _ci = boxcox_transform(X_num)\n",
    "X = np.concatenate([X_num_norm, X_cat_enc], axis=1)\n",
    "X.shape"
   ]
  },
  {
   "cell_type": "markdown",
   "metadata": {},
   "source": [
    "### Fit model to both dfs"
   ]
  },
  {
   "cell_type": "code",
   "execution_count": 69,
   "metadata": {},
   "outputs": [
    {
     "ename": "ValueError",
     "evalue": "matmul: Input operand 1 has a mismatch in its core dimension 0, with gufunc signature (n?,k),(k,m?)->(n?,m?) (size 45 is different from 15)",
     "output_type": "error",
     "traceback": [
      "\u001b[0;31m---------------------------------------------------------------------------\u001b[0m",
      "\u001b[0;31mValueError\u001b[0m                                Traceback (most recent call last)",
      "\u001b[0;32m<ipython-input-69-1bb2afccd48f>\u001b[0m in \u001b[0;36m<module>\u001b[0;34m\u001b[0m\n\u001b[0;32m----> 1\u001b[0;31m \u001b[0mpredictions_big_city\u001b[0m \u001b[0;34m=\u001b[0m \u001b[0mmodel_big_city\u001b[0m\u001b[0;34m.\u001b[0m\u001b[0mpredict\u001b[0m\u001b[0;34m(\u001b[0m\u001b[0mX\u001b[0m\u001b[0;34m)\u001b[0m\u001b[0;34m\u001b[0m\u001b[0;34m\u001b[0m\u001b[0m\n\u001b[0m",
      "\u001b[0;32m/usr/local/Caskroom/miniconda/base/envs/ironhack_1/lib/python3.8/site-packages/sklearn/linear_model/_base.py\u001b[0m in \u001b[0;36mpredict\u001b[0;34m(self, X)\u001b[0m\n\u001b[1;32m    236\u001b[0m             \u001b[0mReturns\u001b[0m \u001b[0mpredicted\u001b[0m \u001b[0mvalues\u001b[0m\u001b[0;34m.\u001b[0m\u001b[0;34m\u001b[0m\u001b[0;34m\u001b[0m\u001b[0m\n\u001b[1;32m    237\u001b[0m         \"\"\"\n\u001b[0;32m--> 238\u001b[0;31m         \u001b[0;32mreturn\u001b[0m \u001b[0mself\u001b[0m\u001b[0;34m.\u001b[0m\u001b[0m_decision_function\u001b[0m\u001b[0;34m(\u001b[0m\u001b[0mX\u001b[0m\u001b[0;34m)\u001b[0m\u001b[0;34m\u001b[0m\u001b[0;34m\u001b[0m\u001b[0m\n\u001b[0m\u001b[1;32m    239\u001b[0m \u001b[0;34m\u001b[0m\u001b[0m\n\u001b[1;32m    240\u001b[0m     \u001b[0m_preprocess_data\u001b[0m \u001b[0;34m=\u001b[0m \u001b[0mstaticmethod\u001b[0m\u001b[0;34m(\u001b[0m\u001b[0m_preprocess_data\u001b[0m\u001b[0;34m)\u001b[0m\u001b[0;34m\u001b[0m\u001b[0;34m\u001b[0m\u001b[0m\n",
      "\u001b[0;32m/usr/local/Caskroom/miniconda/base/envs/ironhack_1/lib/python3.8/site-packages/sklearn/linear_model/_base.py\u001b[0m in \u001b[0;36m_decision_function\u001b[0;34m(self, X)\u001b[0m\n\u001b[1;32m    219\u001b[0m \u001b[0;34m\u001b[0m\u001b[0m\n\u001b[1;32m    220\u001b[0m         \u001b[0mX\u001b[0m \u001b[0;34m=\u001b[0m \u001b[0mcheck_array\u001b[0m\u001b[0;34m(\u001b[0m\u001b[0mX\u001b[0m\u001b[0;34m,\u001b[0m \u001b[0maccept_sparse\u001b[0m\u001b[0;34m=\u001b[0m\u001b[0;34m[\u001b[0m\u001b[0;34m'csr'\u001b[0m\u001b[0;34m,\u001b[0m \u001b[0;34m'csc'\u001b[0m\u001b[0;34m,\u001b[0m \u001b[0;34m'coo'\u001b[0m\u001b[0;34m]\u001b[0m\u001b[0;34m)\u001b[0m\u001b[0;34m\u001b[0m\u001b[0;34m\u001b[0m\u001b[0m\n\u001b[0;32m--> 221\u001b[0;31m         return safe_sparse_dot(X, self.coef_.T,\n\u001b[0m\u001b[1;32m    222\u001b[0m                                dense_output=True) + self.intercept_\n\u001b[1;32m    223\u001b[0m \u001b[0;34m\u001b[0m\u001b[0m\n",
      "\u001b[0;32m/usr/local/Caskroom/miniconda/base/envs/ironhack_1/lib/python3.8/site-packages/sklearn/utils/validation.py\u001b[0m in \u001b[0;36minner_f\u001b[0;34m(*args, **kwargs)\u001b[0m\n\u001b[1;32m     61\u001b[0m             \u001b[0mextra_args\u001b[0m \u001b[0;34m=\u001b[0m \u001b[0mlen\u001b[0m\u001b[0;34m(\u001b[0m\u001b[0margs\u001b[0m\u001b[0;34m)\u001b[0m \u001b[0;34m-\u001b[0m \u001b[0mlen\u001b[0m\u001b[0;34m(\u001b[0m\u001b[0mall_args\u001b[0m\u001b[0;34m)\u001b[0m\u001b[0;34m\u001b[0m\u001b[0;34m\u001b[0m\u001b[0m\n\u001b[1;32m     62\u001b[0m             \u001b[0;32mif\u001b[0m \u001b[0mextra_args\u001b[0m \u001b[0;34m<=\u001b[0m \u001b[0;36m0\u001b[0m\u001b[0;34m:\u001b[0m\u001b[0;34m\u001b[0m\u001b[0;34m\u001b[0m\u001b[0m\n\u001b[0;32m---> 63\u001b[0;31m                 \u001b[0;32mreturn\u001b[0m \u001b[0mf\u001b[0m\u001b[0;34m(\u001b[0m\u001b[0;34m*\u001b[0m\u001b[0margs\u001b[0m\u001b[0;34m,\u001b[0m \u001b[0;34m**\u001b[0m\u001b[0mkwargs\u001b[0m\u001b[0;34m)\u001b[0m\u001b[0;34m\u001b[0m\u001b[0;34m\u001b[0m\u001b[0m\n\u001b[0m\u001b[1;32m     64\u001b[0m \u001b[0;34m\u001b[0m\u001b[0m\n\u001b[1;32m     65\u001b[0m             \u001b[0;31m# extra_args > 0\u001b[0m\u001b[0;34m\u001b[0m\u001b[0;34m\u001b[0m\u001b[0;34m\u001b[0m\u001b[0m\n",
      "\u001b[0;32m/usr/local/Caskroom/miniconda/base/envs/ironhack_1/lib/python3.8/site-packages/sklearn/utils/extmath.py\u001b[0m in \u001b[0;36msafe_sparse_dot\u001b[0;34m(a, b, dense_output)\u001b[0m\n\u001b[1;32m    150\u001b[0m             \u001b[0mret\u001b[0m \u001b[0;34m=\u001b[0m \u001b[0mnp\u001b[0m\u001b[0;34m.\u001b[0m\u001b[0mdot\u001b[0m\u001b[0;34m(\u001b[0m\u001b[0ma\u001b[0m\u001b[0;34m,\u001b[0m \u001b[0mb\u001b[0m\u001b[0;34m)\u001b[0m\u001b[0;34m\u001b[0m\u001b[0;34m\u001b[0m\u001b[0m\n\u001b[1;32m    151\u001b[0m     \u001b[0;32melse\u001b[0m\u001b[0;34m:\u001b[0m\u001b[0;34m\u001b[0m\u001b[0;34m\u001b[0m\u001b[0m\n\u001b[0;32m--> 152\u001b[0;31m         \u001b[0mret\u001b[0m \u001b[0;34m=\u001b[0m \u001b[0ma\u001b[0m \u001b[0;34m@\u001b[0m \u001b[0mb\u001b[0m\u001b[0;34m\u001b[0m\u001b[0;34m\u001b[0m\u001b[0m\n\u001b[0m\u001b[1;32m    153\u001b[0m \u001b[0;34m\u001b[0m\u001b[0m\n\u001b[1;32m    154\u001b[0m     if (sparse.issparse(a) and sparse.issparse(b)\n",
      "\u001b[0;31mValueError\u001b[0m: matmul: Input operand 1 has a mismatch in its core dimension 0, with gufunc signature (n?,k),(k,m?)->(n?,m?) (size 45 is different from 15)"
     ]
    }
   ],
   "source": [
    "predictions_big_city = model_big_city.predict(X)"
   ]
  },
  {
   "cell_type": "markdown",
   "metadata": {},
   "source": [
    "# Si mi modelo es para predecir precios que no estan en el df del train test, una vez optimizado el modelo, que sentido tiene tener un test split?"
   ]
  },
  {
   "cell_type": "code",
   "execution_count": null,
   "metadata": {},
   "outputs": [],
   "source": []
  }
 ],
 "metadata": {
  "kernelspec": {
   "display_name": "ironhack_1",
   "language": "python",
   "name": "ironhack_1"
  },
  "language_info": {
   "codemirror_mode": {
    "name": "ipython",
    "version": 3
   },
   "file_extension": ".py",
   "mimetype": "text/x-python",
   "name": "python",
   "nbconvert_exporter": "python",
   "pygments_lexer": "ipython3",
   "version": "3.8.5"
  }
 },
 "nbformat": 4,
 "nbformat_minor": 5
}
