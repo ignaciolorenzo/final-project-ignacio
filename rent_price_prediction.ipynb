{
 "cells": [
  {
   "cell_type": "markdown",
   "metadata": {},
   "source": [
    "## 1 | Imports"
   ]
  },
  {
   "cell_type": "code",
   "execution_count": 1,
   "metadata": {},
   "outputs": [],
   "source": [
    "import pandas as pd\n",
    "import seaborn as sns\n",
    "import matplotlib.pyplot as plt\n",
    "import warnings\n",
    "from functions import *\n",
    "import numpy as np\n",
    "from sklearn.model_selection import train_test_split\n",
    "from sklearn.linear_model import LinearRegression\n",
    "from sklearn.metrics import r2_score, mean_squared_error, mean_absolute_error\n",
    "from sklearn.preprocessing import OneHotEncoder, Normalizer, MinMaxScaler\n",
    "from sklearn import preprocessing\n",
    "import scipy.stats as stats\n",
    "\n",
    "warnings.filterwarnings('ignore')"
   ]
  },
  {
   "cell_type": "markdown",
   "metadata": {},
   "source": [
    "## 2 | Working on the dataset"
   ]
  },
  {
   "cell_type": "markdown",
   "metadata": {},
   "source": [
    "### Cleaning the data"
   ]
  },
  {
   "cell_type": "code",
   "execution_count": 2,
   "metadata": {},
   "outputs": [],
   "source": [
    "rent_df = pd.read_csv('/Users/ignaciolorenzoqueralt/Documents/Ironhack/Final Project/properties/rent/2021.11.08_cataluña_900_30.csv', engine='python' )\n",
    "rent_df = rent_df.loc[:, ~rent_df.columns.str.contains('^Unnamed')]"
   ]
  },
  {
   "cell_type": "code",
   "execution_count": 3,
   "metadata": {},
   "outputs": [
    {
     "data": {
      "text/html": [
       "<div>\n",
       "<style scoped>\n",
       "    .dataframe tbody tr th:only-of-type {\n",
       "        vertical-align: middle;\n",
       "    }\n",
       "\n",
       "    .dataframe tbody tr th {\n",
       "        vertical-align: top;\n",
       "    }\n",
       "\n",
       "    .dataframe thead th {\n",
       "        text-align: right;\n",
       "    }\n",
       "</style>\n",
       "<table border=\"1\" class=\"dataframe\">\n",
       "  <thead>\n",
       "    <tr style=\"text-align: right;\">\n",
       "      <th></th>\n",
       "      <th>name</th>\n",
       "      <th>area</th>\n",
       "      <th>neighborhood</th>\n",
       "      <th>geo_town</th>\n",
       "      <th>m2</th>\n",
       "      <th>n_rooms</th>\n",
       "      <th>n_bath</th>\n",
       "      <th>price_m2</th>\n",
       "      <th>price</th>\n",
       "      <th>price_reduction</th>\n",
       "      <th>opportunity</th>\n",
       "      <th>last_update</th>\n",
       "      <th>description</th>\n",
       "      <th>url</th>\n",
       "      <th>province</th>\n",
       "      <th>ccaa</th>\n",
       "    </tr>\n",
       "  </thead>\n",
       "  <tbody>\n",
       "    <tr>\n",
       "      <th>0</th>\n",
       "      <td>Alquiler Apartamento  N ii junquera. Alquiler ...</td>\n",
       "      <td>Arenys de Mar</td>\n",
       "      <td>Urbanitzacions</td>\n",
       "      <td>arenys_de_mar</td>\n",
       "      <td>70.0</td>\n",
       "      <td>3.0</td>\n",
       "      <td>1.0</td>\n",
       "      <td>14.0</td>\n",
       "      <td>980.0</td>\n",
       "      <td>120.0</td>\n",
       "      <td>yes</td>\n",
       "      <td>6.0</td>\n",
       "      <td>INMUEBLE NO SUJETO A LA LIMITACIÓN DE PRECIOS ...</td>\n",
       "      <td>https://www.habitaclia.com/alquiler-apartament...</td>\n",
       "      <td>barcelona</td>\n",
       "      <td>cataluña</td>\n",
       "    </tr>\n",
       "    <tr>\n",
       "      <th>1</th>\n",
       "      <td>Alquiler Piso  en  Carrer mig (del), 20. Vivie...</td>\n",
       "      <td>Arenys de Mar</td>\n",
       "      <td>Urbanitzacions</td>\n",
       "      <td>arenys_de_mar</td>\n",
       "      <td>89.0</td>\n",
       "      <td>2.0</td>\n",
       "      <td>1.0</td>\n",
       "      <td>7.0</td>\n",
       "      <td>680.0</td>\n",
       "      <td>20.0</td>\n",
       "      <td>no</td>\n",
       "      <td>9.0</td>\n",
       "      <td>Vivienda en la Urbanización Carolines de Areny...</td>\n",
       "      <td>https://www.habitaclia.com/alquiler-piso-vivie...</td>\n",
       "      <td>barcelona</td>\n",
       "      <td>cataluña</td>\n",
       "    </tr>\n",
       "    <tr>\n",
       "      <th>2</th>\n",
       "      <td>Alquiler Apartamento  Carrer camí ral del caba...</td>\n",
       "      <td>Arenys de Mar</td>\n",
       "      <td>Urbanitzacions</td>\n",
       "      <td>arenys_de_mar</td>\n",
       "      <td>70.0</td>\n",
       "      <td>3.0</td>\n",
       "      <td>1.0</td>\n",
       "      <td>14.0</td>\n",
       "      <td>980.0</td>\n",
       "      <td>10.0</td>\n",
       "      <td>no</td>\n",
       "      <td>8.0</td>\n",
       "      <td>ALQUILER DE TEMPORADA - Bonito piso de 70 m2 t...</td>\n",
       "      <td>https://www.habitaclia.com/alquiler-apartament...</td>\n",
       "      <td>barcelona</td>\n",
       "      <td>cataluña</td>\n",
       "    </tr>\n",
       "  </tbody>\n",
       "</table>\n",
       "</div>"
      ],
      "text/plain": [
       "                                                name            area  \\\n",
       "0  Alquiler Apartamento  N ii junquera. Alquiler ...  Arenys de Mar    \n",
       "1  Alquiler Piso  en  Carrer mig (del), 20. Vivie...  Arenys de Mar    \n",
       "2  Alquiler Apartamento  Carrer camí ral del caba...  Arenys de Mar    \n",
       "\n",
       "     neighborhood       geo_town    m2  n_rooms  n_bath  price_m2  price  \\\n",
       "0  Urbanitzacions  arenys_de_mar  70.0      3.0     1.0      14.0  980.0   \n",
       "1  Urbanitzacions  arenys_de_mar  89.0      2.0     1.0       7.0  680.0   \n",
       "2  Urbanitzacions  arenys_de_mar  70.0      3.0     1.0      14.0  980.0   \n",
       "\n",
       "   price_reduction opportunity  last_update  \\\n",
       "0            120.0         yes          6.0   \n",
       "1             20.0          no          9.0   \n",
       "2             10.0          no          8.0   \n",
       "\n",
       "                                         description  \\\n",
       "0  INMUEBLE NO SUJETO A LA LIMITACIÓN DE PRECIOS ...   \n",
       "1  Vivienda en la Urbanización Carolines de Areny...   \n",
       "2  ALQUILER DE TEMPORADA - Bonito piso de 70 m2 t...   \n",
       "\n",
       "                                                 url   province      ccaa  \n",
       "0  https://www.habitaclia.com/alquiler-apartament...  barcelona  cataluña  \n",
       "1  https://www.habitaclia.com/alquiler-piso-vivie...  barcelona  cataluña  \n",
       "2  https://www.habitaclia.com/alquiler-apartament...  barcelona  cataluña  "
      ]
     },
     "execution_count": 3,
     "metadata": {},
     "output_type": "execute_result"
    }
   ],
   "source": [
    "rent_df.head(3)"
   ]
  },
  {
   "cell_type": "code",
   "execution_count": 4,
   "metadata": {},
   "outputs": [
    {
     "data": {
      "text/plain": [
       "(3428, 16)"
      ]
     },
     "execution_count": 4,
     "metadata": {},
     "output_type": "execute_result"
    }
   ],
   "source": [
    "rent_df.shape"
   ]
  },
  {
   "cell_type": "code",
   "execution_count": 5,
   "metadata": {},
   "outputs": [],
   "source": [
    "rent_df = rent_df.dropna()"
   ]
  },
  {
   "cell_type": "code",
   "execution_count": 6,
   "metadata": {},
   "outputs": [],
   "source": [
    "clean_last_update(rent_df, c = 'last_update')"
   ]
  },
  {
   "cell_type": "code",
   "execution_count": 7,
   "metadata": {},
   "outputs": [
    {
     "data": {
      "text/html": [
       "<div>\n",
       "<style scoped>\n",
       "    .dataframe tbody tr th:only-of-type {\n",
       "        vertical-align: middle;\n",
       "    }\n",
       "\n",
       "    .dataframe tbody tr th {\n",
       "        vertical-align: top;\n",
       "    }\n",
       "\n",
       "    .dataframe thead th {\n",
       "        text-align: right;\n",
       "    }\n",
       "</style>\n",
       "<table border=\"1\" class=\"dataframe\">\n",
       "  <thead>\n",
       "    <tr style=\"text-align: right;\">\n",
       "      <th></th>\n",
       "      <th>name</th>\n",
       "      <th>area</th>\n",
       "      <th>neighborhood</th>\n",
       "      <th>geo_town</th>\n",
       "      <th>m2</th>\n",
       "      <th>n_rooms</th>\n",
       "      <th>n_bath</th>\n",
       "      <th>price_m2</th>\n",
       "      <th>price</th>\n",
       "      <th>price_reduction</th>\n",
       "      <th>opportunity</th>\n",
       "      <th>last_update</th>\n",
       "      <th>description</th>\n",
       "      <th>url</th>\n",
       "      <th>province</th>\n",
       "      <th>ccaa</th>\n",
       "    </tr>\n",
       "  </thead>\n",
       "  <tbody>\n",
       "  </tbody>\n",
       "</table>\n",
       "</div>"
      ],
      "text/plain": [
       "Empty DataFrame\n",
       "Columns: [name, area, neighborhood, geo_town, m2, n_rooms, n_bath, price_m2, price, price_reduction, opportunity, last_update, description, url, province, ccaa]\n",
       "Index: []"
      ]
     },
     "execution_count": 7,
     "metadata": {},
     "output_type": "execute_result"
    }
   ],
   "source": [
    "checking_nulls(rent_df)"
   ]
  },
  {
   "cell_type": "code",
   "execution_count": 8,
   "metadata": {},
   "outputs": [
    {
     "data": {
      "text/plain": [
       "(2429, 16)"
      ]
     },
     "execution_count": 8,
     "metadata": {},
     "output_type": "execute_result"
    }
   ],
   "source": [
    "rent_df.shape"
   ]
  },
  {
   "cell_type": "code",
   "execution_count": 9,
   "metadata": {},
   "outputs": [],
   "source": [
    "numericals = ['m2', 'n_rooms', 'n_bath', 'price_m2', 'price', 'price_reduction', 'last_update']\n",
    "convet_to_numerical(rent_df, numericals)"
   ]
  },
  {
   "cell_type": "code",
   "execution_count": 10,
   "metadata": {},
   "outputs": [
    {
     "data": {
      "text/plain": [
       "name               object\n",
       "area               object\n",
       "neighborhood       object\n",
       "geo_town           object\n",
       "m2                  int64\n",
       "n_rooms             int64\n",
       "n_bath              int64\n",
       "price_m2            int64\n",
       "price               int64\n",
       "price_reduction     int64\n",
       "opportunity        object\n",
       "last_update         int64\n",
       "description        object\n",
       "url                object\n",
       "province           object\n",
       "ccaa               object\n",
       "dtype: object"
      ]
     },
     "execution_count": 10,
     "metadata": {},
     "output_type": "execute_result"
    }
   ],
   "source": [
    "rent_df.dtypes"
   ]
  },
  {
   "cell_type": "markdown",
   "metadata": {},
   "source": [
    "Filtering out towns in which there are less than x properties listed."
   ]
  },
  {
   "cell_type": "code",
   "execution_count": 11,
   "metadata": {},
   "outputs": [
    {
     "data": {
      "text/plain": [
       "(1762, 16)"
      ]
     },
     "execution_count": 11,
     "metadata": {},
     "output_type": "execute_result"
    }
   ],
   "source": [
    "filtered_towns = list(rent_df['geo_town'].value_counts()[lambda x: x > 30].index)\n",
    "rent_df_filtered = rent_df[rent_df['geo_town'].isin(filtered_towns)]\n",
    "rent_df_filtered.shape"
   ]
  },
  {
   "cell_type": "markdown",
   "metadata": {},
   "source": [
    "### Feature selection"
   ]
  },
  {
   "cell_type": "markdown",
   "metadata": {},
   "source": [
    "We skip neighborhood as it would add too many distinct categorical values which would increase too much the size of the model when encoding it."
   ]
  },
  {
   "cell_type": "code",
   "execution_count": 12,
   "metadata": {},
   "outputs": [],
   "source": [
    "model_df = rent_df_filtered[['m2', 'n_rooms', 'n_bath', 'opportunity', 'last_update', 'geo_town', 'province', 'ccaa', 'price']].copy()"
   ]
  },
  {
   "cell_type": "code",
   "execution_count": 13,
   "metadata": {},
   "outputs": [
    {
     "data": {
      "text/html": [
       "<div>\n",
       "<style scoped>\n",
       "    .dataframe tbody tr th:only-of-type {\n",
       "        vertical-align: middle;\n",
       "    }\n",
       "\n",
       "    .dataframe tbody tr th {\n",
       "        vertical-align: top;\n",
       "    }\n",
       "\n",
       "    .dataframe thead th {\n",
       "        text-align: right;\n",
       "    }\n",
       "</style>\n",
       "<table border=\"1\" class=\"dataframe\">\n",
       "  <thead>\n",
       "    <tr style=\"text-align: right;\">\n",
       "      <th></th>\n",
       "      <th>m2</th>\n",
       "      <th>n_rooms</th>\n",
       "      <th>n_bath</th>\n",
       "      <th>opportunity</th>\n",
       "      <th>last_update</th>\n",
       "      <th>geo_town</th>\n",
       "      <th>province</th>\n",
       "      <th>ccaa</th>\n",
       "      <th>price</th>\n",
       "    </tr>\n",
       "  </thead>\n",
       "  <tbody>\n",
       "    <tr>\n",
       "      <th>31</th>\n",
       "      <td>65</td>\n",
       "      <td>2</td>\n",
       "      <td>1</td>\n",
       "      <td>no</td>\n",
       "      <td>3</td>\n",
       "      <td>badalona</td>\n",
       "      <td>barcelona</td>\n",
       "      <td>cataluña</td>\n",
       "      <td>906</td>\n",
       "    </tr>\n",
       "    <tr>\n",
       "      <th>32</th>\n",
       "      <td>75</td>\n",
       "      <td>3</td>\n",
       "      <td>1</td>\n",
       "      <td>no</td>\n",
       "      <td>23</td>\n",
       "      <td>badalona</td>\n",
       "      <td>barcelona</td>\n",
       "      <td>cataluña</td>\n",
       "      <td>900</td>\n",
       "    </tr>\n",
       "    <tr>\n",
       "      <th>33</th>\n",
       "      <td>41</td>\n",
       "      <td>1</td>\n",
       "      <td>1</td>\n",
       "      <td>no</td>\n",
       "      <td>11</td>\n",
       "      <td>badalona</td>\n",
       "      <td>barcelona</td>\n",
       "      <td>cataluña</td>\n",
       "      <td>725</td>\n",
       "    </tr>\n",
       "  </tbody>\n",
       "</table>\n",
       "</div>"
      ],
      "text/plain": [
       "    m2  n_rooms  n_bath opportunity  last_update  geo_town   province  \\\n",
       "31  65        2       1          no            3  badalona  barcelona   \n",
       "32  75        3       1          no           23  badalona  barcelona   \n",
       "33  41        1       1          no           11  badalona  barcelona   \n",
       "\n",
       "        ccaa  price  \n",
       "31  cataluña    906  \n",
       "32  cataluña    900  \n",
       "33  cataluña    725  "
      ]
     },
     "execution_count": 13,
     "metadata": {},
     "output_type": "execute_result"
    }
   ],
   "source": [
    "model_df.head(3)"
   ]
  },
  {
   "cell_type": "markdown",
   "metadata": {},
   "source": [
    "### Visualizing the original dataset"
   ]
  },
  {
   "cell_type": "code",
   "execution_count": 14,
   "metadata": {},
   "outputs": [
    {
     "name": "stdout",
     "output_type": "stream",
     "text": [
      "opportunity\n",
      "no     98.2\n",
      "yes     1.8\n",
      "Name: opportunity, dtype: float64\n"
     ]
    },
    {
     "data": {
      "image/png": "[encoded data removed]",
      "text/plain": [
       "<Figure size 504x288 with 1 Axes>"
      ]
     },
     "metadata": {},
     "output_type": "display_data"
    },
    {
     "name": "stdout",
     "output_type": "stream",
     "text": [
      "geo_town\n",
      "barcelona                  58.4\n",
      "terrassa                    6.6\n",
      "hospitalet_de_llobregat     5.5\n",
      "sabadell                    5.4\n",
      "tarragona                   5.1\n",
      "manresa                     3.6\n",
      "mataro                      3.5\n",
      "reus                        2.9\n",
      "badalona                    2.7\n",
      "sitges                      2.5\n",
      "granollers                  2.2\n",
      "rubi                        1.8\n",
      "Name: geo_town, dtype: float64\n"
     ]
    },
    {
     "data": {
      "image/png": "[encoded data removed]",
      "text/plain": [
       "<Figure size 504x288 with 1 Axes>"
      ]
     },
     "metadata": {},
     "output_type": "display_data"
    },
    {
     "name": "stdout",
     "output_type": "stream",
     "text": [
      "province\n",
      "barcelona    92.1\n",
      "tarragona     7.9\n",
      "Name: province, dtype: float64\n"
     ]
    },
    {
     "data": {
      "image/png": "[encoded data removed]",
      "text/plain": [
       "<Figure size 504x288 with 1 Axes>"
      ]
     },
     "metadata": {},
     "output_type": "display_data"
    },
    {
     "name": "stdout",
     "output_type": "stream",
     "text": [
      "ccaa\n",
      "cataluña    100.0\n",
      "Name: ccaa, dtype: float64\n"
     ]
    },
    {
     "data": {
      "image/png": "[encoded data removed]",
      "text/plain": [
       "<Figure size 504x288 with 1 Axes>"
      ]
     },
     "metadata": {},
     "output_type": "display_data"
    }
   ],
   "source": [
    "cat_exploration(model_df)"
   ]
  },
  {
   "cell_type": "markdown",
   "metadata": {},
   "source": [
    "## 3 | Model"
   ]
  },
  {
   "cell_type": "code",
   "execution_count": 15,
   "metadata": {},
   "outputs": [],
   "source": [
    "X = model_df[['m2', 'n_rooms', 'n_bath', 'opportunity', 'last_update', 'geo_town', 'province', 'ccaa']].copy()\n",
    "y = model_df[['price']].copy()"
   ]
  },
  {
   "cell_type": "code",
   "execution_count": 16,
   "metadata": {},
   "outputs": [],
   "source": [
    "X_cat = X.select_dtypes('object')\n",
    "X_num = X.select_dtypes('int')"
   ]
  },
  {
   "cell_type": "code",
   "execution_count": 17,
   "metadata": {},
   "outputs": [],
   "source": [
    "X_cat_enc = pd.get_dummies(X_cat, drop_first=True)"
   ]
  },
  {
   "cell_type": "code",
   "execution_count": 18,
   "metadata": {},
   "outputs": [
    {
     "data": {
      "text/html": [
       "<div>\n",
       "<style scoped>\n",
       "    .dataframe tbody tr th:only-of-type {\n",
       "        vertical-align: middle;\n",
       "    }\n",
       "\n",
       "    .dataframe tbody tr th {\n",
       "        vertical-align: top;\n",
       "    }\n",
       "\n",
       "    .dataframe thead th {\n",
       "        text-align: right;\n",
       "    }\n",
       "</style>\n",
       "<table border=\"1\" class=\"dataframe\">\n",
       "  <thead>\n",
       "    <tr style=\"text-align: right;\">\n",
       "      <th></th>\n",
       "      <th>m2</th>\n",
       "      <th>n_rooms</th>\n",
       "      <th>n_bath</th>\n",
       "      <th>last_update</th>\n",
       "    </tr>\n",
       "  </thead>\n",
       "  <tbody>\n",
       "    <tr>\n",
       "      <th>31</th>\n",
       "      <td>65</td>\n",
       "      <td>2</td>\n",
       "      <td>1</td>\n",
       "      <td>3</td>\n",
       "    </tr>\n",
       "    <tr>\n",
       "      <th>32</th>\n",
       "      <td>75</td>\n",
       "      <td>3</td>\n",
       "      <td>1</td>\n",
       "      <td>23</td>\n",
       "    </tr>\n",
       "    <tr>\n",
       "      <th>33</th>\n",
       "      <td>41</td>\n",
       "      <td>1</td>\n",
       "      <td>1</td>\n",
       "      <td>11</td>\n",
       "    </tr>\n",
       "    <tr>\n",
       "      <th>34</th>\n",
       "      <td>81</td>\n",
       "      <td>2</td>\n",
       "      <td>1</td>\n",
       "      <td>3</td>\n",
       "    </tr>\n",
       "    <tr>\n",
       "      <th>35</th>\n",
       "      <td>25</td>\n",
       "      <td>1</td>\n",
       "      <td>1</td>\n",
       "      <td>3</td>\n",
       "    </tr>\n",
       "    <tr>\n",
       "      <th>...</th>\n",
       "      <td>...</td>\n",
       "      <td>...</td>\n",
       "      <td>...</td>\n",
       "      <td>...</td>\n",
       "    </tr>\n",
       "    <tr>\n",
       "      <th>3371</th>\n",
       "      <td>62</td>\n",
       "      <td>3</td>\n",
       "      <td>1</td>\n",
       "      <td>6</td>\n",
       "    </tr>\n",
       "    <tr>\n",
       "      <th>3372</th>\n",
       "      <td>70</td>\n",
       "      <td>3</td>\n",
       "      <td>1</td>\n",
       "      <td>2</td>\n",
       "    </tr>\n",
       "    <tr>\n",
       "      <th>3373</th>\n",
       "      <td>65</td>\n",
       "      <td>4</td>\n",
       "      <td>1</td>\n",
       "      <td>6</td>\n",
       "    </tr>\n",
       "    <tr>\n",
       "      <th>3376</th>\n",
       "      <td>93</td>\n",
       "      <td>3</td>\n",
       "      <td>2</td>\n",
       "      <td>6</td>\n",
       "    </tr>\n",
       "    <tr>\n",
       "      <th>3380</th>\n",
       "      <td>90</td>\n",
       "      <td>3</td>\n",
       "      <td>2</td>\n",
       "      <td>6</td>\n",
       "    </tr>\n",
       "  </tbody>\n",
       "</table>\n",
       "<p>1762 rows × 4 columns</p>\n",
       "</div>"
      ],
      "text/plain": [
       "      m2  n_rooms  n_bath  last_update\n",
       "31    65        2       1            3\n",
       "32    75        3       1           23\n",
       "33    41        1       1           11\n",
       "34    81        2       1            3\n",
       "35    25        1       1            3\n",
       "...   ..      ...     ...          ...\n",
       "3371  62        3       1            6\n",
       "3372  70        3       1            2\n",
       "3373  65        4       1            6\n",
       "3376  93        3       2            6\n",
       "3380  90        3       2            6\n",
       "\n",
       "[1762 rows x 4 columns]"
      ]
     },
     "execution_count": 18,
     "metadata": {},
     "output_type": "execute_result"
    }
   ],
   "source": [
    "X_num"
   ]
  },
  {
   "cell_type": "code",
   "execution_count": 19,
   "metadata": {},
   "outputs": [
    {
     "data": {
      "text/plain": [
       "((1762, 4), (1762, 13))"
      ]
     },
     "execution_count": 19,
     "metadata": {},
     "output_type": "execute_result"
    }
   ],
   "source": [
    "def boxcox_transform(df):\n",
    "    numeric_cols = df.select_dtypes(np.number).columns\n",
    "    _ci = {column: None for column in numeric_cols}\n",
    "    for column in numeric_cols:\n",
    "        df[column] = np.where(df[column]<=0, np.NAN, df[column]) \n",
    "        df[column] = df[column].fillna(df[column].mean())\n",
    "        transformed_data, ci = stats.boxcox(df[column])\n",
    "        df[column] = transformed_data\n",
    "        _ci[column] = [ci] \n",
    "    return df, _ci\n",
    "\n",
    "X_num_norm, _ci = boxcox_transform(X_num)\n",
    "X_num_norm.shape, X_cat_enc.shape"
   ]
  },
  {
   "cell_type": "code",
   "execution_count": 20,
   "metadata": {},
   "outputs": [
    {
     "data": {
      "text/html": [
       "<div>\n",
       "<style scoped>\n",
       "    .dataframe tbody tr th:only-of-type {\n",
       "        vertical-align: middle;\n",
       "    }\n",
       "\n",
       "    .dataframe tbody tr th {\n",
       "        vertical-align: top;\n",
       "    }\n",
       "\n",
       "    .dataframe thead th {\n",
       "        text-align: right;\n",
       "    }\n",
       "</style>\n",
       "<table border=\"1\" class=\"dataframe\">\n",
       "  <thead>\n",
       "    <tr style=\"text-align: right;\">\n",
       "      <th></th>\n",
       "      <th>m2</th>\n",
       "      <th>n_rooms</th>\n",
       "      <th>n_bath</th>\n",
       "      <th>last_update</th>\n",
       "    </tr>\n",
       "  </thead>\n",
       "  <tbody>\n",
       "    <tr>\n",
       "      <th>0</th>\n",
       "      <td>0.530394</td>\n",
       "      <td>0.338043</td>\n",
       "      <td>0.0</td>\n",
       "      <td>0.317433</td>\n",
       "    </tr>\n",
       "    <tr>\n",
       "      <th>1</th>\n",
       "      <td>0.584619</td>\n",
       "      <td>0.595209</td>\n",
       "      <td>0.0</td>\n",
       "      <td>0.812827</td>\n",
       "    </tr>\n",
       "    <tr>\n",
       "      <th>2</th>\n",
       "      <td>0.370859</td>\n",
       "      <td>0.000000</td>\n",
       "      <td>0.0</td>\n",
       "      <td>0.646206</td>\n",
       "    </tr>\n",
       "    <tr>\n",
       "      <th>3</th>\n",
       "      <td>0.614764</td>\n",
       "      <td>0.338043</td>\n",
       "      <td>0.0</td>\n",
       "      <td>0.317433</td>\n",
       "    </tr>\n",
       "    <tr>\n",
       "      <th>4</th>\n",
       "      <td>0.222555</td>\n",
       "      <td>0.000000</td>\n",
       "      <td>0.0</td>\n",
       "      <td>0.317433</td>\n",
       "    </tr>\n",
       "  </tbody>\n",
       "</table>\n",
       "</div>"
      ],
      "text/plain": [
       "         m2   n_rooms  n_bath  last_update\n",
       "0  0.530394  0.338043     0.0     0.317433\n",
       "1  0.584619  0.595209     0.0     0.812827\n",
       "2  0.370859  0.000000     0.0     0.646206\n",
       "3  0.614764  0.338043     0.0     0.317433\n",
       "4  0.222555  0.000000     0.0     0.317433"
      ]
     },
     "execution_count": 20,
     "metadata": {},
     "output_type": "execute_result"
    }
   ],
   "source": [
    "scaler = preprocessing.MinMaxScaler()\n",
    "names = X_num.columns\n",
    "X_num = scaler.fit_transform(X_num)\n",
    "X_num_scaled = pd.DataFrame(X_num, columns=names)\n",
    "X_num_scaled.head()"
   ]
  },
  {
   "cell_type": "code",
   "execution_count": 21,
   "metadata": {},
   "outputs": [
    {
     "data": {
      "text/html": [
       "<div>\n",
       "<style scoped>\n",
       "    .dataframe tbody tr th:only-of-type {\n",
       "        vertical-align: middle;\n",
       "    }\n",
       "\n",
       "    .dataframe tbody tr th {\n",
       "        vertical-align: top;\n",
       "    }\n",
       "\n",
       "    .dataframe thead th {\n",
       "        text-align: right;\n",
       "    }\n",
       "</style>\n",
       "<table border=\"1\" class=\"dataframe\">\n",
       "  <thead>\n",
       "    <tr style=\"text-align: right;\">\n",
       "      <th></th>\n",
       "      <th>m2</th>\n",
       "      <th>n_rooms</th>\n",
       "      <th>n_bath</th>\n",
       "      <th>last_update</th>\n",
       "    </tr>\n",
       "  </thead>\n",
       "  <tbody>\n",
       "    <tr>\n",
       "      <th>31</th>\n",
       "      <td>8.360479</td>\n",
       "      <td>0.823570</td>\n",
       "      <td>0.000000</td>\n",
       "      <td>1.034350</td>\n",
       "    </tr>\n",
       "    <tr>\n",
       "      <th>32</th>\n",
       "      <td>8.875372</td>\n",
       "      <td>1.450100</td>\n",
       "      <td>0.000000</td>\n",
       "      <td>2.648586</td>\n",
       "    </tr>\n",
       "    <tr>\n",
       "      <th>33</th>\n",
       "      <td>6.845614</td>\n",
       "      <td>0.000000</td>\n",
       "      <td>0.000000</td>\n",
       "      <td>2.105655</td>\n",
       "    </tr>\n",
       "    <tr>\n",
       "      <th>34</th>\n",
       "      <td>9.161613</td>\n",
       "      <td>0.823570</td>\n",
       "      <td>0.000000</td>\n",
       "      <td>1.034350</td>\n",
       "    </tr>\n",
       "    <tr>\n",
       "      <th>35</th>\n",
       "      <td>5.437387</td>\n",
       "      <td>0.000000</td>\n",
       "      <td>0.000000</td>\n",
       "      <td>1.034350</td>\n",
       "    </tr>\n",
       "    <tr>\n",
       "      <th>...</th>\n",
       "      <td>...</td>\n",
       "      <td>...</td>\n",
       "      <td>...</td>\n",
       "      <td>...</td>\n",
       "    </tr>\n",
       "    <tr>\n",
       "      <th>3371</th>\n",
       "      <td>8.195279</td>\n",
       "      <td>1.450100</td>\n",
       "      <td>0.000000</td>\n",
       "      <td>1.625037</td>\n",
       "    </tr>\n",
       "    <tr>\n",
       "      <th>3372</th>\n",
       "      <td>8.624354</td>\n",
       "      <td>1.450100</td>\n",
       "      <td>0.000000</td>\n",
       "      <td>0.667187</td>\n",
       "    </tr>\n",
       "    <tr>\n",
       "      <th>3373</th>\n",
       "      <td>8.360479</td>\n",
       "      <td>1.975385</td>\n",
       "      <td>0.000000</td>\n",
       "      <td>1.625037</td>\n",
       "    </tr>\n",
       "    <tr>\n",
       "      <th>3376</th>\n",
       "      <td>9.692400</td>\n",
       "      <td>1.450100</td>\n",
       "      <td>0.133264</td>\n",
       "      <td>1.625037</td>\n",
       "    </tr>\n",
       "    <tr>\n",
       "      <th>3380</th>\n",
       "      <td>9.564410</td>\n",
       "      <td>1.450100</td>\n",
       "      <td>0.133264</td>\n",
       "      <td>1.625037</td>\n",
       "    </tr>\n",
       "  </tbody>\n",
       "</table>\n",
       "<p>1762 rows × 4 columns</p>\n",
       "</div>"
      ],
      "text/plain": [
       "            m2   n_rooms    n_bath  last_update\n",
       "31    8.360479  0.823570  0.000000     1.034350\n",
       "32    8.875372  1.450100  0.000000     2.648586\n",
       "33    6.845614  0.000000  0.000000     2.105655\n",
       "34    9.161613  0.823570  0.000000     1.034350\n",
       "35    5.437387  0.000000  0.000000     1.034350\n",
       "...        ...       ...       ...          ...\n",
       "3371  8.195279  1.450100  0.000000     1.625037\n",
       "3372  8.624354  1.450100  0.000000     0.667187\n",
       "3373  8.360479  1.975385  0.000000     1.625037\n",
       "3376  9.692400  1.450100  0.133264     1.625037\n",
       "3380  9.564410  1.450100  0.133264     1.625037\n",
       "\n",
       "[1762 rows x 4 columns]"
      ]
     },
     "execution_count": 21,
     "metadata": {},
     "output_type": "execute_result"
    }
   ],
   "source": [
    "X_num_norm"
   ]
  },
  {
   "cell_type": "code",
   "execution_count": 22,
   "metadata": {},
   "outputs": [
    {
     "data": {
      "text/html": [
       "<div>\n",
       "<style scoped>\n",
       "    .dataframe tbody tr th:only-of-type {\n",
       "        vertical-align: middle;\n",
       "    }\n",
       "\n",
       "    .dataframe tbody tr th {\n",
       "        vertical-align: top;\n",
       "    }\n",
       "\n",
       "    .dataframe thead th {\n",
       "        text-align: right;\n",
       "    }\n",
       "</style>\n",
       "<table border=\"1\" class=\"dataframe\">\n",
       "  <thead>\n",
       "    <tr style=\"text-align: right;\">\n",
       "      <th></th>\n",
       "      <th>m2</th>\n",
       "      <th>n_rooms</th>\n",
       "      <th>n_bath</th>\n",
       "      <th>last_update</th>\n",
       "    </tr>\n",
       "  </thead>\n",
       "  <tbody>\n",
       "    <tr>\n",
       "      <th>0</th>\n",
       "      <td>0.530394</td>\n",
       "      <td>0.338043</td>\n",
       "      <td>0.000000</td>\n",
       "      <td>0.317433</td>\n",
       "    </tr>\n",
       "    <tr>\n",
       "      <th>1</th>\n",
       "      <td>0.584619</td>\n",
       "      <td>0.595209</td>\n",
       "      <td>0.000000</td>\n",
       "      <td>0.812827</td>\n",
       "    </tr>\n",
       "    <tr>\n",
       "      <th>2</th>\n",
       "      <td>0.370859</td>\n",
       "      <td>0.000000</td>\n",
       "      <td>0.000000</td>\n",
       "      <td>0.646206</td>\n",
       "    </tr>\n",
       "    <tr>\n",
       "      <th>3</th>\n",
       "      <td>0.614764</td>\n",
       "      <td>0.338043</td>\n",
       "      <td>0.000000</td>\n",
       "      <td>0.317433</td>\n",
       "    </tr>\n",
       "    <tr>\n",
       "      <th>4</th>\n",
       "      <td>0.222555</td>\n",
       "      <td>0.000000</td>\n",
       "      <td>0.000000</td>\n",
       "      <td>0.317433</td>\n",
       "    </tr>\n",
       "    <tr>\n",
       "      <th>...</th>\n",
       "      <td>...</td>\n",
       "      <td>...</td>\n",
       "      <td>...</td>\n",
       "      <td>...</td>\n",
       "    </tr>\n",
       "    <tr>\n",
       "      <th>1757</th>\n",
       "      <td>0.512997</td>\n",
       "      <td>0.595209</td>\n",
       "      <td>0.000000</td>\n",
       "      <td>0.498709</td>\n",
       "    </tr>\n",
       "    <tr>\n",
       "      <th>1758</th>\n",
       "      <td>0.558184</td>\n",
       "      <td>0.595209</td>\n",
       "      <td>0.000000</td>\n",
       "      <td>0.204753</td>\n",
       "    </tr>\n",
       "    <tr>\n",
       "      <th>1759</th>\n",
       "      <td>0.530394</td>\n",
       "      <td>0.810818</td>\n",
       "      <td>0.000000</td>\n",
       "      <td>0.498709</td>\n",
       "    </tr>\n",
       "    <tr>\n",
       "      <th>1760</th>\n",
       "      <td>0.670663</td>\n",
       "      <td>0.595209</td>\n",
       "      <td>0.994358</td>\n",
       "      <td>0.498709</td>\n",
       "    </tr>\n",
       "    <tr>\n",
       "      <th>1761</th>\n",
       "      <td>0.657184</td>\n",
       "      <td>0.595209</td>\n",
       "      <td>0.994358</td>\n",
       "      <td>0.498709</td>\n",
       "    </tr>\n",
       "  </tbody>\n",
       "</table>\n",
       "<p>1762 rows × 4 columns</p>\n",
       "</div>"
      ],
      "text/plain": [
       "            m2   n_rooms    n_bath  last_update\n",
       "0     0.530394  0.338043  0.000000     0.317433\n",
       "1     0.584619  0.595209  0.000000     0.812827\n",
       "2     0.370859  0.000000  0.000000     0.646206\n",
       "3     0.614764  0.338043  0.000000     0.317433\n",
       "4     0.222555  0.000000  0.000000     0.317433\n",
       "...        ...       ...       ...          ...\n",
       "1757  0.512997  0.595209  0.000000     0.498709\n",
       "1758  0.558184  0.595209  0.000000     0.204753\n",
       "1759  0.530394  0.810818  0.000000     0.498709\n",
       "1760  0.670663  0.595209  0.994358     0.498709\n",
       "1761  0.657184  0.595209  0.994358     0.498709\n",
       "\n",
       "[1762 rows x 4 columns]"
      ]
     },
     "execution_count": 22,
     "metadata": {},
     "output_type": "execute_result"
    }
   ],
   "source": [
    "X_num_scaled"
   ]
  },
  {
   "cell_type": "code",
   "execution_count": 23,
   "metadata": {},
   "outputs": [],
   "source": [
    "X = np.concatenate([X_num_scaled, X_cat_enc], axis=1)"
   ]
  },
  {
   "cell_type": "code",
   "execution_count": 24,
   "metadata": {},
   "outputs": [
    {
     "data": {
      "text/plain": [
       "(1762, 17)"
      ]
     },
     "execution_count": 24,
     "metadata": {},
     "output_type": "execute_result"
    }
   ],
   "source": [
    "X.shape"
   ]
  },
  {
   "cell_type": "code",
   "execution_count": 25,
   "metadata": {},
   "outputs": [],
   "source": [
    "X_train, X_test, y_train, y_test = train_test_split(X, y, test_size=0.3, random_state=10)"
   ]
  },
  {
   "cell_type": "code",
   "execution_count": 26,
   "metadata": {},
   "outputs": [
    {
     "data": {
      "text/plain": [
       "LinearRegression()"
      ]
     },
     "execution_count": 26,
     "metadata": {},
     "output_type": "execute_result"
    }
   ],
   "source": [
    "model = LinearRegression()\n",
    "model.fit(X_train, y_train)"
   ]
  },
  {
   "cell_type": "code",
   "execution_count": 27,
   "metadata": {},
   "outputs": [
    {
     "name": "stdout",
     "output_type": "stream",
     "text": [
      "0.48320125342646547\n"
     ]
    }
   ],
   "source": [
    "predictions = model.predict(X_test)\n",
    "r2 = r2_score(y_test, predictions)\n",
    "print(r2)"
   ]
  },
  {
   "cell_type": "code",
   "execution_count": null,
   "metadata": {},
   "outputs": [],
   "source": []
  }
 ],
 "metadata": {
  "kernelspec": {
   "display_name": "ironhack_1",
   "language": "python",
   "name": "ironhack_1"
  },
  "language_info": {
   "codemirror_mode": {
    "name": "ipython",
    "version": 3
   },
   "file_extension": ".py",
   "mimetype": "text/x-python",
   "name": "python",
   "nbconvert_exporter": "python",
   "pygments_lexer": "ipython3",
   "version": "3.8.5"
  }
 },
 "nbformat": 4,
 "nbformat_minor": 5
}
