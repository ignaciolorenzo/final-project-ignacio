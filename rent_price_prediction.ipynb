{
 "cells": [
  {
   "cell_type": "markdown",
   "metadata": {},
   "source": [
    "# Imports"
   ]
  },
  {
   "cell_type": "code",
   "execution_count": 1,
   "metadata": {},
   "outputs": [],
   "source": [
    "import pandas as pd\n",
    "import seaborn as sns\n",
    "import matplotlib.pyplot as plt\n",
    "import warnings\n",
    "from functions import *\n",
    "import numpy as np\n",
    "from sklearn.model_selection import train_test_split\n",
    "from sklearn.linear_model import LinearRegression\n",
    "from sklearn.metrics import r2_score, mean_squared_error, mean_absolute_error\n",
    "from sklearn.preprocessing import OneHotEncoder, Normalizer, MinMaxScaler\n",
    "from sklearn import preprocessing\n",
    "import scipy.stats as stats\n",
    "from scipy.special import inv_boxcox\n",
    "import statsmodels.api as sm\n",
    "from imblearn.over_sampling import SMOTE\n",
    "import matplotlib.ticker as ticker\n",
    "from sklearn.pipeline import Pipeline\n",
    "from sklearn.ensemble import RandomForestRegressor\n",
    "from sklearn.model_selection import GridSearchCV\n",
    "from sklearn import metrics\n",
    "\n",
    "\n",
    "warnings.filterwarnings('ignore')"
   ]
  },
  {
   "cell_type": "code",
   "execution_count": 2,
   "metadata": {},
   "outputs": [],
   "source": [
    "rent_df = pd.read_csv('/Users/ignaciolorenzoqueralt/Documents/Ironhack/Final Project/properties/rent/2021.11.17_cataluña_1300_5.csv', engine='python' )\n",
    "rent_df = rent_df.loc[:, ~rent_df.columns.str.contains('^Unnamed')]"
   ]
  },
  {
   "cell_type": "markdown",
   "metadata": {},
   "source": [
    "# Working on the data"
   ]
  },
  {
   "cell_type": "markdown",
   "metadata": {},
   "source": [
    "### Adding sqm price for each neighborhood"
   ]
  },
  {
   "cell_type": "code",
   "execution_count": 3,
   "metadata": {},
   "outputs": [],
   "source": [
    "rent_df['hood_price_m2'] = \"\"\n",
    "\n",
    "for index, row in rent_df.iterrows():\n",
    "    hood_price_m2 = rent_df[rent_df['neighborhood'] == rent_df['neighborhood'][index]]['price_m2'].mean()\n",
    "    rent_df['hood_price_m2'][index] = hood_price_m2"
   ]
  },
  {
   "cell_type": "markdown",
   "metadata": {},
   "source": [
    "### Cleaning the data"
   ]
  },
  {
   "cell_type": "markdown",
   "metadata": {},
   "source": [
    "- Replacing nulls from last_update:"
   ]
  },
  {
   "cell_type": "code",
   "execution_count": 4,
   "metadata": {},
   "outputs": [],
   "source": [
    "clean_last_update(rent_df, c = 'last_update')"
   ]
  },
  {
   "cell_type": "markdown",
   "metadata": {},
   "source": [
    "- Replacing null values of lift column with 'no'. All properties with no lift data don't have a lift."
   ]
  },
  {
   "cell_type": "code",
   "execution_count": 5,
   "metadata": {},
   "outputs": [],
   "source": [
    "fill_lift_column(rent_df)"
   ]
  },
  {
   "cell_type": "markdown",
   "metadata": {},
   "source": [
    "- Dealing with null values"
   ]
  },
  {
   "cell_type": "code",
   "execution_count": 6,
   "metadata": {},
   "outputs": [
    {
     "name": "stdout",
     "output_type": "stream",
     "text": [
      "The column  area  has  11  null values\n",
      "The column  floor  has  2511  null values\n",
      "The column  ccaa  has  22  null values\n",
      "The column  description  has  11  null values\n",
      "The column  geo_town  has  36  null values\n",
      "The column  m2  has  36  null values\n",
      "The column  n_bath  has  36  null values\n",
      "The column  n_rooms  has  36  null values\n",
      "The column  name  has  36  null values\n",
      "The column  neighborhood  has  36  null values\n",
      "The column  opportunity  has  36  null values\n",
      "The column  price  has  36  null values\n",
      "The column  price_m2  has  61  null values\n",
      "The column  price_reduction  has  61  null values\n",
      "The column  province  has  61  null values\n",
      "The column  url  has  61  null values\n",
      "The column  hood_price_m2  has  61  null values\n"
     ]
    }
   ],
   "source": [
    "checking_nulls(rent_df)"
   ]
  },
  {
   "cell_type": "code",
   "execution_count": 7,
   "metadata": {},
   "outputs": [],
   "source": [
    "rent_df = rent_df.dropna()"
   ]
  },
  {
   "cell_type": "code",
   "execution_count": 8,
   "metadata": {},
   "outputs": [
    {
     "data": {
      "text/html": [
       "<div>\n",
       "<style scoped>\n",
       "    .dataframe tbody tr th:only-of-type {\n",
       "        vertical-align: middle;\n",
       "    }\n",
       "\n",
       "    .dataframe tbody tr th {\n",
       "        vertical-align: top;\n",
       "    }\n",
       "\n",
       "    .dataframe thead th {\n",
       "        text-align: right;\n",
       "    }\n",
       "</style>\n",
       "<table border=\"1\" class=\"dataframe\">\n",
       "  <thead>\n",
       "    <tr style=\"text-align: right;\">\n",
       "      <th></th>\n",
       "      <th>area</th>\n",
       "      <th>floor</th>\n",
       "      <th>ccaa</th>\n",
       "      <th>description</th>\n",
       "      <th>geo_town</th>\n",
       "      <th>last_update</th>\n",
       "      <th>lift</th>\n",
       "      <th>m2</th>\n",
       "      <th>n_bath</th>\n",
       "      <th>n_rooms</th>\n",
       "      <th>name</th>\n",
       "      <th>neighborhood</th>\n",
       "      <th>opportunity</th>\n",
       "      <th>price</th>\n",
       "      <th>price_m2</th>\n",
       "      <th>price_reduction</th>\n",
       "      <th>province</th>\n",
       "      <th>url</th>\n",
       "      <th>hood_price_m2</th>\n",
       "    </tr>\n",
       "  </thead>\n",
       "  <tbody>\n",
       "    <tr>\n",
       "      <th>1</th>\n",
       "      <td>Arenys de Mar</td>\n",
       "      <td>first</td>\n",
       "      <td>cataluña</td>\n",
       "      <td>INMUEBLE NO SUJETO A LA LIMITACIÓN DE PRECIOS ...</td>\n",
       "      <td>arenys_de_mar</td>\n",
       "      <td>0.0</td>\n",
       "      <td>yes</td>\n",
       "      <td>70</td>\n",
       "      <td>1</td>\n",
       "      <td>3.0</td>\n",
       "      <td>Alquiler Apartamento  N ii junquera. Por meses...</td>\n",
       "      <td>Urbanitzacions</td>\n",
       "      <td>no</td>\n",
       "      <td>900</td>\n",
       "      <td>12.0</td>\n",
       "      <td>80.0</td>\n",
       "      <td>barcelona</td>\n",
       "      <td>https://www.habitaclia.com/alquiler-apartament...</td>\n",
       "      <td>9.368421</td>\n",
       "    </tr>\n",
       "  </tbody>\n",
       "</table>\n",
       "</div>"
      ],
      "text/plain": [
       "             area  floor      ccaa  \\\n",
       "1  Arenys de Mar   first  cataluña   \n",
       "\n",
       "                                         description       geo_town  \\\n",
       "1  INMUEBLE NO SUJETO A LA LIMITACIÓN DE PRECIOS ...  arenys_de_mar   \n",
       "\n",
       "   last_update lift  m2 n_bath  n_rooms  \\\n",
       "1          0.0  yes  70      1      3.0   \n",
       "\n",
       "                                                name    neighborhood  \\\n",
       "1  Alquiler Apartamento  N ii junquera. Por meses...  Urbanitzacions   \n",
       "\n",
       "  opportunity price  price_m2  price_reduction   province  \\\n",
       "1          no   900      12.0             80.0  barcelona   \n",
       "\n",
       "                                                 url hood_price_m2  \n",
       "1  https://www.habitaclia.com/alquiler-apartament...      9.368421  "
      ]
     },
     "execution_count": 8,
     "metadata": {},
     "output_type": "execute_result"
    }
   ],
   "source": [
    "rent_df.head(1)"
   ]
  },
  {
   "cell_type": "markdown",
   "metadata": {},
   "source": [
    "- Creating df with the neighborhoods of the df and its hood_price_m2:"
   ]
  },
  {
   "cell_type": "code",
   "execution_count": 9,
   "metadata": {},
   "outputs": [
    {
     "data": {
      "text/html": [
       "<div>\n",
       "<style scoped>\n",
       "    .dataframe tbody tr th:only-of-type {\n",
       "        vertical-align: middle;\n",
       "    }\n",
       "\n",
       "    .dataframe tbody tr th {\n",
       "        vertical-align: top;\n",
       "    }\n",
       "\n",
       "    .dataframe thead th {\n",
       "        text-align: right;\n",
       "    }\n",
       "</style>\n",
       "<table border=\"1\" class=\"dataframe\">\n",
       "  <thead>\n",
       "    <tr style=\"text-align: right;\">\n",
       "      <th></th>\n",
       "      <th>neighborhood</th>\n",
       "      <th>geo_town</th>\n",
       "      <th>hood_price_m2</th>\n",
       "    </tr>\n",
       "  </thead>\n",
       "  <tbody>\n",
       "    <tr>\n",
       "      <th>0</th>\n",
       "      <td>Zona alta</td>\n",
       "      <td>arenys_de_mar</td>\n",
       "      <td>9.333333</td>\n",
       "    </tr>\n",
       "    <tr>\n",
       "      <th>1</th>\n",
       "      <td>Nucli Urbà</td>\n",
       "      <td>argentona</td>\n",
       "      <td>8.384615</td>\n",
       "    </tr>\n",
       "    <tr>\n",
       "      <th>2</th>\n",
       "      <td>Montigalà</td>\n",
       "      <td>badalona</td>\n",
       "      <td>12.0</td>\n",
       "    </tr>\n",
       "  </tbody>\n",
       "</table>\n",
       "</div>"
      ],
      "text/plain": [
       "  neighborhood       geo_town hood_price_m2\n",
       "0    Zona alta  arenys_de_mar      9.333333\n",
       "1   Nucli Urbà      argentona      8.384615\n",
       "2    Montigalà       badalona          12.0"
      ]
     },
     "execution_count": 9,
     "metadata": {},
     "output_type": "execute_result"
    }
   ],
   "source": [
    "neighborhood_price_sqm = rent_df[['neighborhood','geo_town','hood_price_m2']].copy()\n",
    "neighborhood_price_sqm.drop_duplicates(keep=False,inplace=True)\n",
    "neighborhood_price_sqm = neighborhood_price_sqm.reset_index(drop=True)\n",
    "neighborhood_price_sqm.head(3)"
   ]
  },
  {
   "cell_type": "markdown",
   "metadata": {},
   "source": [
    "- Cleaning numerical variables"
   ]
  },
  {
   "cell_type": "code",
   "execution_count": 10,
   "metadata": {},
   "outputs": [],
   "source": [
    "numericals = ['m2', 'n_rooms', 'n_bath', 'price_m2', 'price', 'price_reduction', 'last_update', 'hood_price_m2']\n",
    "convert_to_numerical(rent_df, numericals)"
   ]
  },
  {
   "cell_type": "markdown",
   "metadata": {},
   "source": [
    "- Filtering out towns in which there are less than x properties listed."
   ]
  },
  {
   "cell_type": "code",
   "execution_count": 11,
   "metadata": {},
   "outputs": [],
   "source": [
    "filtered_towns = list(rent_df['geo_town'].value_counts()[lambda x: x > 10].index)\n",
    "rent_df = rent_df[rent_df['geo_town'].isin(filtered_towns)]"
   ]
  },
  {
   "cell_type": "markdown",
   "metadata": {},
   "source": [
    "# Exploratory analysis"
   ]
  },
  {
   "cell_type": "code",
   "execution_count": 12,
   "metadata": {},
   "outputs": [
    {
     "data": {
      "text/html": [
       "<div>\n",
       "<style scoped>\n",
       "    .dataframe tbody tr th:only-of-type {\n",
       "        vertical-align: middle;\n",
       "    }\n",
       "\n",
       "    .dataframe tbody tr th {\n",
       "        vertical-align: top;\n",
       "    }\n",
       "\n",
       "    .dataframe thead th {\n",
       "        text-align: right;\n",
       "    }\n",
       "</style>\n",
       "<table border=\"1\" class=\"dataframe\">\n",
       "  <thead>\n",
       "    <tr style=\"text-align: right;\">\n",
       "      <th></th>\n",
       "      <th>area</th>\n",
       "      <th>floor</th>\n",
       "      <th>ccaa</th>\n",
       "      <th>description</th>\n",
       "      <th>geo_town</th>\n",
       "      <th>last_update</th>\n",
       "      <th>lift</th>\n",
       "      <th>m2</th>\n",
       "      <th>n_bath</th>\n",
       "      <th>n_rooms</th>\n",
       "      <th>name</th>\n",
       "      <th>neighborhood</th>\n",
       "      <th>opportunity</th>\n",
       "      <th>price</th>\n",
       "      <th>price_m2</th>\n",
       "      <th>price_reduction</th>\n",
       "      <th>province</th>\n",
       "      <th>url</th>\n",
       "      <th>hood_price_m2</th>\n",
       "    </tr>\n",
       "  </thead>\n",
       "  <tbody>\n",
       "    <tr>\n",
       "      <th>1</th>\n",
       "      <td>Arenys de Mar</td>\n",
       "      <td>first</td>\n",
       "      <td>cataluña</td>\n",
       "      <td>INMUEBLE NO SUJETO A LA LIMITACIÓN DE PRECIOS ...</td>\n",
       "      <td>arenys_de_mar</td>\n",
       "      <td>0</td>\n",
       "      <td>yes</td>\n",
       "      <td>70</td>\n",
       "      <td>1</td>\n",
       "      <td>3</td>\n",
       "      <td>Alquiler Apartamento  N ii junquera. Por meses...</td>\n",
       "      <td>Urbanitzacions</td>\n",
       "      <td>no</td>\n",
       "      <td>900</td>\n",
       "      <td>12</td>\n",
       "      <td>80</td>\n",
       "      <td>barcelona</td>\n",
       "      <td>https://www.habitaclia.com/alquiler-apartament...</td>\n",
       "      <td>9</td>\n",
       "    </tr>\n",
       "    <tr>\n",
       "      <th>2</th>\n",
       "      <td>Arenys de Mar</td>\n",
       "      <td>fourth</td>\n",
       "      <td>cataluña</td>\n",
       "      <td>Vivienda en la Urbanización Carolines de Areny...</td>\n",
       "      <td>arenys_de_mar</td>\n",
       "      <td>8</td>\n",
       "      <td>yes</td>\n",
       "      <td>89</td>\n",
       "      <td>1</td>\n",
       "      <td>2</td>\n",
       "      <td>Alquiler Piso  en  Carrer mig (del), 20. Vivie...</td>\n",
       "      <td>Urbanitzacions</td>\n",
       "      <td>no</td>\n",
       "      <td>680</td>\n",
       "      <td>7</td>\n",
       "      <td>20</td>\n",
       "      <td>barcelona</td>\n",
       "      <td>https://www.habitaclia.com/alquiler-piso-vivie...</td>\n",
       "      <td>9</td>\n",
       "    </tr>\n",
       "    <tr>\n",
       "      <th>4</th>\n",
       "      <td>Arenys de Mar</td>\n",
       "      <td>second</td>\n",
       "      <td>cataluña</td>\n",
       "      <td>ALQUILER DE TEMPORADA - Bonito piso de 70 m2 t...</td>\n",
       "      <td>arenys_de_mar</td>\n",
       "      <td>13</td>\n",
       "      <td>yes</td>\n",
       "      <td>70</td>\n",
       "      <td>1</td>\n",
       "      <td>3</td>\n",
       "      <td>Alquiler Apartamento  Carrer camí ral del caba...</td>\n",
       "      <td>Urbanitzacions</td>\n",
       "      <td>no</td>\n",
       "      <td>900</td>\n",
       "      <td>12</td>\n",
       "      <td>80</td>\n",
       "      <td>barcelona</td>\n",
       "      <td>https://www.habitaclia.com/alquiler-apartament...</td>\n",
       "      <td>9</td>\n",
       "    </tr>\n",
       "  </tbody>\n",
       "</table>\n",
       "</div>"
      ],
      "text/plain": [
       "             area   floor      ccaa  \\\n",
       "1  Arenys de Mar    first  cataluña   \n",
       "2  Arenys de Mar   fourth  cataluña   \n",
       "4  Arenys de Mar   second  cataluña   \n",
       "\n",
       "                                         description       geo_town  \\\n",
       "1  INMUEBLE NO SUJETO A LA LIMITACIÓN DE PRECIOS ...  arenys_de_mar   \n",
       "2  Vivienda en la Urbanización Carolines de Areny...  arenys_de_mar   \n",
       "4  ALQUILER DE TEMPORADA - Bonito piso de 70 m2 t...  arenys_de_mar   \n",
       "\n",
       "   last_update lift  m2  n_bath  n_rooms  \\\n",
       "1            0  yes  70       1        3   \n",
       "2            8  yes  89       1        2   \n",
       "4           13  yes  70       1        3   \n",
       "\n",
       "                                                name    neighborhood  \\\n",
       "1  Alquiler Apartamento  N ii junquera. Por meses...  Urbanitzacions   \n",
       "2  Alquiler Piso  en  Carrer mig (del), 20. Vivie...  Urbanitzacions   \n",
       "4  Alquiler Apartamento  Carrer camí ral del caba...  Urbanitzacions   \n",
       "\n",
       "  opportunity  price  price_m2  price_reduction   province  \\\n",
       "1          no    900        12               80  barcelona   \n",
       "2          no    680         7               20  barcelona   \n",
       "4          no    900        12               80  barcelona   \n",
       "\n",
       "                                                 url  hood_price_m2  \n",
       "1  https://www.habitaclia.com/alquiler-apartament...              9  \n",
       "2  https://www.habitaclia.com/alquiler-piso-vivie...              9  \n",
       "4  https://www.habitaclia.com/alquiler-apartament...              9  "
      ]
     },
     "execution_count": 12,
     "metadata": {},
     "output_type": "execute_result"
    }
   ],
   "source": [
    "rent_df.head(3)"
   ]
  },
  {
   "cell_type": "code",
   "execution_count": 13,
   "metadata": {},
   "outputs": [
    {
     "data": {
      "text/plain": [
       "(2276, 19)"
      ]
     },
     "execution_count": 13,
     "metadata": {},
     "output_type": "execute_result"
    }
   ],
   "source": [
    "rent_df.shape"
   ]
  },
  {
   "cell_type": "code",
   "execution_count": 14,
   "metadata": {},
   "outputs": [
    {
     "data": {
      "text/plain": [
       "area               object\n",
       "floor              object\n",
       "ccaa               object\n",
       "description        object\n",
       "geo_town           object\n",
       "last_update         int64\n",
       "lift               object\n",
       "m2                  int64\n",
       "n_bath              int64\n",
       "n_rooms             int64\n",
       "name               object\n",
       "neighborhood       object\n",
       "opportunity        object\n",
       "price               int64\n",
       "price_m2            int64\n",
       "price_reduction     int64\n",
       "province           object\n",
       "url                object\n",
       "hood_price_m2       int64\n",
       "dtype: object"
      ]
     },
     "execution_count": 14,
     "metadata": {},
     "output_type": "execute_result"
    }
   ],
   "source": [
    "rent_df.dtypes"
   ]
  },
  {
   "cell_type": "code",
   "execution_count": 15,
   "metadata": {},
   "outputs": [
    {
     "data": {
      "image/png": "[encoded data removed]",
      "text/plain": [
       "<Figure size 1008x360 with 1 Axes>"
      ]
     },
     "metadata": {
      "needs_background": "light"
     },
     "output_type": "display_data"
    }
   ],
   "source": [
    "countplot(rent_df,c = \"geo_town\")"
   ]
  },
  {
   "cell_type": "markdown",
   "metadata": {},
   "source": [
    "# Model"
   ]
  },
  {
   "cell_type": "code",
   "execution_count": 16,
   "metadata": {},
   "outputs": [],
   "source": [
    "model_comparisson = pd.DataFrame(columns = ['city_type', 'model', 'r2', 'mean_absolute_error', 'mean_squared_error'])"
   ]
  },
  {
   "cell_type": "markdown",
   "metadata": {},
   "source": [
    "#### Feature selection"
   ]
  },
  {
   "cell_type": "markdown",
   "metadata": {},
   "source": [
    "We skip neighborhood as it would add too many distinct categorical values which would increase too much the size of the model when encoding it."
   ]
  },
  {
   "cell_type": "markdown",
   "metadata": {},
   "source": [
    "## Model for small towns"
   ]
  },
  {
   "cell_type": "code",
   "execution_count": 17,
   "metadata": {},
   "outputs": [],
   "source": [
    "model_df = rent_df[['m2', 'n_rooms', 'n_bath', 'last_update', 'geo_town', 'province', 'ccaa', 'price', 'lift', 'floor', 'hood_price_m2']].copy()"
   ]
  },
  {
   "cell_type": "markdown",
   "metadata": {},
   "source": [
    "#### Filtering out big cities"
   ]
  },
  {
   "cell_type": "code",
   "execution_count": 18,
   "metadata": {},
   "outputs": [],
   "source": [
    "model_df_small = model_df[model_df['geo_town'] != filtering_big_cities(model_df)]"
   ]
  },
  {
   "cell_type": "markdown",
   "metadata": {},
   "source": [
    "#### Removing outliers"
   ]
  },
  {
   "cell_type": "code",
   "execution_count": 19,
   "metadata": {},
   "outputs": [],
   "source": [
    "model_df_small = remove_outliers(model_df_small, threshold=1.5, in_columns = ['m2', 'n_rooms', 'last_update', 'price', 'hood_price_m2'])"
   ]
  },
  {
   "cell_type": "markdown",
   "metadata": {},
   "source": [
    "#### Visualising our data"
   ]
  },
  {
   "cell_type": "code",
   "execution_count": 20,
   "metadata": {},
   "outputs": [
    {
     "data": {
      "image/png": "[encoded data removed]",
      "text/plain": [
       "<Figure size 1296x648 with 12 Axes>"
      ]
     },
     "metadata": {
      "needs_background": "light"
     },
     "output_type": "display_data"
    }
   ],
   "source": [
    "fig, axes = plt.subplots(nrows=3, ncols=4, figsize=(18, 9))\n",
    "axes = axes.flat\n",
    "numeric_columns = model_df_small.select_dtypes(include=['float64', 'int']).columns\n",
    "\n",
    "for i, column in enumerate(numeric_columns):\n",
    "    ii = i+i\n",
    "    ie = ii-1\n",
    "    \n",
    "    sns.histplot(\n",
    "        data    = model_df_small,\n",
    "        x       = column,\n",
    "        stat    = \"count\",\n",
    "        kde     = True,\n",
    "        color   = (list(plt.rcParams['axes.prop_cycle'])*2)[i][\"color\"],\n",
    "        line_kws= {'linewidth': 2},\n",
    "        alpha   = 0.3,\n",
    "        ax      = axes[ie]\n",
    "    )\n",
    "    \n",
    "    sns.boxplot(\n",
    "        data    = model_df_small,\n",
    "        x       = column,\n",
    "        color   = (list(plt.rcParams['axes.prop_cycle'])*2)[i][\"color\"],\n",
    "        ax      = axes[ie-1]\n",
    "    )\n",
    "    \n",
    "fig.tight_layout()\n",
    "plt.subplots_adjust(top = 0.9)\n",
    "fig.suptitle('Numerical features', fontsize = 12, fontweight = \"bold\");"
   ]
  },
  {
   "cell_type": "code",
   "execution_count": 21,
   "metadata": {},
   "outputs": [
    {
     "data": {
      "image/png": "[encoded data removed]",
      "text/plain": [
       "<Figure size 1584x720 with 5 Axes>"
      ]
     },
     "metadata": {
      "needs_background": "light"
     },
     "output_type": "display_data"
    }
   ],
   "source": [
    "fig, axes = plt.subplots(nrows=2, ncols=3, figsize=(22, 10))\n",
    "axes = axes.flat\n",
    "categorical_columns = model_df_small.select_dtypes(include=['object']).columns\n",
    "\n",
    "for i, column in enumerate(categorical_columns):\n",
    "    ax = sns.countplot(\n",
    "            data    = model_df_small,\n",
    "            x       = column,\n",
    "            color   = (list(plt.rcParams['axes.prop_cycle'])*2)[i][\"color\"],\n",
    "            alpha   = 0.3,\n",
    "            ax      = axes[i],\n",
    "            order = model_df_small[column].value_counts().index,\n",
    "        \n",
    "        )\n",
    "    axes[i].set_xticklabels(ax.get_xticklabels(),rotation = 90)\n",
    "    axes[i].set_title(column, fontsize = 12)\n",
    "    axes[i].tick_params(labelsize = 12)\n",
    "    axes[i].set_xlabel(\"\")\n",
    "\n",
    "for i in [5]:\n",
    "    fig.delaxes(axes[i])\n",
    "    \n",
    "plt.tight_layout(pad=0.4, w_pad=0.5, h_pad=5)\n",
    "plt.subplots_adjust(top = 0.9)\n",
    "fig.suptitle('Numerical features', fontsize = 12, fontweight = \"bold\");"
   ]
  },
  {
   "cell_type": "markdown",
   "metadata": {},
   "source": [
    "#### X-y Split"
   ]
  },
  {
   "cell_type": "code",
   "execution_count": 22,
   "metadata": {},
   "outputs": [],
   "source": [
    "X = model_df_small.drop('price', axis=1)\n",
    "y = model_df_small[['price']].copy()"
   ]
  },
  {
   "cell_type": "markdown",
   "metadata": {},
   "source": [
    "#### Encoding categoricals and normalizing numericals"
   ]
  },
  {
   "cell_type": "code",
   "execution_count": 23,
   "metadata": {},
   "outputs": [
    {
     "data": {
      "text/plain": [
       "(693, 44)"
      ]
     },
     "execution_count": 23,
     "metadata": {},
     "output_type": "execute_result"
    }
   ],
   "source": [
    "X_cat = X.select_dtypes('object')\n",
    "X_num = X.select_dtypes('int')\n",
    "\n",
    "X_cat_enc = pd.get_dummies(X_cat, drop_first=True)\n",
    "X_num_norm, _ci = boxcox_transform(X_num)\n",
    "\n",
    "X = np.concatenate([X_num_norm, X_cat_enc], axis=1)\n",
    "X.shape"
   ]
  },
  {
   "cell_type": "markdown",
   "metadata": {},
   "source": [
    "#### Train-test split"
   ]
  },
  {
   "cell_type": "code",
   "execution_count": 24,
   "metadata": {},
   "outputs": [],
   "source": [
    "X_train, X_test, y_train, y_test = train_test_split(X, y, test_size=0.3, random_state=10)"
   ]
  },
  {
   "cell_type": "markdown",
   "metadata": {},
   "source": [
    "#### Fitting and running the model"
   ]
  },
  {
   "cell_type": "code",
   "execution_count": 25,
   "metadata": {},
   "outputs": [],
   "source": [
    "reg_small_city = LinearRegression()\n",
    "reg_small_city.fit(X_train, y_train)\n",
    "\n",
    "predictions = reg_small_city.predict(X_test)\n",
    "r2 = r2_score(y_test, predictions)"
   ]
  },
  {
   "cell_type": "code",
   "execution_count": 26,
   "metadata": {},
   "outputs": [],
   "source": [
    "new_row = {'city_type':'small', 'model':reg_small_city, 'r2':r2, 'mean_absolute_error':mean_absolute_error(y_test, predictions), 'mean_squared_error':mean_squared_error(y_test, predictions, squared=False)}\n",
    "model_comparisson = model_comparisson.append(new_row, ignore_index=True)"
   ]
  },
  {
   "cell_type": "code",
   "execution_count": 27,
   "metadata": {},
   "outputs": [
    {
     "name": "stdout",
     "output_type": "stream",
     "text": [
      "R2:  0.6824\n",
      "mean_absolute_error:  93.43890626461663\n",
      "mean_squared_error:  120.8962614544325\n",
      "y_test price mean:  815.4134615384615\n",
      "y_train price mean:  809.0907216494845\n"
     ]
    }
   ],
   "source": [
    "print('R2: ', round(r2,4))\n",
    "print('mean_absolute_error: ', mean_absolute_error(y_test, predictions))\n",
    "print('mean_squared_error: ', mean_squared_error(y_test, predictions, squared=False))\n",
    "print('y_test price mean: ', y_test['price'].mean())\n",
    "print('y_train price mean: ', y_train['price'].mean())"
   ]
  },
  {
   "cell_type": "code",
   "execution_count": 28,
   "metadata": {},
   "outputs": [],
   "source": [
    "y_test['predicted'] = predictions\n",
    "y_test['difference_%'] = ((y_test['predicted']-y_test['price'])/y_test['predicted'])*100"
   ]
  },
  {
   "cell_type": "code",
   "execution_count": 29,
   "metadata": {},
   "outputs": [
    {
     "data": {
      "image/png": "[encoded data removed]",
      "text/plain": [
       "<Figure size 1008x288 with 2 Axes>"
      ]
     },
     "metadata": {
      "needs_background": "light"
     },
     "output_type": "display_data"
    }
   ],
   "source": [
    "fig, axes = plt.subplots(nrows=1, ncols=2, figsize=(14, 4))\n",
    "\n",
    "sns.histplot(\n",
    "    x = y_test.sort_values(by=\"difference_%\", ascending=False)['difference_%'],\n",
    "    stat = \"count\",\n",
    "    kde = True,\n",
    "    color = (list(plt.rcParams['axes.prop_cycle'])*2)[i][\"color\"],\n",
    "    line_kws= {'linewidth': 2},\n",
    "    alpha = 0.3,\n",
    "    ax = axes[0]\n",
    ")\n",
    "   \n",
    "sns.residplot(\n",
    "    x=y_test.price, \n",
    "    y=y_test['difference_%'], \n",
    "    lowess=True, \n",
    "    color=\"g\",\n",
    "    ax = axes[1]\n",
    ")\n",
    "\n",
    "#fig.tight_layout()\n",
    "plt.subplots_adjust(top=0.9)"
   ]
  },
  {
   "cell_type": "code",
   "execution_count": 30,
   "metadata": {},
   "outputs": [
    {
     "data": {
      "text/plain": [
       "<seaborn.axisgrid.JointGrid at 0x7faf35e2d730>"
      ]
     },
     "execution_count": 30,
     "metadata": {},
     "output_type": "execute_result"
    },
    {
     "data": {
      "image/png": "[encoded data removed]",
      "text/plain": [
       "<Figure size 432x432 with 3 Axes>"
      ]
     },
     "metadata": {
      "needs_background": "light"
     },
     "output_type": "display_data"
    }
   ],
   "source": [
    "sns.jointplot(x=y_test.price, y=y_test.predicted, kind=\"hex\", color=\"#4CB391\")"
   ]
  },
  {
   "cell_type": "markdown",
   "metadata": {},
   "source": [
    "Gridsearch"
   ]
  },
  {
   "cell_type": "code",
   "execution_count": null,
   "metadata": {},
   "outputs": [
    {
     "name": "stdout",
     "output_type": "stream",
     "text": [
      "Fitting 5 folds for each of 1401 candidates, totalling 7005 fits\n"
     ]
    }
   ],
   "source": [
    "pipe = Pipeline(steps=[('estimator', LinearRegression())])\n",
    "params_grid = [ {'estimator':[LinearRegression()],\n",
    "                },\n",
    "               {'estimator': [RandomForestRegressor()],\n",
    "               'estimator__n_estimators':[10, 50, 100, 200, 300, 500, 600],\n",
    "                'estimator__max_depth':[1, 2, 3, 4, 5, 6, 7, None],\n",
    "                'estimator__min_samples_split':[2, 3, 4, 5, None],\n",
    "                'estimator__min_samples_leaf':[1, 2, 3, 4, 5],\n",
    "               }\n",
    "              ]\n",
    "grid = GridSearchCV(pipe, params_grid, n_jobs =-1, verbose = 2)\n",
    "res = grid.fit(X, y)\n",
    "\n",
    "grid.best_params_\n",
    "\n",
    "grid_results = pd.DataFrame(grid.cv_results_)\n",
    "grid_results.sort_values(by=\"rank_test_score\").head(10)"
   ]
  },
  {
   "cell_type": "code",
   "execution_count": null,
   "metadata": {},
   "outputs": [],
   "source": [
    "X_train, X_test, y_train, y_test = train_test_split(X, y, test_size=0.3, random_state=10)\n",
    "\n",
    "rf_small_city = RandomForestRegressor(n_estimators = 50, max_depth =  None, min_samples_split = 5, min_samples_leaf = 2, random_state = 42)\n",
    "rf_small_city.fit(X_train, y_train)\n",
    "predictions = rf_small_city.predict(X_test)\n",
    "r2 = metrics.r2_score(y_test, predictions)\n",
    " \n",
    "new_row = {'city_type':'small', 'model':rf_small_city, 'r2':r2, 'mean_absolute_error':mean_absolute_error(y_test, predictions), 'mean_squared_error':mean_squared_error(y_test, predictions, squared=False)}\n",
    "model_comparisson = model_comparisson.append(new_row, ignore_index=True)\n",
    "\n",
    "print(metrics.mean_absolute_error(y_test, predictions))\n",
    "print(metrics.mean_squared_error(y_test, predictions, squared=False))\n",
    "print(metrics.r2_score(y_test, predictions))"
   ]
  },
  {
   "cell_type": "markdown",
   "metadata": {},
   "source": [
    "#### Evaluating variables"
   ]
  },
  {
   "cell_type": "code",
   "execution_count": null,
   "metadata": {},
   "outputs": [],
   "source": [
    "# check the correlations\n",
    "mask = np.zeros_like(model_df.corr())\n",
    "\n",
    "mask[np.triu_indices_from(mask)] = True # optional, to hide repeat half of the matrix\n",
    "\n",
    "fig, ax = plt.subplots(figsize=(7, 7))\n",
    "ax = sns.heatmap(model_df.corr(), mask=mask, annot=True)\n",
    "plt.show()"
   ]
  },
  {
   "cell_type": "markdown",
   "metadata": {},
   "source": [
    "## Model for big cities"
   ]
  },
  {
   "cell_type": "code",
   "execution_count": null,
   "metadata": {},
   "outputs": [],
   "source": [
    "model_df = rent_df[['geo_town', 'm2', 'n_rooms', 'n_bath', 'last_update', 'price', 'lift', 'floor', 'hood_price_m2', 'neighborhood']].copy()"
   ]
  },
  {
   "cell_type": "markdown",
   "metadata": {},
   "source": [
    "#### Filtering out small towns"
   ]
  },
  {
   "cell_type": "code",
   "execution_count": null,
   "metadata": {},
   "outputs": [],
   "source": [
    "model_df_big = model_df[model_df['geo_town'] == filtering_big_cities(model_df)]"
   ]
  },
  {
   "cell_type": "code",
   "execution_count": null,
   "metadata": {},
   "outputs": [],
   "source": [
    "filtered_neighborhoods = list(model_df_big['neighborhood'].value_counts()[lambda x: x > 10].index)\n",
    "model_df_big = model_df_big[model_df_big['neighborhood'].isin(filtered_neighborhoods)]\n",
    "model_df_big.shape"
   ]
  },
  {
   "cell_type": "markdown",
   "metadata": {},
   "source": [
    "#### Removing outliers"
   ]
  },
  {
   "cell_type": "code",
   "execution_count": null,
   "metadata": {},
   "outputs": [],
   "source": [
    "model_df_big = remove_outliers(model_df_big, threshold=1.5, in_columns = ['m2', 'n_rooms', 'last_update', 'price', 'hood_price_m2'])"
   ]
  },
  {
   "cell_type": "markdown",
   "metadata": {},
   "source": [
    "#### Visualising our data"
   ]
  },
  {
   "cell_type": "code",
   "execution_count": null,
   "metadata": {},
   "outputs": [],
   "source": [
    "fig, axes = plt.subplots(nrows=3, ncols=4, figsize=(18, 9))\n",
    "axes = axes.flat\n",
    "numeric_columns = model_df_big.select_dtypes(include=['float64', 'int']).columns\n",
    "\n",
    "for i, column in enumerate(numeric_columns):\n",
    "    ii = i+i\n",
    "    ie = ii-1\n",
    "    \n",
    "    sns.histplot(\n",
    "        data    = model_df_big,\n",
    "        x       = column,\n",
    "        stat    = \"count\",\n",
    "        kde     = True,\n",
    "        color   = (list(plt.rcParams['axes.prop_cycle'])*2)[i][\"color\"],\n",
    "        line_kws= {'linewidth': 2},\n",
    "        alpha   = 0.3,\n",
    "        ax      = axes[ie]\n",
    "    )\n",
    "    \n",
    "    sns.boxplot(\n",
    "        data    = model_df_big,\n",
    "        x       = column,\n",
    "        color   = (list(plt.rcParams['axes.prop_cycle'])*2)[i][\"color\"],\n",
    "        ax      = axes[ie-1]\n",
    "    )\n",
    "    \n",
    "fig.tight_layout()\n",
    "plt.subplots_adjust(top = 0.9)\n",
    "fig.suptitle('Numerical features', fontsize = 12, fontweight = \"bold\");"
   ]
  },
  {
   "cell_type": "code",
   "execution_count": null,
   "metadata": {},
   "outputs": [],
   "source": [
    "fig, axes = plt.subplots(nrows=2, ncols=2, figsize=(16, 10))\n",
    "axes = axes.flat\n",
    "categorical_columns = model_df_big.select_dtypes(include=['object']).columns\n",
    "\n",
    "for i, column in enumerate(categorical_columns):\n",
    "    ax = sns.countplot(\n",
    "            data    = model_df_big,\n",
    "            x       = column,\n",
    "            color   = (list(plt.rcParams['axes.prop_cycle'])*2)[i][\"color\"],\n",
    "            alpha   = 0.3,\n",
    "            ax      = axes[i],\n",
    "            order = model_df_big[column].value_counts().index,\n",
    "        \n",
    "        )\n",
    "    axes[i].set_xticklabels(ax.get_xticklabels(),rotation = 90)\n",
    "    axes[i].set_title(column, fontsize = 12)\n",
    "    axes[i].tick_params(labelsize = 12)\n",
    "    axes[i].set_xlabel(\"\")\n",
    "    \n",
    "plt.tight_layout(pad=0.4, w_pad=0.5, h_pad=5)\n",
    "plt.subplots_adjust(top = 0.9)\n",
    "fig.suptitle('Numerical features', fontsize = 12, fontweight = \"bold\");"
   ]
  },
  {
   "cell_type": "markdown",
   "metadata": {},
   "source": [
    "#### X-y Split"
   ]
  },
  {
   "cell_type": "code",
   "execution_count": null,
   "metadata": {},
   "outputs": [],
   "source": [
    "X = model_df_big.drop('price', axis=1)\n",
    "y = model_df_big[['price']].copy()"
   ]
  },
  {
   "cell_type": "markdown",
   "metadata": {},
   "source": [
    "#### Encoding categoricals and normalizing numericals"
   ]
  },
  {
   "cell_type": "code",
   "execution_count": null,
   "metadata": {},
   "outputs": [],
   "source": [
    "X_cat = X.select_dtypes('object')\n",
    "X_num = X.select_dtypes('int')\n",
    "\n",
    "X_cat_enc = pd.get_dummies(X_cat, drop_first=True)\n",
    "X_num_norm, _ci = boxcox_transform(X_num)\n",
    "\n",
    "X = np.concatenate([X_num_norm, X_cat_enc], axis=1)\n",
    "X.shape"
   ]
  },
  {
   "cell_type": "markdown",
   "metadata": {},
   "source": [
    "#### Train-test split"
   ]
  },
  {
   "cell_type": "code",
   "execution_count": null,
   "metadata": {},
   "outputs": [],
   "source": [
    "X_train, X_test, y_train, y_test = train_test_split(X, y, test_size=0.3, random_state=10)"
   ]
  },
  {
   "cell_type": "markdown",
   "metadata": {},
   "source": [
    "#### Fitting and running the model"
   ]
  },
  {
   "cell_type": "code",
   "execution_count": null,
   "metadata": {},
   "outputs": [],
   "source": [
    "reg_big_city = LinearRegression()\n",
    "reg_big_city.fit(X_train, y_train)\n",
    "\n",
    "predictions = reg_big_city.predict(X_test)\n",
    "r2 = r2_score(y_test, predictions)"
   ]
  },
  {
   "cell_type": "code",
   "execution_count": null,
   "metadata": {},
   "outputs": [],
   "source": [
    "new_row = {'city_type':'big', 'model':reg_big_city, 'r2':r2, 'mean_absolute_error':mean_absolute_error(y_test, predictions), 'mean_squared_error':mean_squared_error(y_test, predictions, squared=False)}\n",
    "model_comparisson = model_comparisson.append(new_row, ignore_index=True)"
   ]
  },
  {
   "cell_type": "code",
   "execution_count": null,
   "metadata": {},
   "outputs": [],
   "source": [
    "print('R2: ', round(r2,4))\n",
    "print('mean_absolute_error: ', mean_absolute_error(y_test, predictions))\n",
    "print('mean_squared_error: ', mean_squared_error(y_test, predictions, squared=False))\n",
    "print('y_test price mean: ', y_test['price'].mean())\n",
    "print('y_train price mean: ', y_train['price'].mean())"
   ]
  },
  {
   "cell_type": "code",
   "execution_count": null,
   "metadata": {},
   "outputs": [],
   "source": [
    "y_test['predicted'] = predictions\n",
    "y_test['difference_%'] = ((y_test['predicted']-y_test['price'])/y_test['predicted'])*100"
   ]
  },
  {
   "cell_type": "code",
   "execution_count": null,
   "metadata": {},
   "outputs": [],
   "source": [
    "fig, axes = plt.subplots(nrows=1, ncols=2, figsize=(14, 4))\n",
    "\n",
    "sns.histplot(\n",
    "    x = y_test.sort_values(by=\"difference_%\", ascending=False)['difference_%'],\n",
    "    stat = \"count\",\n",
    "    kde = True,\n",
    "    color = (list(plt.rcParams['axes.prop_cycle'])*2)[i][\"color\"],\n",
    "    line_kws= {'linewidth': 2},\n",
    "    alpha = 0.3,\n",
    "    ax = axes[0]\n",
    ")\n",
    "   \n",
    "sns.residplot(\n",
    "    x=y_test.price, \n",
    "    y=y_test['difference_%'], \n",
    "    lowess=True, \n",
    "    color=\"g\",\n",
    "    ax = axes[1]\n",
    ")\n",
    "\n",
    "#fig.tight_layout()\n",
    "plt.subplots_adjust(top=0.9)"
   ]
  },
  {
   "cell_type": "code",
   "execution_count": null,
   "metadata": {},
   "outputs": [],
   "source": [
    "sns.jointplot(x=y_test.price, y=y_test.predicted, kind=\"hex\", color=\"#4CB391\")"
   ]
  },
  {
   "cell_type": "code",
   "execution_count": null,
   "metadata": {},
   "outputs": [],
   "source": [
    "pipe = Pipeline(steps=[('estimator', LinearRegression())])\n",
    "params_grid = [ {'estimator':[LinearRegression()],\n",
    "                },\n",
    "               {'estimator': [RandomForestRegressor()],\n",
    "               'estimator__n_estimators':[10, 50, 100, 200, 300, 500, 600],\n",
    "                'estimator__max_depth':[1, 2, 3, 4, 5, 6, 7, None],\n",
    "                'estimator__min_samples_split':[2, 3, 4, 5, None],\n",
    "                'estimator__min_samples_leaf':[1, 2, 3, 4, 5],\n",
    "               }\n",
    "              ]\n",
    "grid = GridSearchCV(pipe, params_grid, n_jobs =-1, verbose = 2)\n",
    "res = grid.fit(X, y)\n",
    "\n",
    "grid.best_params_\n",
    "\n",
    "grid_results = pd.DataFrame(grid.cv_results_)\n",
    "grid_results.sort_values(by=\"rank_test_score\").head(10)"
   ]
  },
  {
   "cell_type": "code",
   "execution_count": null,
   "metadata": {},
   "outputs": [],
   "source": [
    "X_train, X_test, y_train, y_test = train_test_split(X, y, test_size=0.3, random_state=10)\n",
    "\n",
    "rf_big_city = RandomForestRegressor(n_estimators = 50, max_depth =  None, min_samples_split = 5, min_samples_leaf = 2, random_state = 42)\n",
    "rf_big_city.fit(X_train, y_train)\n",
    "predictions = rf_big_city.predict(X_test)\n",
    "r2 = metrics.r2_score(y_test, predictions)\n",
    " \n",
    "new_row = {'city_type':'big', 'model':rf_big_city, 'r2':r2, 'mean_absolute_error':mean_absolute_error(y_test, predictions), 'mean_squared_error':mean_squared_error(y_test, predictions, squared=False)}\n",
    "model_comparisson = model_comparisson.append(new_row, ignore_index=True)\n",
    "\n",
    "print(metrics.mean_absolute_error(y_test, predictions))\n",
    "print(metrics.mean_squared_error(y_test, predictions, squared=False))\n",
    "print(metrics.r2_score(y_test, predictions))"
   ]
  },
  {
   "cell_type": "code",
   "execution_count": null,
   "metadata": {},
   "outputs": [],
   "source": [
    "model_comparisson"
   ]
  },
  {
   "cell_type": "markdown",
   "metadata": {},
   "source": [
    "#### Evaluating variables"
   ]
  },
  {
   "cell_type": "code",
   "execution_count": null,
   "metadata": {},
   "outputs": [],
   "source": [
    "# check the correlations\n",
    "mask = np.zeros_like(model_df.corr())\n",
    "\n",
    "mask[np.triu_indices_from(mask)] = True # optional, to hide repeat half of the matrix\n",
    "\n",
    "fig, ax = plt.subplots(figsize=(7, 7))\n",
    "ax = sns.heatmap(model_df.corr(), mask=mask, annot=True)\n",
    "plt.show()"
   ]
  },
  {
   "cell_type": "code",
   "execution_count": null,
   "metadata": {},
   "outputs": [],
   "source": [
    "model_comparisson"
   ]
  },
  {
   "cell_type": "markdown",
   "metadata": {},
   "source": [
    "## Finding the most profitable towns to Buy & Rent"
   ]
  },
  {
   "cell_type": "markdown",
   "metadata": {},
   "source": [
    "1. Importar df con propiedades en venta\n",
    "2. Distinguir entre propiedades que pertenecen a modelo de ciudad grande o pequeña\n",
    "- Seleccionar varialbes de un modelo y de otro\n",
    "- filtrar poblaciones de propiedades en venta que no estan en los municipios del modelo\n",
    "3. Sacar tabla de predicciones para modelo grande y pequeña\n",
    "4. concatenar tabla de predicciones\n",
    "5. Merge con info de precios de venta\n",
    "6. Calcular ROI\n",
    "7. Visualizacion"
   ]
  },
  {
   "cell_type": "markdown",
   "metadata": {},
   "source": [
    "### Importar df con propiedades en venta"
   ]
  },
  {
   "cell_type": "code",
   "execution_count": null,
   "metadata": {},
   "outputs": [],
   "source": [
    "df_sale = pd.read_csv('/Users/ignaciolorenzoqueralt/Documents/Ironhack/Final Project/properties/sale/2021.11.15_cataluña_90000_10.csv', engine = 'python')"
   ]
  },
  {
   "cell_type": "markdown",
   "metadata": {},
   "source": [
    "### Distinguir entre propiedades que pertenecen a modelo de ciudad grande o pequeña"
   ]
  },
  {
   "cell_type": "code",
   "execution_count": null,
   "metadata": {},
   "outputs": [],
   "source": [
    "df_sale_big = df_sale[df_sale['geo_town'] == filtering_big_cities(model_df)]\n",
    "df_sale_small = df_sale[df_sale['geo_town'] != filtering_big_cities(model_df)]"
   ]
  },
  {
   "cell_type": "markdown",
   "metadata": {},
   "source": [
    "#### Cleaning big city sale df"
   ]
  },
  {
   "cell_type": "code",
   "execution_count": null,
   "metadata": {},
   "outputs": [],
   "source": [
    "df_sale_big['hood_price_m2'] = \"\""
   ]
  },
  {
   "cell_type": "code",
   "execution_count": null,
   "metadata": {},
   "outputs": [],
   "source": [
    "df_sale_big = df_sale_big[['geo_town', 'm2', 'n_rooms', 'n_bath', 'last_update', 'price', 'lift', 'floor', 'hood_price_m2', 'neighborhood']].copy()"
   ]
  },
  {
   "cell_type": "code",
   "execution_count": null,
   "metadata": {},
   "outputs": [],
   "source": [
    "clean_last_update(df_sale_big, c = 'last_update')"
   ]
  },
  {
   "cell_type": "code",
   "execution_count": null,
   "metadata": {},
   "outputs": [],
   "source": [
    "fill_lift_column(df_sale_big)"
   ]
  },
  {
   "cell_type": "code",
   "execution_count": null,
   "metadata": {},
   "outputs": [],
   "source": [
    "checking_nulls(df_sale_big)"
   ]
  },
  {
   "cell_type": "code",
   "execution_count": null,
   "metadata": {},
   "outputs": [],
   "source": [
    "df_sale_big = df_sale_big.dropna()"
   ]
  },
  {
   "cell_type": "code",
   "execution_count": null,
   "metadata": {},
   "outputs": [],
   "source": [
    "df_sale_big.shape"
   ]
  },
  {
   "cell_type": "code",
   "execution_count": null,
   "metadata": {},
   "outputs": [],
   "source": [
    "df_sale_big1 = df_sale_big.copy()"
   ]
  },
  {
   "cell_type": "code",
   "execution_count": null,
   "metadata": {},
   "outputs": [],
   "source": [
    "df_sale_big1 = df_sale_big1.merge(neighborhood_price_sqm, on='neighborhood', how='inner')\n",
    "df_sale_big1 = df_sale_big1.drop([\"geo_town_x\", \"hood_price_m2_x\"], axis = 1)\n",
    "df_sale_big1.columns = ['m2', 'n_rooms', 'n_bath', 'last_update', 'price', 'lift', 'floor', 'neighborhood', 'geo_town', 'hood_price_m2']"
   ]
  },
  {
   "cell_type": "code",
   "execution_count": null,
   "metadata": {},
   "outputs": [],
   "source": [
    "new_row = {'geo_town':'dumb', 'm2':87, 'n_rooms':92, 'n_bath':97, 'last_update':97, 'price':97, 'lift':'yes', 'floor':\"ground\", 'hood_price_m2':97, 'neighborhood': 'Eixample'}\n",
    "df_sale_big1 = df_sale_big1.append(new_row, ignore_index=True)"
   ]
  },
  {
   "cell_type": "code",
   "execution_count": null,
   "metadata": {},
   "outputs": [],
   "source": [
    "numericals = ['m2', 'n_rooms', 'n_bath', 'price', 'last_update', 'hood_price_m2']\n",
    "convert_to_numerical(df_sale_big1, numericals)"
   ]
  },
  {
   "cell_type": "code",
   "execution_count": null,
   "metadata": {},
   "outputs": [],
   "source": [
    "X_cat = df_sale_big1.select_dtypes('object')\n",
    "X_num = df_sale_big1.select_dtypes('int')"
   ]
  },
  {
   "cell_type": "code",
   "execution_count": null,
   "metadata": {},
   "outputs": [],
   "source": [
    "X_cat_enc = pd.get_dummies(X_cat, drop_first=True)\n",
    "X_num_norm, _ci = boxcox_transform(X_num)\n",
    "X = np.concatenate([X_num_norm, X_cat_enc], axis=1)\n",
    "X.shape"
   ]
  },
  {
   "cell_type": "markdown",
   "metadata": {},
   "source": [
    "### Fit model to both dfs"
   ]
  },
  {
   "cell_type": "code",
   "execution_count": null,
   "metadata": {},
   "outputs": [],
   "source": [
    "predictions_big_city = model_big_city.predict(X)"
   ]
  },
  {
   "cell_type": "markdown",
   "metadata": {},
   "source": [
    "# Si mi modelo es para predecir precios que no estan en el df del train test, una vez optimizado el modelo, que sentido tiene tener un test split?"
   ]
  },
  {
   "cell_type": "code",
   "execution_count": null,
   "metadata": {},
   "outputs": [],
   "source": []
  }
 ],
 "metadata": {
  "kernelspec": {
   "display_name": "ironhack_1",
   "language": "python",
   "name": "ironhack_1"
  },
  "language_info": {
   "codemirror_mode": {
    "name": "ipython",
    "version": 3
   },
   "file_extension": ".py",
   "mimetype": "text/x-python",
   "name": "python",
   "nbconvert_exporter": "python",
   "pygments_lexer": "ipython3",
   "version": "3.8.5"
  }
 },
 "nbformat": 4,
 "nbformat_minor": 5
}
