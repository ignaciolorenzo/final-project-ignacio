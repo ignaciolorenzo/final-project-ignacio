{
 "cells": [
  {
   "cell_type": "markdown",
   "metadata": {},
   "source": [
    "## 1 | Imports"
   ]
  },
  {
   "cell_type": "code",
   "execution_count": 1,
   "metadata": {},
   "outputs": [],
   "source": [
    "import pandas as pd\n",
    "import seaborn as sns\n",
    "import matplotlib.pyplot as plt\n",
    "import warnings\n",
    "from functions import *\n",
    "import numpy as np\n",
    "from sklearn.model_selection import train_test_split\n",
    "from sklearn.linear_model import LinearRegression\n",
    "from sklearn.metrics import r2_score, mean_squared_error, mean_absolute_error\n",
    "from sklearn.preprocessing import OneHotEncoder, Normalizer, MinMaxScaler\n",
    "from sklearn import preprocessing\n",
    "import scipy.stats as stats\n",
    "\n",
    "warnings.filterwarnings('ignore')"
   ]
  },
  {
   "cell_type": "markdown",
   "metadata": {},
   "source": [
    "## 2 | Working on the dataset"
   ]
  },
  {
   "cell_type": "markdown",
   "metadata": {},
   "source": [
    "### Cleaning the data"
   ]
  },
  {
   "cell_type": "code",
   "execution_count": 2,
   "metadata": {},
   "outputs": [],
   "source": [
    "rent_df = pd.read_csv('/Users/ignaciolorenzoqueralt/Documents/Ironhack/Final Project/properties/rent/2021.11.10_cataluña_900_10.csv', engine='python' )\n",
    "rent_df = rent_df.loc[:, ~rent_df.columns.str.contains('^Unnamed')]"
   ]
  },
  {
   "cell_type": "code",
   "execution_count": 3,
   "metadata": {},
   "outputs": [
    {
     "data": {
      "text/html": [
       "<div>\n",
       "<style scoped>\n",
       "    .dataframe tbody tr th:only-of-type {\n",
       "        vertical-align: middle;\n",
       "    }\n",
       "\n",
       "    .dataframe tbody tr th {\n",
       "        vertical-align: top;\n",
       "    }\n",
       "\n",
       "    .dataframe thead th {\n",
       "        text-align: right;\n",
       "    }\n",
       "</style>\n",
       "<table border=\"1\" class=\"dataframe\">\n",
       "  <thead>\n",
       "    <tr style=\"text-align: right;\">\n",
       "      <th></th>\n",
       "      <th>area</th>\n",
       "      <th>ccaa</th>\n",
       "      <th>description</th>\n",
       "      <th>geo_town</th>\n",
       "      <th>last_update</th>\n",
       "      <th>lift</th>\n",
       "      <th>m2</th>\n",
       "      <th>n_bath</th>\n",
       "      <th>n_rooms</th>\n",
       "      <th>name</th>\n",
       "      <th>neighborhood</th>\n",
       "      <th>opportunity</th>\n",
       "      <th>price</th>\n",
       "      <th>price_m2</th>\n",
       "      <th>price_reduction</th>\n",
       "      <th>province</th>\n",
       "      <th>url</th>\n",
       "    </tr>\n",
       "  </thead>\n",
       "  <tbody>\n",
       "    <tr>\n",
       "      <th>0</th>\n",
       "      <td>Arenys de Mar</td>\n",
       "      <td>cataluña</td>\n",
       "      <td>INMUEBLE NO SUJETO A LA LIMITACIÓN DE PRECIOS ...</td>\n",
       "      <td>arenys_de_mar</td>\n",
       "      <td>8.0</td>\n",
       "      <td>NaN</td>\n",
       "      <td>70</td>\n",
       "      <td>1</td>\n",
       "      <td>3</td>\n",
       "      <td>Alquiler Apartamento  N ii junquera. Alquiler ...</td>\n",
       "      <td>Urbanitzacions</td>\n",
       "      <td>yes</td>\n",
       "      <td>980</td>\n",
       "      <td>14</td>\n",
       "      <td>120.0</td>\n",
       "      <td>barcelona</td>\n",
       "      <td>https://www.habitaclia.com/alquiler-apartament...</td>\n",
       "    </tr>\n",
       "    <tr>\n",
       "      <th>1</th>\n",
       "      <td>Arenys de Mar</td>\n",
       "      <td>cataluña</td>\n",
       "      <td>Vivienda en la Urbanización Carolines de Areny...</td>\n",
       "      <td>arenys_de_mar</td>\n",
       "      <td>2.0</td>\n",
       "      <td>yes</td>\n",
       "      <td>89</td>\n",
       "      <td>1</td>\n",
       "      <td>2</td>\n",
       "      <td>Alquiler Piso  en  Carrer mig (del), 20. Vivie...</td>\n",
       "      <td>Urbanitzacions</td>\n",
       "      <td>no</td>\n",
       "      <td>680</td>\n",
       "      <td>7</td>\n",
       "      <td>20.0</td>\n",
       "      <td>barcelona</td>\n",
       "      <td>https://www.habitaclia.com/alquiler-piso-vivie...</td>\n",
       "    </tr>\n",
       "    <tr>\n",
       "      <th>2</th>\n",
       "      <td>Arenys de Mar</td>\n",
       "      <td>cataluña</td>\n",
       "      <td>ALQUILER DE TEMPORADA - Bonito piso de 70 m2 t...</td>\n",
       "      <td>arenys_de_mar</td>\n",
       "      <td>11.0</td>\n",
       "      <td>NaN</td>\n",
       "      <td>70</td>\n",
       "      <td>1</td>\n",
       "      <td>3</td>\n",
       "      <td>Alquiler Apartamento  Carrer camí ral del caba...</td>\n",
       "      <td>Urbanitzacions</td>\n",
       "      <td>no</td>\n",
       "      <td>980</td>\n",
       "      <td>14</td>\n",
       "      <td>10.0</td>\n",
       "      <td>barcelona</td>\n",
       "      <td>https://www.habitaclia.com/alquiler-apartament...</td>\n",
       "    </tr>\n",
       "  </tbody>\n",
       "</table>\n",
       "</div>"
      ],
      "text/plain": [
       "             area      ccaa  \\\n",
       "0  Arenys de Mar   cataluña   \n",
       "1  Arenys de Mar   cataluña   \n",
       "2  Arenys de Mar   cataluña   \n",
       "\n",
       "                                         description       geo_town  \\\n",
       "0  INMUEBLE NO SUJETO A LA LIMITACIÓN DE PRECIOS ...  arenys_de_mar   \n",
       "1  Vivienda en la Urbanización Carolines de Areny...  arenys_de_mar   \n",
       "2  ALQUILER DE TEMPORADA - Bonito piso de 70 m2 t...  arenys_de_mar   \n",
       "\n",
       "   last_update lift  m2 n_bath n_rooms  \\\n",
       "0          8.0  NaN  70      1       3   \n",
       "1          2.0  yes  89      1       2   \n",
       "2         11.0  NaN  70      1       3   \n",
       "\n",
       "                                                name    neighborhood  \\\n",
       "0  Alquiler Apartamento  N ii junquera. Alquiler ...  Urbanitzacions   \n",
       "1  Alquiler Piso  en  Carrer mig (del), 20. Vivie...  Urbanitzacions   \n",
       "2  Alquiler Apartamento  Carrer camí ral del caba...  Urbanitzacions   \n",
       "\n",
       "  opportunity price price_m2  price_reduction   province  \\\n",
       "0         yes   980       14            120.0  barcelona   \n",
       "1          no   680        7             20.0  barcelona   \n",
       "2          no   980       14             10.0  barcelona   \n",
       "\n",
       "                                                 url  \n",
       "0  https://www.habitaclia.com/alquiler-apartament...  \n",
       "1  https://www.habitaclia.com/alquiler-piso-vivie...  \n",
       "2  https://www.habitaclia.com/alquiler-apartament...  "
      ]
     },
     "execution_count": 3,
     "metadata": {},
     "output_type": "execute_result"
    }
   ],
   "source": [
    "rent_df.head(3)"
   ]
  },
  {
   "cell_type": "code",
   "execution_count": 4,
   "metadata": {},
   "outputs": [
    {
     "data": {
      "text/plain": [
       "(3307, 17)"
      ]
     },
     "execution_count": 4,
     "metadata": {},
     "output_type": "execute_result"
    }
   ],
   "source": [
    "rent_df.shape"
   ]
  },
  {
   "cell_type": "code",
   "execution_count": 5,
   "metadata": {},
   "outputs": [],
   "source": [
    "clean_last_update(rent_df, c = 'last_update')"
   ]
  },
  {
   "cell_type": "code",
   "execution_count": 6,
   "metadata": {},
   "outputs": [],
   "source": [
    "def fill_lift_column(df):\n",
    "    return df['lift'].fillna('no', inplace = True)"
   ]
  },
  {
   "cell_type": "code",
   "execution_count": 7,
   "metadata": {},
   "outputs": [
    {
     "data": {
      "text/plain": [
       "(3307, 17)"
      ]
     },
     "execution_count": 7,
     "metadata": {},
     "output_type": "execute_result"
    }
   ],
   "source": [
    "rent_df.shape"
   ]
  },
  {
   "cell_type": "code",
   "execution_count": 8,
   "metadata": {},
   "outputs": [],
   "source": [
    "fill_lift_column(rent_df)"
   ]
  },
  {
   "cell_type": "code",
   "execution_count": 9,
   "metadata": {},
   "outputs": [],
   "source": [
    "rent_df = rent_df.dropna()"
   ]
  },
  {
   "cell_type": "code",
   "execution_count": 10,
   "metadata": {},
   "outputs": [
    {
     "data": {
      "text/plain": [
       "(3270, 17)"
      ]
     },
     "execution_count": 10,
     "metadata": {},
     "output_type": "execute_result"
    }
   ],
   "source": [
    "rent_df.shape"
   ]
  },
  {
   "cell_type": "code",
   "execution_count": 11,
   "metadata": {},
   "outputs": [
    {
     "data": {
      "text/html": [
       "<div>\n",
       "<style scoped>\n",
       "    .dataframe tbody tr th:only-of-type {\n",
       "        vertical-align: middle;\n",
       "    }\n",
       "\n",
       "    .dataframe tbody tr th {\n",
       "        vertical-align: top;\n",
       "    }\n",
       "\n",
       "    .dataframe thead th {\n",
       "        text-align: right;\n",
       "    }\n",
       "</style>\n",
       "<table border=\"1\" class=\"dataframe\">\n",
       "  <thead>\n",
       "    <tr style=\"text-align: right;\">\n",
       "      <th></th>\n",
       "      <th>area</th>\n",
       "      <th>ccaa</th>\n",
       "      <th>description</th>\n",
       "      <th>geo_town</th>\n",
       "      <th>last_update</th>\n",
       "      <th>lift</th>\n",
       "      <th>m2</th>\n",
       "      <th>n_bath</th>\n",
       "      <th>n_rooms</th>\n",
       "      <th>name</th>\n",
       "      <th>neighborhood</th>\n",
       "      <th>opportunity</th>\n",
       "      <th>price</th>\n",
       "      <th>price_m2</th>\n",
       "      <th>price_reduction</th>\n",
       "      <th>province</th>\n",
       "      <th>url</th>\n",
       "    </tr>\n",
       "  </thead>\n",
       "  <tbody>\n",
       "  </tbody>\n",
       "</table>\n",
       "</div>"
      ],
      "text/plain": [
       "Empty DataFrame\n",
       "Columns: [area, ccaa, description, geo_town, last_update, lift, m2, n_bath, n_rooms, name, neighborhood, opportunity, price, price_m2, price_reduction, province, url]\n",
       "Index: []"
      ]
     },
     "execution_count": 11,
     "metadata": {},
     "output_type": "execute_result"
    }
   ],
   "source": [
    "checking_nulls(rent_df)"
   ]
  },
  {
   "cell_type": "code",
   "execution_count": 12,
   "metadata": {},
   "outputs": [
    {
     "data": {
      "text/plain": [
       "(3270, 17)"
      ]
     },
     "execution_count": 12,
     "metadata": {},
     "output_type": "execute_result"
    }
   ],
   "source": [
    "rent_df.shape"
   ]
  },
  {
   "cell_type": "code",
   "execution_count": 13,
   "metadata": {},
   "outputs": [],
   "source": [
    "numericals = ['m2', 'n_rooms', 'n_bath', 'price_m2', 'price', 'price_reduction', 'last_update']\n",
    "convet_to_numerical(rent_df, numericals)"
   ]
  },
  {
   "cell_type": "code",
   "execution_count": 14,
   "metadata": {},
   "outputs": [
    {
     "data": {
      "text/plain": [
       "area               object\n",
       "ccaa               object\n",
       "description        object\n",
       "geo_town           object\n",
       "last_update         int64\n",
       "lift               object\n",
       "m2                  int64\n",
       "n_bath              int64\n",
       "n_rooms             int64\n",
       "name               object\n",
       "neighborhood       object\n",
       "opportunity        object\n",
       "price               int64\n",
       "price_m2            int64\n",
       "price_reduction     int64\n",
       "province           object\n",
       "url                object\n",
       "dtype: object"
      ]
     },
     "execution_count": 14,
     "metadata": {},
     "output_type": "execute_result"
    }
   ],
   "source": [
    "rent_df.dtypes"
   ]
  },
  {
   "cell_type": "markdown",
   "metadata": {},
   "source": [
    "Filtering out towns in which there are less than x properties listed."
   ]
  },
  {
   "cell_type": "code",
   "execution_count": 15,
   "metadata": {},
   "outputs": [
    {
     "data": {
      "text/plain": [
       "(2633, 17)"
      ]
     },
     "execution_count": 15,
     "metadata": {},
     "output_type": "execute_result"
    }
   ],
   "source": [
    "filtered_towns = list(rent_df['geo_town'].value_counts()[lambda x: x > 30].index)\n",
    "rent_df_filtered = rent_df[rent_df['geo_town'].isin(filtered_towns)]\n",
    "rent_df_filtered.shape"
   ]
  },
  {
   "cell_type": "markdown",
   "metadata": {},
   "source": [
    "### Feature selection"
   ]
  },
  {
   "cell_type": "markdown",
   "metadata": {},
   "source": [
    "We skip neighborhood as it would add too many distinct categorical values which would increase too much the size of the model when encoding it."
   ]
  },
  {
   "cell_type": "code",
   "execution_count": 28,
   "metadata": {},
   "outputs": [],
   "source": [
    "model_df = rent_df_filtered[['m2', 'n_rooms', 'n_bath', 'opportunity', 'last_update', 'geo_town', 'province', 'ccaa', 'price', 'lift']].copy()"
   ]
  },
  {
   "cell_type": "code",
   "execution_count": 17,
   "metadata": {},
   "outputs": [
    {
     "data": {
      "text/html": [
       "<div>\n",
       "<style scoped>\n",
       "    .dataframe tbody tr th:only-of-type {\n",
       "        vertical-align: middle;\n",
       "    }\n",
       "\n",
       "    .dataframe tbody tr th {\n",
       "        vertical-align: top;\n",
       "    }\n",
       "\n",
       "    .dataframe thead th {\n",
       "        text-align: right;\n",
       "    }\n",
       "</style>\n",
       "<table border=\"1\" class=\"dataframe\">\n",
       "  <thead>\n",
       "    <tr style=\"text-align: right;\">\n",
       "      <th></th>\n",
       "      <th>m2</th>\n",
       "      <th>n_rooms</th>\n",
       "      <th>n_bath</th>\n",
       "      <th>opportunity</th>\n",
       "      <th>last_update</th>\n",
       "      <th>geo_town</th>\n",
       "      <th>province</th>\n",
       "      <th>ccaa</th>\n",
       "      <th>price</th>\n",
       "      <th>lift</th>\n",
       "    </tr>\n",
       "  </thead>\n",
       "  <tbody>\n",
       "    <tr>\n",
       "      <th>30</th>\n",
       "      <td>75</td>\n",
       "      <td>3</td>\n",
       "      <td>1</td>\n",
       "      <td>no</td>\n",
       "      <td>11</td>\n",
       "      <td>badalona</td>\n",
       "      <td>barcelona</td>\n",
       "      <td>cataluña</td>\n",
       "      <td>775</td>\n",
       "      <td>yes</td>\n",
       "    </tr>\n",
       "    <tr>\n",
       "      <th>31</th>\n",
       "      <td>65</td>\n",
       "      <td>2</td>\n",
       "      <td>1</td>\n",
       "      <td>no</td>\n",
       "      <td>7</td>\n",
       "      <td>badalona</td>\n",
       "      <td>barcelona</td>\n",
       "      <td>cataluña</td>\n",
       "      <td>906</td>\n",
       "      <td>yes</td>\n",
       "    </tr>\n",
       "    <tr>\n",
       "      <th>32</th>\n",
       "      <td>75</td>\n",
       "      <td>3</td>\n",
       "      <td>1</td>\n",
       "      <td>no</td>\n",
       "      <td>11</td>\n",
       "      <td>badalona</td>\n",
       "      <td>barcelona</td>\n",
       "      <td>cataluña</td>\n",
       "      <td>900</td>\n",
       "      <td>no</td>\n",
       "    </tr>\n",
       "  </tbody>\n",
       "</table>\n",
       "</div>"
      ],
      "text/plain": [
       "    m2  n_rooms  n_bath opportunity  last_update  geo_town   province  \\\n",
       "30  75        3       1          no           11  badalona  barcelona   \n",
       "31  65        2       1          no            7  badalona  barcelona   \n",
       "32  75        3       1          no           11  badalona  barcelona   \n",
       "\n",
       "        ccaa  price lift  \n",
       "30  cataluña    775  yes  \n",
       "31  cataluña    906  yes  \n",
       "32  cataluña    900   no  "
      ]
     },
     "execution_count": 17,
     "metadata": {},
     "output_type": "execute_result"
    }
   ],
   "source": [
    "model_df.head(3)"
   ]
  },
  {
   "cell_type": "markdown",
   "metadata": {},
   "source": [
    "### Visualizing the original dataset"
   ]
  },
  {
   "cell_type": "code",
   "execution_count": 18,
   "metadata": {},
   "outputs": [
    {
     "name": "stdout",
     "output_type": "stream",
     "text": [
      "opportunity\n",
      "no     98.0\n",
      "yes     2.0\n",
      "Name: opportunity, dtype: float64\n"
     ]
    },
    {
     "data": {
      "image/png": "[encoded data removed]",
      "text/plain": [
       "<Figure size 504x288 with 1 Axes>"
      ]
     },
     "metadata": {},
     "output_type": "display_data"
    },
    {
     "name": "stdout",
     "output_type": "stream",
     "text": [
      "geo_town\n",
      "barcelona                  54.4\n",
      "terrassa                    5.4\n",
      "tarragona                   5.1\n",
      "sabadell                    4.7\n",
      "hospitalet_de_llobregat     4.0\n",
      "manresa                     3.3\n",
      "reus                        2.9\n",
      "badalona                    2.7\n",
      "mataro                      2.2\n",
      "granollers                  2.1\n",
      "sitges                      2.1\n",
      "salou                       2.0\n",
      "castelldefels               1.5\n",
      "rubi                        1.5\n",
      "cambrils                    1.4\n",
      "mollet_del_valles           1.3\n",
      "cornella_de_llobregat       1.2\n",
      "sant_feliu_de_llobregat     1.2\n",
      "vilanova_i_la_geltru        1.2\n",
      "Name: geo_town, dtype: float64\n"
     ]
    },
    {
     "data": {
      "image/png": "[encoded data removed]",
      "text/plain": [
       "<Figure size 504x288 with 1 Axes>"
      ]
     },
     "metadata": {},
     "output_type": "display_data"
    },
    {
     "name": "stdout",
     "output_type": "stream",
     "text": [
      "province\n",
      "barcelona    88.7\n",
      "tarragona    11.3\n",
      "Name: province, dtype: float64\n"
     ]
    },
    {
     "data": {
      "image/png": "[encoded data removed]",
      "text/plain": [
       "<Figure size 504x288 with 1 Axes>"
      ]
     },
     "metadata": {},
     "output_type": "display_data"
    },
    {
     "name": "stdout",
     "output_type": "stream",
     "text": [
      "ccaa\n",
      "cataluña    100.0\n",
      "Name: ccaa, dtype: float64\n"
     ]
    },
    {
     "data": {
      "image/png": "[encoded data removed]",
      "text/plain": [
       "<Figure size 504x288 with 1 Axes>"
      ]
     },
     "metadata": {},
     "output_type": "display_data"
    },
    {
     "name": "stdout",
     "output_type": "stream",
     "text": [
      "lift\n",
      "no     54.5\n",
      "yes    45.5\n",
      "Name: lift, dtype: float64\n"
     ]
    },
    {
     "data": {
      "image/png": "[encoded data removed]",
      "text/plain": [
       "<Figure size 504x288 with 1 Axes>"
      ]
     },
     "metadata": {},
     "output_type": "display_data"
    }
   ],
   "source": [
    "cat_exploration(model_df)"
   ]
  },
  {
   "cell_type": "code",
   "execution_count": 22,
   "metadata": {},
   "outputs": [],
   "source": [
    "def remove_outliers(df, threshold=1.5, in_columns = [], skip_columns=[]):\n",
    "    for column in in_columns:\n",
    "        if column not in skip_columns:\n",
    "            upper = np.percentile(df[column],75)\n",
    "            lower = np.percentile(df[column],25)\n",
    "            iqr = upper - lower\n",
    "            upper_limit = upper + (threshold * iqr)\n",
    "            lower_limit = lower - (threshold * iqr)\n",
    "            df = df[(df[column]>lower_limit) & (df[column]<upper_limit)]\n",
    "    return df"
   ]
  },
  {
   "cell_type": "code",
   "execution_count": null,
   "metadata": {},
   "outputs": [],
   "source": [
    "in_columns=model_df.select_dtypes(np.number).columns"
   ]
  },
  {
   "cell_type": "code",
   "execution_count": 32,
   "metadata": {},
   "outputs": [],
   "source": [
    "model_df1 = remove_outliers(model_df, threshold=1.5, in_columns=['price'])"
   ]
  },
  {
   "cell_type": "code",
   "execution_count": 33,
   "metadata": {},
   "outputs": [
    {
     "data": {
      "text/plain": [
       "220"
      ]
     },
     "execution_count": 33,
     "metadata": {},
     "output_type": "execute_result"
    }
   ],
   "source": [
    "min(model_df['price'])"
   ]
  },
  {
   "cell_type": "code",
   "execution_count": 34,
   "metadata": {},
   "outputs": [
    {
     "data": {
      "text/plain": [
       "412"
      ]
     },
     "execution_count": 34,
     "metadata": {},
     "output_type": "execute_result"
    }
   ],
   "source": [
    "min(model_df1['price'])"
   ]
  },
  {
   "cell_type": "markdown",
   "metadata": {},
   "source": [
    "## 3 | Model"
   ]
  },
  {
   "cell_type": "code",
   "execution_count": 35,
   "metadata": {},
   "outputs": [],
   "source": [
    "X = model_df1[['m2', 'n_rooms', 'n_bath', 'opportunity', 'last_update', 'geo_town', 'province', 'ccaa', 'lift']].copy()\n",
    "y = model_df1[['price']].copy()"
   ]
  },
  {
   "cell_type": "code",
   "execution_count": 36,
   "metadata": {},
   "outputs": [],
   "source": [
    "X_cat = X.select_dtypes('object')\n",
    "X_num = X.select_dtypes('int')"
   ]
  },
  {
   "cell_type": "code",
   "execution_count": 37,
   "metadata": {},
   "outputs": [],
   "source": [
    "X_cat_enc = pd.get_dummies(X_cat, drop_first=True)"
   ]
  },
  {
   "cell_type": "code",
   "execution_count": 38,
   "metadata": {},
   "outputs": [
    {
     "data": {
      "text/plain": [
       "((2613, 4), (2613, 21))"
      ]
     },
     "execution_count": 38,
     "metadata": {},
     "output_type": "execute_result"
    }
   ],
   "source": [
    "def boxcox_transform(df):\n",
    "    numeric_cols = df.select_dtypes(np.number).columns\n",
    "    _ci = {column: None for column in numeric_cols}\n",
    "    for column in numeric_cols:\n",
    "        df[column] = np.where(df[column]<=0, np.NAN, df[column]) \n",
    "        df[column] = df[column].fillna(df[column].mean())\n",
    "        transformed_data, ci = stats.boxcox(df[column])\n",
    "        df[column] = transformed_data\n",
    "        _ci[column] = [ci] \n",
    "    return df, _ci\n",
    "\n",
    "X_num_norm, _ci = boxcox_transform(X_num)\n",
    "X_num_norm.shape, X_cat_enc.shape"
   ]
  },
  {
   "cell_type": "code",
   "execution_count": 39,
   "metadata": {},
   "outputs": [
    {
     "data": {
      "text/html": [
       "<div>\n",
       "<style scoped>\n",
       "    .dataframe tbody tr th:only-of-type {\n",
       "        vertical-align: middle;\n",
       "    }\n",
       "\n",
       "    .dataframe tbody tr th {\n",
       "        vertical-align: top;\n",
       "    }\n",
       "\n",
       "    .dataframe thead th {\n",
       "        text-align: right;\n",
       "    }\n",
       "</style>\n",
       "<table border=\"1\" class=\"dataframe\">\n",
       "  <thead>\n",
       "    <tr style=\"text-align: right;\">\n",
       "      <th></th>\n",
       "      <th>m2</th>\n",
       "      <th>n_rooms</th>\n",
       "      <th>n_bath</th>\n",
       "      <th>last_update</th>\n",
       "    </tr>\n",
       "  </thead>\n",
       "  <tbody>\n",
       "    <tr>\n",
       "      <th>0</th>\n",
       "      <td>0.582149</td>\n",
       "      <td>0.235047</td>\n",
       "      <td>0.00000</td>\n",
       "      <td>0.364310</td>\n",
       "    </tr>\n",
       "    <tr>\n",
       "      <th>1</th>\n",
       "      <td>0.529952</td>\n",
       "      <td>0.138670</td>\n",
       "      <td>0.00000</td>\n",
       "      <td>0.261939</td>\n",
       "    </tr>\n",
       "    <tr>\n",
       "      <th>2</th>\n",
       "      <td>0.582149</td>\n",
       "      <td>0.235047</td>\n",
       "      <td>0.00000</td>\n",
       "      <td>0.364310</td>\n",
       "    </tr>\n",
       "    <tr>\n",
       "      <th>3</th>\n",
       "      <td>0.642809</td>\n",
       "      <td>0.311321</td>\n",
       "      <td>0.99317</td>\n",
       "      <td>0.324510</td>\n",
       "    </tr>\n",
       "    <tr>\n",
       "      <th>4</th>\n",
       "      <td>0.439178</td>\n",
       "      <td>0.000000</td>\n",
       "      <td>0.00000</td>\n",
       "      <td>0.261939</td>\n",
       "    </tr>\n",
       "  </tbody>\n",
       "</table>\n",
       "</div>"
      ],
      "text/plain": [
       "         m2   n_rooms   n_bath  last_update\n",
       "0  0.582149  0.235047  0.00000     0.364310\n",
       "1  0.529952  0.138670  0.00000     0.261939\n",
       "2  0.582149  0.235047  0.00000     0.364310\n",
       "3  0.642809  0.311321  0.99317     0.324510\n",
       "4  0.439178  0.000000  0.00000     0.261939"
      ]
     },
     "execution_count": 39,
     "metadata": {},
     "output_type": "execute_result"
    }
   ],
   "source": [
    "scaler = preprocessing.MinMaxScaler()\n",
    "names = X_num.columns\n",
    "X_num = scaler.fit_transform(X_num)\n",
    "X_num_scaled = pd.DataFrame(X_num, columns=names)\n",
    "X_num_scaled.head()"
   ]
  },
  {
   "cell_type": "code",
   "execution_count": 40,
   "metadata": {},
   "outputs": [
    {
     "data": {
      "text/html": [
       "<div>\n",
       "<style scoped>\n",
       "    .dataframe tbody tr th:only-of-type {\n",
       "        vertical-align: middle;\n",
       "    }\n",
       "\n",
       "    .dataframe tbody tr th {\n",
       "        vertical-align: top;\n",
       "    }\n",
       "\n",
       "    .dataframe thead th {\n",
       "        text-align: right;\n",
       "    }\n",
       "</style>\n",
       "<table border=\"1\" class=\"dataframe\">\n",
       "  <thead>\n",
       "    <tr style=\"text-align: right;\">\n",
       "      <th></th>\n",
       "      <th>m2</th>\n",
       "      <th>n_rooms</th>\n",
       "      <th>n_bath</th>\n",
       "      <th>last_update</th>\n",
       "    </tr>\n",
       "  </thead>\n",
       "  <tbody>\n",
       "    <tr>\n",
       "      <th>30</th>\n",
       "      <td>7.997931</td>\n",
       "      <td>1.313585</td>\n",
       "      <td>0.000000</td>\n",
       "      <td>4.377752</td>\n",
       "    </tr>\n",
       "    <tr>\n",
       "      <th>31</th>\n",
       "      <td>7.563956</td>\n",
       "      <td>0.774974</td>\n",
       "      <td>0.000000</td>\n",
       "      <td>3.147603</td>\n",
       "    </tr>\n",
       "    <tr>\n",
       "      <th>32</th>\n",
       "      <td>7.997931</td>\n",
       "      <td>1.313585</td>\n",
       "      <td>0.000000</td>\n",
       "      <td>4.377752</td>\n",
       "    </tr>\n",
       "    <tr>\n",
       "      <th>33</th>\n",
       "      <td>8.502275</td>\n",
       "      <td>1.739850</td>\n",
       "      <td>0.138239</td>\n",
       "      <td>3.899491</td>\n",
       "    </tr>\n",
       "    <tr>\n",
       "      <th>34</th>\n",
       "      <td>6.809241</td>\n",
       "      <td>0.000000</td>\n",
       "      <td>0.000000</td>\n",
       "      <td>3.147603</td>\n",
       "    </tr>\n",
       "    <tr>\n",
       "      <th>...</th>\n",
       "      <td>...</td>\n",
       "      <td>...</td>\n",
       "      <td>...</td>\n",
       "      <td>...</td>\n",
       "    </tr>\n",
       "    <tr>\n",
       "      <th>3264</th>\n",
       "      <td>9.770403</td>\n",
       "      <td>1.739850</td>\n",
       "      <td>0.138239</td>\n",
       "      <td>1.939630</td>\n",
       "    </tr>\n",
       "    <tr>\n",
       "      <th>3265</th>\n",
       "      <td>8.276868</td>\n",
       "      <td>1.313585</td>\n",
       "      <td>0.000000</td>\n",
       "      <td>3.799920</td>\n",
       "    </tr>\n",
       "    <tr>\n",
       "      <th>3266</th>\n",
       "      <td>8.238125</td>\n",
       "      <td>1.313585</td>\n",
       "      <td>0.000000</td>\n",
       "      <td>3.799920</td>\n",
       "    </tr>\n",
       "    <tr>\n",
       "      <th>3267</th>\n",
       "      <td>8.819988</td>\n",
       "      <td>1.739850</td>\n",
       "      <td>0.138239</td>\n",
       "      <td>3.799920</td>\n",
       "    </tr>\n",
       "    <tr>\n",
       "      <th>3268</th>\n",
       "      <td>7.654512</td>\n",
       "      <td>1.313585</td>\n",
       "      <td>0.000000</td>\n",
       "      <td>0.816445</td>\n",
       "    </tr>\n",
       "  </tbody>\n",
       "</table>\n",
       "<p>2613 rows × 4 columns</p>\n",
       "</div>"
      ],
      "text/plain": [
       "            m2   n_rooms    n_bath  last_update\n",
       "30    7.997931  1.313585  0.000000     4.377752\n",
       "31    7.563956  0.774974  0.000000     3.147603\n",
       "32    7.997931  1.313585  0.000000     4.377752\n",
       "33    8.502275  1.739850  0.138239     3.899491\n",
       "34    6.809241  0.000000  0.000000     3.147603\n",
       "...        ...       ...       ...          ...\n",
       "3264  9.770403  1.739850  0.138239     1.939630\n",
       "3265  8.276868  1.313585  0.000000     3.799920\n",
       "3266  8.238125  1.313585  0.000000     3.799920\n",
       "3267  8.819988  1.739850  0.138239     3.799920\n",
       "3268  7.654512  1.313585  0.000000     0.816445\n",
       "\n",
       "[2613 rows x 4 columns]"
      ]
     },
     "execution_count": 40,
     "metadata": {},
     "output_type": "execute_result"
    }
   ],
   "source": [
    "X_num_norm"
   ]
  },
  {
   "cell_type": "code",
   "execution_count": 41,
   "metadata": {},
   "outputs": [
    {
     "data": {
      "text/html": [
       "<div>\n",
       "<style scoped>\n",
       "    .dataframe tbody tr th:only-of-type {\n",
       "        vertical-align: middle;\n",
       "    }\n",
       "\n",
       "    .dataframe tbody tr th {\n",
       "        vertical-align: top;\n",
       "    }\n",
       "\n",
       "    .dataframe thead th {\n",
       "        text-align: right;\n",
       "    }\n",
       "</style>\n",
       "<table border=\"1\" class=\"dataframe\">\n",
       "  <thead>\n",
       "    <tr style=\"text-align: right;\">\n",
       "      <th></th>\n",
       "      <th>m2</th>\n",
       "      <th>n_rooms</th>\n",
       "      <th>n_bath</th>\n",
       "      <th>last_update</th>\n",
       "    </tr>\n",
       "  </thead>\n",
       "  <tbody>\n",
       "    <tr>\n",
       "      <th>0</th>\n",
       "      <td>0.582149</td>\n",
       "      <td>0.235047</td>\n",
       "      <td>0.00000</td>\n",
       "      <td>0.364310</td>\n",
       "    </tr>\n",
       "    <tr>\n",
       "      <th>1</th>\n",
       "      <td>0.529952</td>\n",
       "      <td>0.138670</td>\n",
       "      <td>0.00000</td>\n",
       "      <td>0.261939</td>\n",
       "    </tr>\n",
       "    <tr>\n",
       "      <th>2</th>\n",
       "      <td>0.582149</td>\n",
       "      <td>0.235047</td>\n",
       "      <td>0.00000</td>\n",
       "      <td>0.364310</td>\n",
       "    </tr>\n",
       "    <tr>\n",
       "      <th>3</th>\n",
       "      <td>0.642809</td>\n",
       "      <td>0.311321</td>\n",
       "      <td>0.99317</td>\n",
       "      <td>0.324510</td>\n",
       "    </tr>\n",
       "    <tr>\n",
       "      <th>4</th>\n",
       "      <td>0.439178</td>\n",
       "      <td>0.000000</td>\n",
       "      <td>0.00000</td>\n",
       "      <td>0.261939</td>\n",
       "    </tr>\n",
       "    <tr>\n",
       "      <th>...</th>\n",
       "      <td>...</td>\n",
       "      <td>...</td>\n",
       "      <td>...</td>\n",
       "      <td>...</td>\n",
       "    </tr>\n",
       "    <tr>\n",
       "      <th>2608</th>\n",
       "      <td>0.795334</td>\n",
       "      <td>0.311321</td>\n",
       "      <td>0.99317</td>\n",
       "      <td>0.161413</td>\n",
       "    </tr>\n",
       "    <tr>\n",
       "      <th>2609</th>\n",
       "      <td>0.615698</td>\n",
       "      <td>0.235047</td>\n",
       "      <td>0.00000</td>\n",
       "      <td>0.316223</td>\n",
       "    </tr>\n",
       "    <tr>\n",
       "      <th>2610</th>\n",
       "      <td>0.611038</td>\n",
       "      <td>0.235047</td>\n",
       "      <td>0.00000</td>\n",
       "      <td>0.316223</td>\n",
       "    </tr>\n",
       "    <tr>\n",
       "      <th>2611</th>\n",
       "      <td>0.681022</td>\n",
       "      <td>0.311321</td>\n",
       "      <td>0.99317</td>\n",
       "      <td>0.316223</td>\n",
       "    </tr>\n",
       "    <tr>\n",
       "      <th>2612</th>\n",
       "      <td>0.540844</td>\n",
       "      <td>0.235047</td>\n",
       "      <td>0.00000</td>\n",
       "      <td>0.067943</td>\n",
       "    </tr>\n",
       "  </tbody>\n",
       "</table>\n",
       "<p>2613 rows × 4 columns</p>\n",
       "</div>"
      ],
      "text/plain": [
       "            m2   n_rooms   n_bath  last_update\n",
       "0     0.582149  0.235047  0.00000     0.364310\n",
       "1     0.529952  0.138670  0.00000     0.261939\n",
       "2     0.582149  0.235047  0.00000     0.364310\n",
       "3     0.642809  0.311321  0.99317     0.324510\n",
       "4     0.439178  0.000000  0.00000     0.261939\n",
       "...        ...       ...      ...          ...\n",
       "2608  0.795334  0.311321  0.99317     0.161413\n",
       "2609  0.615698  0.235047  0.00000     0.316223\n",
       "2610  0.611038  0.235047  0.00000     0.316223\n",
       "2611  0.681022  0.311321  0.99317     0.316223\n",
       "2612  0.540844  0.235047  0.00000     0.067943\n",
       "\n",
       "[2613 rows x 4 columns]"
      ]
     },
     "execution_count": 41,
     "metadata": {},
     "output_type": "execute_result"
    }
   ],
   "source": [
    "X_num_scaled"
   ]
  },
  {
   "cell_type": "code",
   "execution_count": 42,
   "metadata": {},
   "outputs": [],
   "source": [
    "X = np.concatenate([X_num_scaled, X_cat_enc], axis=1)"
   ]
  },
  {
   "cell_type": "code",
   "execution_count": 43,
   "metadata": {},
   "outputs": [
    {
     "data": {
      "text/plain": [
       "(2613, 25)"
      ]
     },
     "execution_count": 43,
     "metadata": {},
     "output_type": "execute_result"
    }
   ],
   "source": [
    "X.shape"
   ]
  },
  {
   "cell_type": "code",
   "execution_count": 44,
   "metadata": {},
   "outputs": [],
   "source": [
    "X_train, X_test, y_train, y_test = train_test_split(X, y, test_size=0.3, random_state=10)"
   ]
  },
  {
   "cell_type": "code",
   "execution_count": 45,
   "metadata": {},
   "outputs": [
    {
     "data": {
      "text/plain": [
       "LinearRegression()"
      ]
     },
     "execution_count": 45,
     "metadata": {},
     "output_type": "execute_result"
    }
   ],
   "source": [
    "model = LinearRegression()\n",
    "model.fit(X_train, y_train)"
   ]
  },
  {
   "cell_type": "code",
   "execution_count": 46,
   "metadata": {},
   "outputs": [
    {
     "name": "stdout",
     "output_type": "stream",
     "text": [
      "0.5724723754941992\n"
     ]
    }
   ],
   "source": [
    "predictions = model.predict(X_test)\n",
    "r2 = r2_score(y_test, predictions)\n",
    "print(r2)"
   ]
  },
  {
   "cell_type": "code",
   "execution_count": null,
   "metadata": {},
   "outputs": [],
   "source": []
  }
 ],
 "metadata": {
  "kernelspec": {
   "display_name": "ironhack_1",
   "language": "python",
   "name": "ironhack_1"
  },
  "language_info": {
   "codemirror_mode": {
    "name": "ipython",
    "version": 3
   },
   "file_extension": ".py",
   "mimetype": "text/x-python",
   "name": "python",
   "nbconvert_exporter": "python",
   "pygments_lexer": "ipython3",
   "version": "3.8.5"
  }
 },
 "nbformat": 4,
 "nbformat_minor": 5
}
