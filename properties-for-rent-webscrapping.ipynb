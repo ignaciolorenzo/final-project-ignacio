{
 "cells": [
  {
   "cell_type": "markdown",
   "metadata": {},
   "source": [
    "## Finding the most profitable towns in a CCAA given a max price"
   ]
  },
  {
   "cell_type": "code",
   "execution_count": 1,
   "metadata": {},
   "outputs": [],
   "source": [
    "import pandas as pd\n",
    "import math\n",
    "from bs4 import BeautifulSoup\n",
    "import requests\n",
    "import nums_from_string as nfs\n",
    "import numpy as np\n",
    "from re import search\n",
    "from random import randint\n",
    "from time import sleep\n",
    "import openpyxl\n",
    "import xlrd\n",
    "import lxml\n",
    "from datetime import datetime, timedelta\n",
    "import matplotlib.pyplot as plt\n",
    "import seaborn as sns\n",
    "from functions import *"
   ]
  },
  {
   "cell_type": "markdown",
   "metadata": {},
   "source": [
    "#### Importing geo data from csv file"
   ]
  },
  {
   "cell_type": "code",
   "execution_count": 2,
   "metadata": {},
   "outputs": [],
   "source": [
    "geo_data = pd.read_csv('/Users/ignaciolorenzoqueralt/Documents/Ironhack/Final Project/data/province-town-n_props/geo-data_2021.10.23.csv')"
   ]
  },
  {
   "cell_type": "markdown",
   "metadata": {},
   "source": [
    "#### Getting data about properties for sale to query accordingly properties for rent "
   ]
  },
  {
   "cell_type": "markdown",
   "metadata": {},
   "source": [
    "Importing properties for sale csv"
   ]
  },
  {
   "cell_type": "code",
   "execution_count": 3,
   "metadata": {},
   "outputs": [],
   "source": [
    "data_sale_properties = pd.read_csv('/Users/ignaciolorenzoqueralt/Documents/Ironhack/Final Project/properties/sale/2021.11.15_cataluña_90000_10.csv', engine = 'python')\n",
    "data_sale_properties = data_sale_properties.loc[:, ~data_sale_properties.columns.str.contains('^Unnamed')]"
   ]
  },
  {
   "cell_type": "code",
   "execution_count": 4,
   "metadata": {},
   "outputs": [],
   "source": [
    "def checking_nulls(df):\n",
    "    # This function shows which columns have null values and returns a df with only nulls\n",
    "    for c in df.columns:\n",
    "        null_count = df[c].isnull().sum()\n",
    "        if null_count > 0:\n",
    "            print (\"The column \", c, \" has \", null_count, \" null values\")\n",
    "    nulls = df[df.isna().any(axis=1)]\n",
    "    return nulls.head(3)"
   ]
  },
  {
   "cell_type": "code",
   "execution_count": 5,
   "metadata": {},
   "outputs": [],
   "source": [
    "data_sale_properties = data_sale_properties.dropna()"
   ]
  },
  {
   "cell_type": "code",
   "execution_count": 6,
   "metadata": {},
   "outputs": [
    {
     "data": {
      "text/html": [
       "<div>\n",
       "<style scoped>\n",
       "    .dataframe tbody tr th:only-of-type {\n",
       "        vertical-align: middle;\n",
       "    }\n",
       "\n",
       "    .dataframe tbody tr th {\n",
       "        vertical-align: top;\n",
       "    }\n",
       "\n",
       "    .dataframe thead th {\n",
       "        text-align: right;\n",
       "    }\n",
       "</style>\n",
       "<table border=\"1\" class=\"dataframe\">\n",
       "  <thead>\n",
       "    <tr style=\"text-align: right;\">\n",
       "      <th></th>\n",
       "      <th>name</th>\n",
       "      <th>floor</th>\n",
       "      <th>area</th>\n",
       "      <th>neighborhood</th>\n",
       "      <th>geo_town</th>\n",
       "      <th>m2</th>\n",
       "      <th>n_rooms</th>\n",
       "      <th>n_bath</th>\n",
       "      <th>price_m2</th>\n",
       "      <th>price</th>\n",
       "      <th>price_reduction</th>\n",
       "      <th>opportunity</th>\n",
       "      <th>last_update</th>\n",
       "      <th>description</th>\n",
       "      <th>url</th>\n",
       "      <th>lift</th>\n",
       "      <th>province</th>\n",
       "      <th>ccaa</th>\n",
       "    </tr>\n",
       "  </thead>\n",
       "  <tbody>\n",
       "  </tbody>\n",
       "</table>\n",
       "</div>"
      ],
      "text/plain": [
       "Empty DataFrame\n",
       "Columns: [name, floor, area, neighborhood, geo_town, m2, n_rooms, n_bath, price_m2, price, price_reduction, opportunity, last_update, description, url, lift, province, ccaa]\n",
       "Index: []"
      ]
     },
     "execution_count": 6,
     "metadata": {},
     "output_type": "execute_result"
    }
   ],
   "source": [
    "checking_nulls(data_sale_properties)"
   ]
  },
  {
   "cell_type": "code",
   "execution_count": 7,
   "metadata": {},
   "outputs": [
    {
     "data": {
      "text/html": [
       "<div>\n",
       "<style scoped>\n",
       "    .dataframe tbody tr th:only-of-type {\n",
       "        vertical-align: middle;\n",
       "    }\n",
       "\n",
       "    .dataframe tbody tr th {\n",
       "        vertical-align: top;\n",
       "    }\n",
       "\n",
       "    .dataframe thead th {\n",
       "        text-align: right;\n",
       "    }\n",
       "</style>\n",
       "<table border=\"1\" class=\"dataframe\">\n",
       "  <thead>\n",
       "    <tr style=\"text-align: right;\">\n",
       "      <th></th>\n",
       "      <th>name</th>\n",
       "      <th>floor</th>\n",
       "      <th>area</th>\n",
       "      <th>neighborhood</th>\n",
       "      <th>geo_town</th>\n",
       "      <th>m2</th>\n",
       "      <th>n_rooms</th>\n",
       "      <th>n_bath</th>\n",
       "      <th>price_m2</th>\n",
       "      <th>price</th>\n",
       "      <th>price_reduction</th>\n",
       "      <th>opportunity</th>\n",
       "      <th>last_update</th>\n",
       "      <th>description</th>\n",
       "      <th>url</th>\n",
       "      <th>lift</th>\n",
       "      <th>province</th>\n",
       "      <th>ccaa</th>\n",
       "    </tr>\n",
       "  </thead>\n",
       "  <tbody>\n",
       "    <tr>\n",
       "      <th>1</th>\n",
       "      <td>Piso  Carrer camí de la pietat. Piso economico...</td>\n",
       "      <td>first</td>\n",
       "      <td>Arenys de Mar</td>\n",
       "      <td>Centre</td>\n",
       "      <td>arenys_de_mar</td>\n",
       "      <td>50.0</td>\n",
       "      <td>3.0</td>\n",
       "      <td>1.0</td>\n",
       "      <td>1.0</td>\n",
       "      <td>88700.0</td>\n",
       "      <td>0.0</td>\n",
       "      <td>no</td>\n",
       "      <td>3.0</td>\n",
       "      <td>Piso de 50 m2, con comedor de 15 m2, cocina in...</td>\n",
       "      <td>https://www.habitaclia.com/comprar-piso-econom...</td>\n",
       "      <td>yes</td>\n",
       "      <td>barcelona</td>\n",
       "      <td>cataluña</td>\n",
       "    </tr>\n",
       "    <tr>\n",
       "      <th>3</th>\n",
       "      <td>Piso  Carrer madrid. Piso en c/ madrid - badalona</td>\n",
       "      <td>first</td>\n",
       "      <td>Badalona</td>\n",
       "      <td>Llefià</td>\n",
       "      <td>badalona</td>\n",
       "      <td>50.0</td>\n",
       "      <td>2.0</td>\n",
       "      <td>1.0</td>\n",
       "      <td>1.0</td>\n",
       "      <td>87000.0</td>\n",
       "      <td>4500.0</td>\n",
       "      <td>no</td>\n",
       "      <td>7.0</td>\n",
       "      <td>Descripción  Práctico piso en Badalona, Barcel...</td>\n",
       "      <td>https://www.habitaclia.com/comprar-piso-en_c_m...</td>\n",
       "      <td>yes</td>\n",
       "      <td>barcelona</td>\n",
       "      <td>cataluña</td>\n",
       "    </tr>\n",
       "    <tr>\n",
       "      <th>4</th>\n",
       "      <td>Piso  en  Lloreda. Solo inversores. se vende l...</td>\n",
       "      <td>eighth</td>\n",
       "      <td>Badalona</td>\n",
       "      <td>Lloreda</td>\n",
       "      <td>badalona</td>\n",
       "      <td>74.0</td>\n",
       "      <td>3.0</td>\n",
       "      <td>1.0</td>\n",
       "      <td>432.0</td>\n",
       "      <td>32000.0</td>\n",
       "      <td>8000.0</td>\n",
       "      <td>no</td>\n",
       "      <td>2.0</td>\n",
       "      <td>SOLO INVERSORES. VIVIENDA NO DISPONIBLE PARA V...</td>\n",
       "      <td>https://www.habitaclia.com/comprar-piso-solo_i...</td>\n",
       "      <td>yes</td>\n",
       "      <td>barcelona</td>\n",
       "      <td>cataluña</td>\n",
       "    </tr>\n",
       "  </tbody>\n",
       "</table>\n",
       "</div>"
      ],
      "text/plain": [
       "                                                name   floor            area  \\\n",
       "1  Piso  Carrer camí de la pietat. Piso economico...   first  Arenys de Mar    \n",
       "3  Piso  Carrer madrid. Piso en c/ madrid - badalona   first       Badalona    \n",
       "4  Piso  en  Lloreda. Solo inversores. se vende l...  eighth       Badalona    \n",
       "\n",
       "  neighborhood       geo_town    m2  n_rooms  n_bath  price_m2    price  \\\n",
       "1       Centre  arenys_de_mar  50.0      3.0     1.0       1.0  88700.0   \n",
       "3       Llefià       badalona  50.0      2.0     1.0       1.0  87000.0   \n",
       "4      Lloreda       badalona  74.0      3.0     1.0     432.0  32000.0   \n",
       "\n",
       "   price_reduction opportunity  last_update  \\\n",
       "1              0.0          no          3.0   \n",
       "3           4500.0          no          7.0   \n",
       "4           8000.0          no          2.0   \n",
       "\n",
       "                                         description  \\\n",
       "1  Piso de 50 m2, con comedor de 15 m2, cocina in...   \n",
       "3  Descripción  Práctico piso en Badalona, Barcel...   \n",
       "4  SOLO INVERSORES. VIVIENDA NO DISPONIBLE PARA V...   \n",
       "\n",
       "                                                 url lift   province      ccaa  \n",
       "1  https://www.habitaclia.com/comprar-piso-econom...  yes  barcelona  cataluña  \n",
       "3  https://www.habitaclia.com/comprar-piso-en_c_m...  yes  barcelona  cataluña  \n",
       "4  https://www.habitaclia.com/comprar-piso-solo_i...  yes  barcelona  cataluña  "
      ]
     },
     "execution_count": 7,
     "metadata": {},
     "output_type": "execute_result"
    }
   ],
   "source": [
    "data_sale_properties.head(3)"
   ]
  },
  {
   "cell_type": "markdown",
   "metadata": {},
   "source": [
    "#### Cleaning imported data"
   ]
  },
  {
   "cell_type": "code",
   "execution_count": 8,
   "metadata": {},
   "outputs": [],
   "source": [
    "def convert_to_num(df, column):\n",
    "    for i,value in enumerate(df[column]):\n",
    "        df[column] = df[column].astype(int)"
   ]
  },
  {
   "cell_type": "code",
   "execution_count": 9,
   "metadata": {},
   "outputs": [],
   "source": [
    "convert_to_num(data_sale_properties, column = 'm2')\n",
    "convert_to_num(data_sale_properties, column = 'n_rooms')\n",
    "convert_to_num(data_sale_properties, column = 'n_bath')"
   ]
  },
  {
   "cell_type": "markdown",
   "metadata": {},
   "source": [
    "#### Exploring numerical features"
   ]
  },
  {
   "cell_type": "code",
   "execution_count": 10,
   "metadata": {},
   "outputs": [],
   "source": [
    "features = data_sale_properties.filter(['m2','n_bath', 'n_rooms'], axis=1)"
   ]
  },
  {
   "cell_type": "code",
   "execution_count": 11,
   "metadata": {},
   "outputs": [
    {
     "data": {
      "text/html": [
       "<div>\n",
       "<style scoped>\n",
       "    .dataframe tbody tr th:only-of-type {\n",
       "        vertical-align: middle;\n",
       "    }\n",
       "\n",
       "    .dataframe tbody tr th {\n",
       "        vertical-align: top;\n",
       "    }\n",
       "\n",
       "    .dataframe thead th {\n",
       "        text-align: right;\n",
       "    }\n",
       "</style>\n",
       "<table border=\"1\" class=\"dataframe\">\n",
       "  <thead>\n",
       "    <tr style=\"text-align: right;\">\n",
       "      <th></th>\n",
       "      <th>count</th>\n",
       "      <th>mean</th>\n",
       "      <th>std</th>\n",
       "      <th>min</th>\n",
       "      <th>25%</th>\n",
       "      <th>50%</th>\n",
       "      <th>75%</th>\n",
       "      <th>max</th>\n",
       "    </tr>\n",
       "  </thead>\n",
       "  <tbody>\n",
       "    <tr>\n",
       "      <th>m2</th>\n",
       "      <td>612.0</td>\n",
       "      <td>67.580065</td>\n",
       "      <td>20.335849</td>\n",
       "      <td>25.0</td>\n",
       "      <td>52.0</td>\n",
       "      <td>65.0</td>\n",
       "      <td>80.0</td>\n",
       "      <td>140.0</td>\n",
       "    </tr>\n",
       "    <tr>\n",
       "      <th>n_rooms</th>\n",
       "      <td>612.0</td>\n",
       "      <td>2.398693</td>\n",
       "      <td>0.894353</td>\n",
       "      <td>1.0</td>\n",
       "      <td>2.0</td>\n",
       "      <td>2.0</td>\n",
       "      <td>3.0</td>\n",
       "      <td>5.0</td>\n",
       "    </tr>\n",
       "    <tr>\n",
       "      <th>n_bath</th>\n",
       "      <td>612.0</td>\n",
       "      <td>1.153595</td>\n",
       "      <td>0.378562</td>\n",
       "      <td>1.0</td>\n",
       "      <td>1.0</td>\n",
       "      <td>1.0</td>\n",
       "      <td>1.0</td>\n",
       "      <td>4.0</td>\n",
       "    </tr>\n",
       "    <tr>\n",
       "      <th>price_m2</th>\n",
       "      <td>612.0</td>\n",
       "      <td>290.076797</td>\n",
       "      <td>394.119602</td>\n",
       "      <td>1.0</td>\n",
       "      <td>1.0</td>\n",
       "      <td>1.0</td>\n",
       "      <td>742.0</td>\n",
       "      <td>997.0</td>\n",
       "    </tr>\n",
       "    <tr>\n",
       "      <th>price</th>\n",
       "      <td>612.0</td>\n",
       "      <td>74496.495098</td>\n",
       "      <td>13125.569163</td>\n",
       "      <td>21400.0</td>\n",
       "      <td>69000.0</td>\n",
       "      <td>78000.0</td>\n",
       "      <td>85000.0</td>\n",
       "      <td>89900.0</td>\n",
       "    </tr>\n",
       "    <tr>\n",
       "      <th>price_reduction</th>\n",
       "      <td>612.0</td>\n",
       "      <td>2642.815359</td>\n",
       "      <td>6347.756290</td>\n",
       "      <td>0.0</td>\n",
       "      <td>0.0</td>\n",
       "      <td>0.0</td>\n",
       "      <td>3000.0</td>\n",
       "      <td>58800.0</td>\n",
       "    </tr>\n",
       "    <tr>\n",
       "      <th>last_update</th>\n",
       "      <td>612.0</td>\n",
       "      <td>3.287582</td>\n",
       "      <td>5.126770</td>\n",
       "      <td>0.0</td>\n",
       "      <td>0.0</td>\n",
       "      <td>0.0</td>\n",
       "      <td>5.0</td>\n",
       "      <td>20.0</td>\n",
       "    </tr>\n",
       "  </tbody>\n",
       "</table>\n",
       "</div>"
      ],
      "text/plain": [
       "                 count          mean           std      min      25%      50%  \\\n",
       "m2               612.0     67.580065     20.335849     25.0     52.0     65.0   \n",
       "n_rooms          612.0      2.398693      0.894353      1.0      2.0      2.0   \n",
       "n_bath           612.0      1.153595      0.378562      1.0      1.0      1.0   \n",
       "price_m2         612.0    290.076797    394.119602      1.0      1.0      1.0   \n",
       "price            612.0  74496.495098  13125.569163  21400.0  69000.0  78000.0   \n",
       "price_reduction  612.0   2642.815359   6347.756290      0.0      0.0      0.0   \n",
       "last_update      612.0      3.287582      5.126770      0.0      0.0      0.0   \n",
       "\n",
       "                     75%      max  \n",
       "m2                  80.0    140.0  \n",
       "n_rooms              3.0      5.0  \n",
       "n_bath               1.0      4.0  \n",
       "price_m2           742.0    997.0  \n",
       "price            85000.0  89900.0  \n",
       "price_reduction   3000.0  58800.0  \n",
       "last_update          5.0     20.0  "
      ]
     },
     "execution_count": 11,
     "metadata": {},
     "output_type": "execute_result"
    }
   ],
   "source": [
    "data_sale_properties.describe().T"
   ]
  },
  {
   "cell_type": "markdown",
   "metadata": {},
   "source": [
    "#### Getting the maximum price for the rent of the properties that we want to scrape"
   ]
  },
  {
   "cell_type": "markdown",
   "metadata": {},
   "source": [
    "We get the 50% quantile price of the imported properties listed for sale and we extrapolate an expected rent price for those properties assuming a 12% rent. Since we want a maximum price, we use a generous profitability ratio (12%)."
   ]
  },
  {
   "cell_type": "code",
   "execution_count": 12,
   "metadata": {},
   "outputs": [],
   "source": [
    "max_prices = [300, 400, 500, 600, 700, 800, 900, 1000, 1100, 1200, 1500, 1800, 2000, 3000, 4000, 5000]"
   ]
  },
  {
   "cell_type": "code",
   "execution_count": 13,
   "metadata": {
    "jupyter": {
     "source_hidden": true
    }
   },
   "outputs": [],
   "source": [
    "max_price = data_sale_properties.price.quantile(0.5)*0.12/12\n",
    "\n",
    "if max_price < 1200:\n",
    "    max_price = max_price/100\n",
    "    max_price = math.ceil(max_price)*100\n",
    "elif max_price > 1200 & max_price < 1500:\n",
    "    max_price = 1500\n",
    "elif max_price > 1500 & max_price < 1800:\n",
    "    max_price = 1800\n",
    "elif max_price > 1800 & max_price < 2000:\n",
    "    max_price = 2000\n",
    "elif max_price > 2000 & max_price < 3000:\n",
    "    max_price = 3000\n",
    "elif max_price > 3000 & max_price < 4000:\n",
    "    max_price = 4000\n",
    "elif max_price > 4000 & max_price < 5000:\n",
    "    max_price = 5000\n",
    "elif max_price > 5000:\n",
    "    max_price = 5000"
   ]
  },
  {
   "cell_type": "code",
   "execution_count": 14,
   "metadata": {},
   "outputs": [
    {
     "data": {
      "text/plain": [
       "800"
      ]
     },
     "execution_count": 14,
     "metadata": {},
     "output_type": "execute_result"
    }
   ],
   "source": [
    "max_price"
   ]
  },
  {
   "cell_type": "code",
   "execution_count": 15,
   "metadata": {},
   "outputs": [],
   "source": [
    "max_price = 1300"
   ]
  },
  {
   "cell_type": "markdown",
   "metadata": {},
   "source": [
    "#### Get input from user"
   ]
  },
  {
   "cell_type": "code",
   "execution_count": 16,
   "metadata": {},
   "outputs": [
    {
     "name": "stdin",
     "output_type": "stream",
     "text": [
      "ccaa:  cataluña\n"
     ]
    }
   ],
   "source": [
    "ccaa_lst = geo_data['ccaa'].unique().tolist()\n",
    "ccaa = input(\"ccaa: \")\n",
    "while ccaa not in ccaa_lst:\n",
    "    ccaa = input(\"There was no match between your input and our ccaa, try again: \")"
   ]
  },
  {
   "cell_type": "code",
   "execution_count": 17,
   "metadata": {},
   "outputs": [
    {
     "name": "stdin",
     "output_type": "stream",
     "text": [
      "Minimum number of properties per town:  5\n"
     ]
    }
   ],
   "source": [
    "num_properties_per_town = \"\"\n",
    "while num_properties_per_town == \"\":\n",
    "    try:\n",
    "        num_properties_per_town = int(input(\"Minimum number of properties per town: \"))\n",
    "    except: \n",
    "        num_properties_per_town = \"\""
   ]
  },
  {
   "cell_type": "code",
   "execution_count": 18,
   "metadata": {},
   "outputs": [],
   "source": [
    "filtered_df = geo_data[(geo_data['ccaa'] == ccaa) & (geo_data['n_properties'] > num_properties_per_town)]"
   ]
  },
  {
   "cell_type": "markdown",
   "metadata": {},
   "source": [
    "#### List of towns that we need to extract data from"
   ]
  },
  {
   "cell_type": "code",
   "execution_count": 19,
   "metadata": {},
   "outputs": [],
   "source": [
    "towns = filtered_df[filtered_df['ccaa'] == ccaa].town.to_list()"
   ]
  },
  {
   "cell_type": "markdown",
   "metadata": {},
   "source": [
    "Hay que hacer un for loop que para cada town saque el df y le haga un append a el global."
   ]
  },
  {
   "cell_type": "markdown",
   "metadata": {},
   "source": [
    "#### Extracting data from each town"
   ]
  },
  {
   "cell_type": "code",
   "execution_count": 20,
   "metadata": {},
   "outputs": [],
   "source": [
    "property = \"alquiler\"\n",
    "municipio = \"hospitalet_de_llobregat\"\n",
    "ascensor = \"-ascensor\"\n",
    "\n",
    "habitaciones = \"hab=\"+\"1\"\n",
    "baños = \"&\"+\"ban=\"+\"1\"\n",
    "maximum_price = \"pmax=\"+str(max_price)\n",
    "metros = \"m2=\"+\"50\""
   ]
  },
  {
   "cell_type": "code",
   "execution_count": 21,
   "metadata": {},
   "outputs": [],
   "source": [
    "url = \"https://www.habitaclia.com/\"+property+ascensor+\"-\"+municipio+\".htm?\"+habitaciones+baños+maximum_price"
   ]
  },
  {
   "cell_type": "code",
   "execution_count": 22,
   "metadata": {},
   "outputs": [],
   "source": [
    "# Creation of the df to which we will append the properties of the selected towns.\n",
    "name = []\n",
    "town = []\n",
    "area = []\n",
    "neighborhood = []\n",
    "geo_town = []\n",
    "features = []\n",
    "m2 = []\n",
    "n_rooms = []\n",
    "n_bath = []\n",
    "price_m2 = []\n",
    "description = []\n",
    "price = []\n",
    "opportunity = []\n",
    "price_reduction = []\n",
    "opportunity = []\n",
    "last_update = []\n",
    "url = []\n",
    "\n",
    "x = min(len(name), len(town), len(area), len(neighborhood), len(geo_town), len(description), len(price), len(last_update), len(url))\n",
    "dct = {'name': name[:x], 'town': town[:x], 'area': area[:x], 'neighborhood': neighborhood[:x], 'geo_town':geo_town[:x],'m2': m2[:x], 'n_rooms': n_rooms[:x], 'n_bath': n_bath[:x], 'price_m2': price_m2[:x] ,'price': price[:x], 'price_reduction': price_reduction[:x], 'opportunity':opportunity[:x], 'last_update': last_update[:x],  'description': description[:x], 'url':url[:x] }\n",
    "df = pd.DataFrame.from_dict(dct)\n",
    "\n",
    "# Pulling properties from each town in the previously defined list:\n",
    "\n",
    "for t in towns:\n",
    "    \n",
    "    # Getting the number of properties for that town to see how many pages do we need to scrape.\n",
    "    url = \"https://www.habitaclia.com/\"+property+\"-\"+t+\".htm?\"+maximum_price\n",
    "    r = requests.get(url)\n",
    "    r.status_code\n",
    "    soup = BeautifulSoup(r.content, 'html.parser')\n",
    "    \n",
    "    try:\n",
    "        total_results = int(soup.find('h2', attrs={'class': 'f-right'}).find('span').get_text().replace(\".\",\"\"))\n",
    "        pages = range(int(math.floor(total_results/16))+1)\n",
    "        properties = []\n",
    "\n",
    "        # Adding all the properties listed in each page to the list.\n",
    "        for p in pages:\n",
    "            sleep(randint(2,5))\n",
    "            url = \"https://www.habitaclia.com/\"+property+\"-\"+t+\"-\"+str(p)+\".htm?\"+maximum_price\n",
    "            #print(url)\n",
    "            try:\n",
    "                r = requests.get(url)\n",
    "                soup = BeautifulSoup(r.content, 'html.parser')\n",
    "                properties += soup.find_all('div', attrs={'class': 'list-item-info'})\n",
    "                del properties[-1] # Last item is an ad\n",
    "            except:\n",
    "                print('Error on page', p)\n",
    "            #print('town: ', t, \" page: \", p)\n",
    "\n",
    "        # Creating a list for each piece of information I want to extract from each property.\n",
    "        name = []\n",
    "        town = []\n",
    "        area = []\n",
    "        neighborhood = []\n",
    "        geo_town = []\n",
    "        features = []\n",
    "        m2 = []\n",
    "        n_rooms = []\n",
    "        n_bath = []\n",
    "        price_m2 = []\n",
    "        description = []\n",
    "        price = []\n",
    "        opportunity = []\n",
    "        price_reduction = []\n",
    "        opportunity = []\n",
    "        last_update = []\n",
    "        url = []\n",
    "\n",
    "        # Getting the information from each property.\n",
    "        for i,properties in enumerate(properties): \n",
    "            # Each feature is set as empty prior to being defined. This way we avoid errors when a feature is not available for a certain property.\n",
    "            name_temp = \"\"\n",
    "            town_temp = \"\"\n",
    "            area_temp = \"\"\n",
    "            neighborhood_temp = \"\"\n",
    "            geo_town_temp = \"\"\n",
    "            m2_temp = \"\"\n",
    "            n_rooms_temp = \"\"\n",
    "            n_bath_temp = \"\"\n",
    "            price_m2_temp = \"\"\n",
    "            price_temp = \"\"\n",
    "            opportunity_temp = \"\"\n",
    "            price_reduction_temp = \"\"\n",
    "            description_temp = \"\"\n",
    "            last_update_temp = \"\"\n",
    "            url_temp = \"\"\n",
    "\n",
    "            # other_location enables us to differ between listed properties vs suggested properties, which appear when there are very few properties for one town. We want to avoid them as they are nearby properties not belonging to our target town.\n",
    "            other_location = properties.find('span', attrs={'class': 'ady-relationship'})\n",
    "            if other_location is None:\n",
    "                other_locations_properties = \"\"\n",
    "            else: \n",
    "                #print(i)\n",
    "                other_locations_properties = other_location.get_text(strip=True).find('Se encuentra en')\n",
    "\n",
    "            # Now I am skipping all the properties that are suggested so as to not append them to the df.\n",
    "            if other_locations_properties == 0:\n",
    "                pass\n",
    "            else:\n",
    "                try:\n",
    "                    # Extracting the features of a property and saving them in a temporary variable.\n",
    "                    name_temp = properties.find('h3', attrs={'class': 'list-item-title'}).get_text(strip=True)\n",
    "                    town_temp = properties.find('p', attrs={'class': 'list-item-location'}).get_text(strip=True).split(\"-\",1)[0].strip().replace(\"Ver mapa\",\"\")\n",
    "                    area_temp = properties.find('p', attrs={'class': 'list-item-location'}).get_text(strip=True).replace('/','-').strip().replace(\"Ver mapa\",\"\").split(\"-\",1)[0]\n",
    "                    neighborhood_temp = properties.find('p', attrs={'class': 'list-item-location'}).get_text(strip=True).replace('/','-').strip().replace(\"Ver mapa\",\"\").split(\"-\",1)[1].strip()\n",
    "                    geo_town_temp = t\n",
    "                    m2_temp = nfs.get_nums(properties.find('p', attrs={'class': 'list-item-feature'}).get_text(strip=True).split(\"-\")[0])[0] \n",
    "                    n_rooms_temp = nfs.get_nums(properties.find('p', attrs={'class': 'list-item-feature'}).get_text(strip=True).split(\"-\")[1])[0]\n",
    "                    n_bath_temp = nfs.get_nums(properties.find('p', attrs={'class': 'list-item-feature'}).get_text(strip=True).split(\"-\")[2])[0] \n",
    "                    price_m2_temp = nfs.get_nums(properties.find('p', attrs={'class': 'list-item-feature'}).get_text(strip=True).split(\"-\")[3])[0] \n",
    "                    raw_price_temp = properties.find('article', attrs={'class': 'list-item-price'}).get_text()\n",
    "                    if search(\"Oportunidad\", raw_price_temp):\n",
    "                        if search(\"ha bajado\", raw_price_temp): \n",
    "                            price_temp = nfs.get_nums((properties.find('article', attrs={'class': 'list-item-price'}).get_text()).replace(\".\",\"\"))[0]\n",
    "                            price_reduction_temp = nfs.get_nums((properties.find('article', attrs={'class': 'list-item-price'}).get_text()).replace(\".\",\"\"))[1]\n",
    "                            opportunity_temp = \"yes\"\n",
    "                        else:\n",
    "                            price_temp = nfs.get_nums((properties.find('article', attrs={'class': 'list-item-price'}).get_text()).replace(\".\",\"\"))[0]\n",
    "                            price_reduction_temp = \"0\"\n",
    "                            opportunity_temp = \"yes\"\n",
    "                    elif search(\"ha bajado\", raw_price_temp):\n",
    "                        price_temp = nfs.get_nums((properties.find('article', attrs={'class': 'list-item-price'}).get_text()).replace(\".\",\"\"))[0]\n",
    "                        price_reduction_temp = nfs.get_nums((properties.find('article', attrs={'class': 'list-item-price'}).get_text()).replace(\".\",\"\"))[1]      \n",
    "                        opportunity_temp = \"no\"\n",
    "                    else: \n",
    "                        price_temp = nfs.get_nums((properties.find('article', attrs={'class': 'list-item-price'}).get_text()).replace(\".\",\"\"))[0]\n",
    "                        price_reduction_temp = \"0\"\n",
    "                        opportunity_temp = \"no\"\n",
    "                    description_temp = properties.find('p', attrs={'class': 'list-item-description'}).get_text(strip=True)\n",
    "                    last_update_temp = nfs.get_nums(properties.find('span', attrs={'class': 'list-item-date'}).get_text(strip=True))\n",
    "                    url_temp = properties.find('h3', attrs={'class': 'list-item-title'}).find('a').get('href')\n",
    "\n",
    "                    # Appending temporary variables features to their corresponding list.\n",
    "                    name.append(name_temp)\n",
    "                    town.append(town_temp)\n",
    "                    area.append(area_temp)\n",
    "                    neighborhood.append(neighborhood_temp)\n",
    "                    geo_town.append(geo_town_temp)\n",
    "                    m2.append(m2_temp)\n",
    "                    n_rooms.append(n_rooms_temp)\n",
    "                    n_bath.append(n_bath_temp)\n",
    "                    price_m2.append(price_m2_temp)\n",
    "                    price.append(price_temp)\n",
    "                    opportunity.append(opportunity_temp)\n",
    "                    price_reduction.append(price_reduction_temp)\n",
    "                    description.append(description_temp)\n",
    "                    last_update.append(last_update_temp)\n",
    "                    url.append(url_temp)\n",
    "\n",
    "                except:\n",
    "                    # In case we may encounter an error, we print the features of each property to find the bug.\n",
    "                    '''\n",
    "                    print('------------------------------------')\n",
    "                    print('nombre: ', name_temp)\n",
    "                    print('town_temp: ', town_temp)\n",
    "                    print('area_temp: ', area_temp)\n",
    "                    print('m2_temp: ', m2_temp)\n",
    "                    print('n_rooms_temp: ', n_rooms_temp)\n",
    "                    print('n_bath_temp: ', n_bath_temp)\n",
    "                    print('price_m2_temp: ', price_m2_temp)\n",
    "                    print('price_temp: ', price_temp)\n",
    "                    print('opportunity_temp: ', opportunity_temp)\n",
    "                    print('price_reduction_temp: ', price_reduction_temp)\n",
    "                    print('description_temp: ', description_temp)\n",
    "                    print('last_update_temp: ', last_update_temp)\n",
    "                    print('url_temp: ', url_temp)\n",
    "                    print('------------------------------------')\n",
    "                    '''\n",
    "\n",
    "        x_town = min(len(name), len(town), len(area), len(neighborhood), len(geo_town), len(description), len(price), len(last_update), len(url))\n",
    "        dct_town = {'name': name[:x_town], 'town': town[:x_town], 'area': area[:x_town], 'neighborhood': neighborhood[:x_town], 'geo_town':geo_town[:x_town],'m2': m2[:x_town], 'n_rooms': n_rooms[:x_town], 'n_bath': n_bath[:x_town], 'price_m2': price_m2[:x_town] ,'price': price[:x_town], 'price_reduction': price_reduction[:x_town], 'opportunity':opportunity[:x_town], 'last_update': last_update[:x_town],  'description': description[:x_town], 'url':url[:x_town] }\n",
    "        df_town = pd.DataFrame.from_dict(dct_town)\n",
    "        df = df.append(df_town, ignore_index = True)\n",
    "\n",
    "    except:\n",
    "        pass\n",
    "        #print(\"no properties found at: \", url)"
   ]
  },
  {
   "cell_type": "markdown",
   "metadata": {},
   "source": [
    "#### Output from the web scrapping"
   ]
  },
  {
   "cell_type": "code",
   "execution_count": 23,
   "metadata": {},
   "outputs": [
    {
     "data": {
      "text/plain": [
       "(4926, 15)"
      ]
     },
     "execution_count": 23,
     "metadata": {},
     "output_type": "execute_result"
    }
   ],
   "source": [
    "df.shape"
   ]
  },
  {
   "cell_type": "code",
   "execution_count": 24,
   "metadata": {},
   "outputs": [],
   "source": [
    "df1 = df.copy()"
   ]
  },
  {
   "cell_type": "markdown",
   "metadata": {},
   "source": [
    "#### Cleaning the df"
   ]
  },
  {
   "cell_type": "code",
   "execution_count": 25,
   "metadata": {},
   "outputs": [],
   "source": [
    "df1 = df1.merge(geo_data, left_on='geo_town', right_on='town', how='left')\n",
    "df1 = df1.drop([\"town_x\", \"town_y\", \"n_properties\"], axis=1)\n",
    "df1 = df1.loc[:, ~df1.columns.str.contains('^Unnamed')]"
   ]
  },
  {
   "cell_type": "code",
   "execution_count": 26,
   "metadata": {
    "scrolled": true
   },
   "outputs": [],
   "source": [
    "def clean_last_update():\n",
    "    for i,n in enumerate(df1['last_update']):\n",
    "        try:\n",
    "            df1['last_update'][i] = df1['last_update'][i][0]\n",
    "        except:\n",
    "            df1['last_update'][i] = 'null'\n",
    "clean_last_update()"
   ]
  },
  {
   "cell_type": "code",
   "execution_count": 27,
   "metadata": {},
   "outputs": [],
   "source": [
    "numericals = ['m2', 'n_rooms', 'n_bath', 'price_m2', 'price', 'price_reduction', 'last_update']\n",
    "def anytype_to_numerical(df, columns = []):\n",
    "    for c in columns:\n",
    "        if df[c].dtypes == 'float64':\n",
    "            df[c] = df[c].astype(int)\n",
    "anytype_to_numerical(df1, columns = numericals)"
   ]
  },
  {
   "cell_type": "code",
   "execution_count": 28,
   "metadata": {},
   "outputs": [
    {
     "data": {
      "text/html": [
       "<div>\n",
       "<style scoped>\n",
       "    .dataframe tbody tr th:only-of-type {\n",
       "        vertical-align: middle;\n",
       "    }\n",
       "\n",
       "    .dataframe tbody tr th {\n",
       "        vertical-align: top;\n",
       "    }\n",
       "\n",
       "    .dataframe thead th {\n",
       "        text-align: right;\n",
       "    }\n",
       "</style>\n",
       "<table border=\"1\" class=\"dataframe\">\n",
       "  <thead>\n",
       "    <tr style=\"text-align: right;\">\n",
       "      <th></th>\n",
       "      <th>name</th>\n",
       "      <th>area</th>\n",
       "      <th>neighborhood</th>\n",
       "      <th>geo_town</th>\n",
       "      <th>m2</th>\n",
       "      <th>n_rooms</th>\n",
       "      <th>n_bath</th>\n",
       "      <th>price_m2</th>\n",
       "      <th>price</th>\n",
       "      <th>price_reduction</th>\n",
       "      <th>opportunity</th>\n",
       "      <th>last_update</th>\n",
       "      <th>description</th>\n",
       "      <th>url</th>\n",
       "      <th>province</th>\n",
       "      <th>ccaa</th>\n",
       "    </tr>\n",
       "  </thead>\n",
       "  <tbody>\n",
       "    <tr>\n",
       "      <th>0</th>\n",
       "      <td>Alquiler Piso  Carrer d´avall. Piso nuevo muy ...</td>\n",
       "      <td>Arenys de Mar</td>\n",
       "      <td>Centre</td>\n",
       "      <td>arenys_de_mar</td>\n",
       "      <td>75</td>\n",
       "      <td>2</td>\n",
       "      <td>1</td>\n",
       "      <td>15</td>\n",
       "      <td>1150</td>\n",
       "      <td>0</td>\n",
       "      <td>yes</td>\n",
       "      <td>2</td>\n",
       "      <td>Piso de obra nueva en Arenys de mar, cerca de ...</td>\n",
       "      <td>https://www.habitaclia.com/alquiler-piso-nuevo...</td>\n",
       "      <td>barcelona</td>\n",
       "      <td>cataluña</td>\n",
       "    </tr>\n",
       "    <tr>\n",
       "      <th>1</th>\n",
       "      <td>Alquiler Apartamento  N ii junquera. Por meses...</td>\n",
       "      <td>Arenys de Mar</td>\n",
       "      <td>Urbanitzacions</td>\n",
       "      <td>arenys_de_mar</td>\n",
       "      <td>70</td>\n",
       "      <td>3</td>\n",
       "      <td>1</td>\n",
       "      <td>12</td>\n",
       "      <td>900</td>\n",
       "      <td>80</td>\n",
       "      <td>no</td>\n",
       "      <td>null</td>\n",
       "      <td>INMUEBLE NO SUJETO A LA LIMITACIÓN DE PRECIOS ...</td>\n",
       "      <td>https://www.habitaclia.com/alquiler-apartament...</td>\n",
       "      <td>barcelona</td>\n",
       "      <td>cataluña</td>\n",
       "    </tr>\n",
       "    <tr>\n",
       "      <th>2</th>\n",
       "      <td>Alquiler Piso  en  Carrer mig (del), 20. Vivie...</td>\n",
       "      <td>Arenys de Mar</td>\n",
       "      <td>Urbanitzacions</td>\n",
       "      <td>arenys_de_mar</td>\n",
       "      <td>89</td>\n",
       "      <td>2</td>\n",
       "      <td>1</td>\n",
       "      <td>7</td>\n",
       "      <td>680</td>\n",
       "      <td>20</td>\n",
       "      <td>no</td>\n",
       "      <td>8</td>\n",
       "      <td>Vivienda en la Urbanización Carolines de Areny...</td>\n",
       "      <td>https://www.habitaclia.com/alquiler-piso-vivie...</td>\n",
       "      <td>barcelona</td>\n",
       "      <td>cataluña</td>\n",
       "    </tr>\n",
       "  </tbody>\n",
       "</table>\n",
       "</div>"
      ],
      "text/plain": [
       "                                                name            area  \\\n",
       "0  Alquiler Piso  Carrer d´avall. Piso nuevo muy ...  Arenys de Mar    \n",
       "1  Alquiler Apartamento  N ii junquera. Por meses...  Arenys de Mar    \n",
       "2  Alquiler Piso  en  Carrer mig (del), 20. Vivie...  Arenys de Mar    \n",
       "\n",
       "     neighborhood       geo_town  m2  n_rooms  n_bath  price_m2  price  \\\n",
       "0          Centre  arenys_de_mar  75        2       1        15   1150   \n",
       "1  Urbanitzacions  arenys_de_mar  70        3       1        12    900   \n",
       "2  Urbanitzacions  arenys_de_mar  89        2       1         7    680   \n",
       "\n",
       "  price_reduction opportunity last_update  \\\n",
       "0               0         yes           2   \n",
       "1              80          no        null   \n",
       "2              20          no           8   \n",
       "\n",
       "                                         description  \\\n",
       "0  Piso de obra nueva en Arenys de mar, cerca de ...   \n",
       "1  INMUEBLE NO SUJETO A LA LIMITACIÓN DE PRECIOS ...   \n",
       "2  Vivienda en la Urbanización Carolines de Areny...   \n",
       "\n",
       "                                                 url   province      ccaa  \n",
       "0  https://www.habitaclia.com/alquiler-piso-nuevo...  barcelona  cataluña  \n",
       "1  https://www.habitaclia.com/alquiler-apartament...  barcelona  cataluña  \n",
       "2  https://www.habitaclia.com/alquiler-piso-vivie...  barcelona  cataluña  "
      ]
     },
     "execution_count": 28,
     "metadata": {},
     "output_type": "execute_result"
    }
   ],
   "source": [
    "df1.head(3)"
   ]
  },
  {
   "cell_type": "markdown",
   "metadata": {},
   "source": [
    "#### Getting info about lifts"
   ]
  },
  {
   "cell_type": "code",
   "execution_count": 29,
   "metadata": {},
   "outputs": [],
   "source": [
    "# Creation of the df to which we will append the properties of the selected towns.\n",
    "name = []\n",
    "town = []\n",
    "area = []\n",
    "neighborhood = []\n",
    "geo_town = []\n",
    "features = []\n",
    "m2 = []\n",
    "n_rooms = []\n",
    "n_bath = []\n",
    "price_m2 = []\n",
    "description = []\n",
    "price = []\n",
    "opportunity = []\n",
    "price_reduction = []\n",
    "opportunity = []\n",
    "last_update = []\n",
    "url = []\n",
    "lift = []\n",
    "\n",
    "x = min(len(name), len(town), len(area), len(neighborhood), len(geo_town), len(description), len(price), len(last_update), len(url), len(lift))\n",
    "dct = {'name': name[:x], 'town': town[:x], 'area': area[:x], 'neighborhood': neighborhood[:x], 'geo_town':geo_town[:x],'m2': m2[:x], 'n_rooms': n_rooms[:x], 'n_bath': n_bath[:x], 'price_m2': price_m2[:x] ,'price': price[:x], 'price_reduction': price_reduction[:x], 'opportunity':opportunity[:x], 'last_update': last_update[:x],  'description': description[:x], 'url':url[:x], 'lift':lift[:x]}\n",
    "df_lift = pd.DataFrame.from_dict(dct)\n",
    "\n",
    "# Pulling properties from each town in the previously defined list:\n",
    "\n",
    "for t in towns:\n",
    "    \n",
    "    # Getting the number of properties for that town to see how many pages do we need to scrape.\n",
    "    url = \"https://www.habitaclia.com/\"+property+\"-\"+\"viviendas-ascensor\"+\"-\"+t+\".htm?\"+maximum_price\n",
    "    r = requests.get(url)\n",
    "    r.status_code\n",
    "    soup = BeautifulSoup(r.content, 'html.parser')\n",
    "    try:\n",
    "        total_results = int(soup.find('h2', attrs={'class': 'f-right'}).find('span').get_text().replace(\".\",\"\"))\n",
    "        pages = range(int(math.floor(total_results/16))+1)\n",
    "        properties = []\n",
    "\n",
    "        # Adding all the properties listed in each page to the list.\n",
    "        for p in pages:\n",
    "            sleep(randint(2,5))\n",
    "            url = \"https://www.habitaclia.com/\"+property+\"-\"+\"viviendas-ascensor\"+\"-\"+t+\"-\"+str(p)+\".htm?\"+maximum_price\n",
    "            try:\n",
    "                r = requests.get(url)\n",
    "                soup = BeautifulSoup(r.content, 'html.parser')\n",
    "                properties += soup.find_all('div', attrs={'class': 'list-item-info'})\n",
    "                del properties[-1] # Last item is an ad\n",
    "            except:\n",
    "                print('Error on page', p)\n",
    "                print('town: ', t, \" page: \", p, \"url: \", url)\n",
    "\n",
    "        # Creating a list for each piece of information I want to extract from each property.\n",
    "        name = []\n",
    "        town = []\n",
    "        area = []\n",
    "        neighborhood = []\n",
    "        geo_town = []\n",
    "        features = []\n",
    "        m2 = []\n",
    "        n_rooms = []\n",
    "        n_bath = []\n",
    "        price_m2 = []\n",
    "        description = []\n",
    "        price = []\n",
    "        opportunity = []\n",
    "        price_reduction = []\n",
    "        opportunity = []\n",
    "        last_update = []\n",
    "        url = []\n",
    "\n",
    "        # Getting the information from each property.\n",
    "        for i,properties in enumerate(properties):    \n",
    "            # Each feature is set as empty prior to being defined. This way we avoid errors when a feature is not available for a certain property.\n",
    "            name_temp = \"\"\n",
    "            town_temp = \"\"\n",
    "            area_temp = \"\"\n",
    "            neighborhood_temp = \"\"\n",
    "            geo_town_temp = \"\"\n",
    "            m2_temp = \"\"\n",
    "            n_rooms_temp = \"\"\n",
    "            n_bath_temp = \"\"\n",
    "            price_m2_temp = \"\"\n",
    "            price_temp = \"\"\n",
    "            opportunity_temp = \"\"\n",
    "            price_reduction_temp = \"\"\n",
    "            description_temp = \"\"\n",
    "            last_update_temp = \"\"\n",
    "            url_temp = \"\"\n",
    "            lift_temp = \"\"\n",
    "\n",
    "            # other_location enables us to differ between listed properties vs suggested properties, which appear when there are very few properties for one town. We want to avoid them as they are nearby properties not belonging to our target town.\n",
    "            other_location = properties.find('span', attrs={'class': 'ady-relationship'})\n",
    "            if other_location is None:\n",
    "                other_locations_properties = \"\"\n",
    "            else: \n",
    "                #print(i)\n",
    "                other_locations_properties = other_location.get_text(strip=True).find('Se encuentra en')\n",
    "\n",
    "            # Now I am skipping all the properties that are suggested so as to not append them to the df.\n",
    "            if other_locations_properties == 0:\n",
    "                pass\n",
    "            else:\n",
    "                try:\n",
    "                    # Extracting the features of a property and saving them in a temporary variable.\n",
    "                    name_temp = properties.find('h3', attrs={'class': 'list-item-title'}).get_text(strip=True)\n",
    "                    town_temp = properties.find('p', attrs={'class': 'list-item-location'}).get_text(strip=True).split(\"-\",1)[0].strip().replace(\"Ver mapa\",\"\")\n",
    "                    area_temp = properties.find('p', attrs={'class': 'list-item-location'}).get_text(strip=True).replace('/','-').strip().replace(\"Ver mapa\",\"\").split(\"-\",1)[0]\n",
    "                    neighborhood_temp = properties.find('p', attrs={'class': 'list-item-location'}).get_text(strip=True).replace('/','-').strip().replace(\"Ver mapa\",\"\").split(\"-\",1)[1].strip()\n",
    "                    geo_town_temp = t\n",
    "                    m2_temp = nfs.get_nums(properties.find('p', attrs={'class': 'list-item-feature'}).get_text(strip=True).split(\"-\")[0])[0] \n",
    "                    n_rooms_temp = nfs.get_nums(properties.find('p', attrs={'class': 'list-item-feature'}).get_text(strip=True).split(\"-\")[1])[0]\n",
    "                    n_bath_temp = nfs.get_nums(properties.find('p', attrs={'class': 'list-item-feature'}).get_text(strip=True).split(\"-\")[2])[0] \n",
    "                    price_m2_temp = nfs.get_nums(properties.find('p', attrs={'class': 'list-item-feature'}).get_text(strip=True).split(\"-\")[3])[0] \n",
    "                    raw_price_temp = properties.find('article', attrs={'class': 'list-item-price'}).get_text()\n",
    "                    if search(\"Oportunidad\", raw_price_temp):\n",
    "                        if search(\"ha bajado\", raw_price_temp): \n",
    "                            price_temp = nfs.get_nums((properties.find('article', attrs={'class': 'list-item-price'}).get_text()).replace(\".\",\"\"))[0]\n",
    "                            price_reduction_temp = nfs.get_nums((properties.find('article', attrs={'class': 'list-item-price'}).get_text()).replace(\".\",\"\"))[1]\n",
    "                            opportunity_temp = \"yes\"\n",
    "                        else:\n",
    "                            price_temp = nfs.get_nums((properties.find('article', attrs={'class': 'list-item-price'}).get_text()).replace(\".\",\"\"))[0]\n",
    "                            price_reduction_temp = \"0\"\n",
    "                            opportunity_temp = \"yes\"\n",
    "                    elif search(\"ha bajado\", raw_price_temp):\n",
    "                        price_temp = nfs.get_nums((properties.find('article', attrs={'class': 'list-item-price'}).get_text()).replace(\".\",\"\"))[0]\n",
    "                        price_reduction_temp = nfs.get_nums((properties.find('article', attrs={'class': 'list-item-price'}).get_text()).replace(\".\",\"\"))[1]      \n",
    "                        opportunity_temp = \"no\"\n",
    "                    else: \n",
    "                        price_temp = nfs.get_nums((properties.find('article', attrs={'class': 'list-item-price'}).get_text()).replace(\".\",\"\"))[0]\n",
    "                        price_reduction_temp = \"0\"\n",
    "                        opportunity_temp = \"no\"\n",
    "                    description_temp = properties.find('p', attrs={'class': 'list-item-description'}).get_text(strip=True)\n",
    "                    last_update_temp = nfs.get_nums(properties.find('span', attrs={'class': 'list-item-date'}).get_text(strip=True))\n",
    "                    url_temp = properties.find('h3', attrs={'class': 'list-item-title'}).find('a').get('href')\n",
    "                    lift_temp = 'yes'\n",
    "\n",
    "                    # Appending temporary variables features to their corresponding list.\n",
    "                    name.append(name_temp)\n",
    "                    town.append(town_temp)\n",
    "                    area.append(area_temp)\n",
    "                    neighborhood.append(neighborhood_temp)\n",
    "                    geo_town.append(geo_town_temp)\n",
    "                    m2.append(m2_temp)\n",
    "                    n_rooms.append(n_rooms_temp)\n",
    "                    n_bath.append(n_bath_temp)\n",
    "                    price_m2.append(price_m2_temp)\n",
    "                    price.append(price_temp)\n",
    "                    opportunity.append(opportunity_temp)\n",
    "                    price_reduction.append(price_reduction_temp)\n",
    "                    description.append(description_temp)\n",
    "                    last_update.append(last_update_temp)\n",
    "                    url.append(url_temp)\n",
    "                    lift.append(lift_temp)\n",
    "\n",
    "                except:\n",
    "                    # In case we may encounter an error, we print the features of each property to find the bug.\n",
    "                    '''\n",
    "                    print('------------------------------------')\n",
    "                    print('nombre: ', name_temp)\n",
    "                    print('town_temp: ', town_temp)\n",
    "                    print('area_temp: ', area_temp)\n",
    "                    print('m2_temp: ', m2_temp)\n",
    "                    print('n_rooms_temp: ', n_rooms_temp)\n",
    "                    print('n_bath_temp: ', n_bath_temp)\n",
    "                    print('price_m2_temp: ', price_m2_temp)\n",
    "                    print('price_temp: ', price_temp)\n",
    "                    print('opportunity_temp: ', opportunity_temp)\n",
    "                    print('price_reduction_temp: ', price_reduction_temp)\n",
    "                    print('description_temp: ', description_temp)\n",
    "                    print('last_update_temp: ', last_update_temp)\n",
    "                    print('url_temp: ', url_temp)\n",
    "                    print('------------------------------------')\n",
    "                    '''\n",
    "        \n",
    "        x_town = min(len(name), len(town), len(area), len(neighborhood), len(geo_town), len(description), len(price), len(last_update), len(url), len(lift))\n",
    "        dct_town = {'name': name[:x_town], 'town': town[:x_town], 'area': area[:x_town], 'neighborhood': neighborhood[:x_town], 'geo_town':geo_town[:x_town],'m2': m2[:x_town], 'n_rooms': n_rooms[:x_town], 'n_bath': n_bath[:x_town], 'price_m2': price_m2[:x_town] ,'price': price[:x_town], 'price_reduction': price_reduction[:x_town], 'opportunity':opportunity[:x_town], 'last_update': last_update[:x_town],  'description': description[:x_town], 'url':url[:x_town], 'lift':lift[:x_town]}\n",
    "        df_town = pd.DataFrame.from_dict(dct_town)\n",
    "        df_lift = df_lift.append(df_town, ignore_index = True)\n",
    "        \n",
    "        #Cleaning the final df\n",
    "        #df = df[~df['description'].str.contains('nuda|sin cedula|sin cédula')]\n",
    "    except:\n",
    "        pass\n",
    "        #print(\"no properties found at: \", url)"
   ]
  },
  {
   "cell_type": "code",
   "execution_count": 30,
   "metadata": {},
   "outputs": [],
   "source": [
    "df1_lift = df_lift.copy()"
   ]
  },
  {
   "cell_type": "code",
   "execution_count": 31,
   "metadata": {},
   "outputs": [],
   "source": [
    "df1_lift = df1_lift.merge(geo_data, left_on='geo_town', right_on='town', how='left')\n",
    "df1_lift = df1_lift.drop([\"town_x\", \"town_y\", \"n_properties\"], axis=1)\n",
    "df1_lift = df1_lift.loc[:, ~df1_lift.columns.str.contains('^Unnamed')]"
   ]
  },
  {
   "cell_type": "code",
   "execution_count": 32,
   "metadata": {},
   "outputs": [],
   "source": [
    "numericals = ['m2', 'n_rooms', 'n_bath', 'price_m2', 'price', 'price_reduction', 'last_update']\n",
    "\n",
    "def anytype_to_numerical(df, columns = []):\n",
    "    for c in columns:\n",
    "        if df[c].dtypes == 'float64':\n",
    "            df[c] = df[c].astype(int)\n",
    "\n",
    "def clean_last_update():\n",
    "    for i,n in enumerate(df1_lift['last_update']):\n",
    "        try:\n",
    "            df1_lift['last_update'][i] = df1_lift['last_update'][i][0]\n",
    "        except:\n",
    "            df1_lift['last_update'][i] = '0'"
   ]
  },
  {
   "cell_type": "code",
   "execution_count": 33,
   "metadata": {},
   "outputs": [],
   "source": [
    "anytype_to_numerical(df1_lift, columns = numericals)\n",
    "clean_last_update()"
   ]
  },
  {
   "cell_type": "code",
   "execution_count": 34,
   "metadata": {},
   "outputs": [],
   "source": [
    "df1_lift= df1_lift[df1_lift['price']<int(max_price)]"
   ]
  },
  {
   "cell_type": "code",
   "execution_count": 35,
   "metadata": {},
   "outputs": [
    {
     "data": {
      "text/plain": [
       "(2696, 17)"
      ]
     },
     "execution_count": 35,
     "metadata": {},
     "output_type": "execute_result"
    }
   ],
   "source": [
    "df1_lift.shape"
   ]
  },
  {
   "cell_type": "code",
   "execution_count": 36,
   "metadata": {},
   "outputs": [],
   "source": [
    "list_names_with_lift = list(df1_lift['name'])"
   ]
  },
  {
   "cell_type": "code",
   "execution_count": 37,
   "metadata": {},
   "outputs": [],
   "source": [
    "final_df = df1.combine_first(df1_lift)"
   ]
  },
  {
   "cell_type": "code",
   "execution_count": 38,
   "metadata": {},
   "outputs": [
    {
     "data": {
      "text/plain": [
       "(4926, 17)"
      ]
     },
     "execution_count": 38,
     "metadata": {},
     "output_type": "execute_result"
    }
   ],
   "source": [
    "final_df.shape"
   ]
  },
  {
   "cell_type": "markdown",
   "metadata": {},
   "source": [
    "#### Data about the floor of each property"
   ]
  },
  {
   "cell_type": "code",
   "execution_count": 39,
   "metadata": {},
   "outputs": [],
   "source": [
    "final_df.insert(1, 'floor', '')"
   ]
  },
  {
   "cell_type": "code",
   "execution_count": 40,
   "metadata": {},
   "outputs": [
    {
     "data": {
      "text/html": [
       "<div>\n",
       "<style scoped>\n",
       "    .dataframe tbody tr th:only-of-type {\n",
       "        vertical-align: middle;\n",
       "    }\n",
       "\n",
       "    .dataframe tbody tr th {\n",
       "        vertical-align: top;\n",
       "    }\n",
       "\n",
       "    .dataframe thead th {\n",
       "        text-align: right;\n",
       "    }\n",
       "</style>\n",
       "<table border=\"1\" class=\"dataframe\">\n",
       "  <thead>\n",
       "    <tr style=\"text-align: right;\">\n",
       "      <th></th>\n",
       "      <th>area</th>\n",
       "      <th>floor</th>\n",
       "      <th>ccaa</th>\n",
       "      <th>description</th>\n",
       "      <th>geo_town</th>\n",
       "      <th>last_update</th>\n",
       "      <th>lift</th>\n",
       "      <th>m2</th>\n",
       "      <th>n_bath</th>\n",
       "      <th>n_rooms</th>\n",
       "      <th>name</th>\n",
       "      <th>neighborhood</th>\n",
       "      <th>opportunity</th>\n",
       "      <th>price</th>\n",
       "      <th>price_m2</th>\n",
       "      <th>price_reduction</th>\n",
       "      <th>province</th>\n",
       "      <th>url</th>\n",
       "    </tr>\n",
       "  </thead>\n",
       "  <tbody>\n",
       "    <tr>\n",
       "      <th>0</th>\n",
       "      <td>Arenys de Mar</td>\n",
       "      <td></td>\n",
       "      <td>cataluña</td>\n",
       "      <td>Piso de obra nueva en Arenys de mar, cerca de ...</td>\n",
       "      <td>arenys_de_mar</td>\n",
       "      <td>2</td>\n",
       "      <td>yes</td>\n",
       "      <td>75</td>\n",
       "      <td>1</td>\n",
       "      <td>2</td>\n",
       "      <td>Alquiler Piso  Carrer d´avall. Piso nuevo muy ...</td>\n",
       "      <td>Centre</td>\n",
       "      <td>yes</td>\n",
       "      <td>1150</td>\n",
       "      <td>15</td>\n",
       "      <td>0</td>\n",
       "      <td>barcelona</td>\n",
       "      <td>https://www.habitaclia.com/alquiler-piso-nuevo...</td>\n",
       "    </tr>\n",
       "    <tr>\n",
       "      <th>1</th>\n",
       "      <td>Arenys de Mar</td>\n",
       "      <td></td>\n",
       "      <td>cataluña</td>\n",
       "      <td>INMUEBLE NO SUJETO A LA LIMITACIÓN DE PRECIOS ...</td>\n",
       "      <td>arenys_de_mar</td>\n",
       "      <td>null</td>\n",
       "      <td>yes</td>\n",
       "      <td>70</td>\n",
       "      <td>1</td>\n",
       "      <td>3</td>\n",
       "      <td>Alquiler Apartamento  N ii junquera. Por meses...</td>\n",
       "      <td>Urbanitzacions</td>\n",
       "      <td>no</td>\n",
       "      <td>900</td>\n",
       "      <td>12</td>\n",
       "      <td>80</td>\n",
       "      <td>barcelona</td>\n",
       "      <td>https://www.habitaclia.com/alquiler-apartament...</td>\n",
       "    </tr>\n",
       "    <tr>\n",
       "      <th>2</th>\n",
       "      <td>Arenys de Mar</td>\n",
       "      <td></td>\n",
       "      <td>cataluña</td>\n",
       "      <td>Vivienda en la Urbanización Carolines de Areny...</td>\n",
       "      <td>arenys_de_mar</td>\n",
       "      <td>8</td>\n",
       "      <td>yes</td>\n",
       "      <td>89</td>\n",
       "      <td>1</td>\n",
       "      <td>2</td>\n",
       "      <td>Alquiler Piso  en  Carrer mig (del), 20. Vivie...</td>\n",
       "      <td>Urbanitzacions</td>\n",
       "      <td>no</td>\n",
       "      <td>680</td>\n",
       "      <td>7</td>\n",
       "      <td>20</td>\n",
       "      <td>barcelona</td>\n",
       "      <td>https://www.habitaclia.com/alquiler-piso-vivie...</td>\n",
       "    </tr>\n",
       "  </tbody>\n",
       "</table>\n",
       "</div>"
      ],
      "text/plain": [
       "             area floor      ccaa  \\\n",
       "0  Arenys de Mar         cataluña   \n",
       "1  Arenys de Mar         cataluña   \n",
       "2  Arenys de Mar         cataluña   \n",
       "\n",
       "                                         description       geo_town  \\\n",
       "0  Piso de obra nueva en Arenys de mar, cerca de ...  arenys_de_mar   \n",
       "1  INMUEBLE NO SUJETO A LA LIMITACIÓN DE PRECIOS ...  arenys_de_mar   \n",
       "2  Vivienda en la Urbanización Carolines de Areny...  arenys_de_mar   \n",
       "\n",
       "  last_update lift  m2  n_bath  n_rooms  \\\n",
       "0           2  yes  75       1        2   \n",
       "1        null  yes  70       1        3   \n",
       "2           8  yes  89       1        2   \n",
       "\n",
       "                                                name    neighborhood  \\\n",
       "0  Alquiler Piso  Carrer d´avall. Piso nuevo muy ...          Centre   \n",
       "1  Alquiler Apartamento  N ii junquera. Por meses...  Urbanitzacions   \n",
       "2  Alquiler Piso  en  Carrer mig (del), 20. Vivie...  Urbanitzacions   \n",
       "\n",
       "  opportunity  price  price_m2 price_reduction   province  \\\n",
       "0         yes   1150        15               0  barcelona   \n",
       "1          no    900        12              80  barcelona   \n",
       "2          no    680         7              20  barcelona   \n",
       "\n",
       "                                                 url  \n",
       "0  https://www.habitaclia.com/alquiler-piso-nuevo...  \n",
       "1  https://www.habitaclia.com/alquiler-apartament...  \n",
       "2  https://www.habitaclia.com/alquiler-piso-vivie...  "
      ]
     },
     "execution_count": 40,
     "metadata": {},
     "output_type": "execute_result"
    }
   ],
   "source": [
    "final_df.head(3)"
   ]
  },
  {
   "cell_type": "code",
   "execution_count": 41,
   "metadata": {},
   "outputs": [],
   "source": [
    "for l in list_floors:\n",
    "    find_floor(final_df, \n",
    "               column = 'description', \n",
    "               key_words = l)"
   ]
  },
  {
   "cell_type": "code",
   "execution_count": 42,
   "metadata": {},
   "outputs": [
    {
     "name": "stdout",
     "output_type": "stream",
     "text": [
      "0\n",
      "200\n",
      "400\n",
      "500\n",
      "600\n",
      "700\n",
      "800\n",
      "900\n",
      "1000\n",
      "1100\n",
      "1200\n",
      "1300\n",
      "1400\n",
      "1500\n",
      "1600\n",
      "1700\n",
      "1800\n",
      "1900\n",
      "2000\n",
      "2100\n",
      "2200\n",
      "2300\n",
      "2400\n",
      "2500\n",
      "2600\n",
      "2700\n",
      "2800\n",
      "2900\n",
      "3000\n",
      "3100\n",
      "3200\n",
      "3300\n",
      "3400\n",
      "3500\n",
      "3600\n",
      "3700\n",
      "3800\n",
      "3900\n",
      "4000\n",
      "4100\n",
      "4300\n",
      "4400\n",
      "4500\n",
      "4700\n",
      "4800\n",
      "4900\n"
     ]
    }
   ],
   "source": [
    "get_lift_from_property_url(final_df)"
   ]
  },
  {
   "cell_type": "code",
   "execution_count": 43,
   "metadata": {},
   "outputs": [],
   "source": [
    "final_df1 = final_df.copy()"
   ]
  },
  {
   "cell_type": "code",
   "execution_count": 44,
   "metadata": {},
   "outputs": [],
   "source": [
    "clean_floors2(final_df1, column = 'floor')"
   ]
  },
  {
   "cell_type": "code",
   "execution_count": 45,
   "metadata": {},
   "outputs": [
    {
     "data": {
      "text/plain": [
       "first              683\n",
       "second             550\n",
       "third              487\n",
       "fourth             282\n",
       "sixth_or_higher    196\n",
       "fifth              177\n",
       "ground              56\n",
       "underground          5\n",
       "Name: floor, dtype: int64"
      ]
     },
     "execution_count": 45,
     "metadata": {},
     "output_type": "execute_result"
    }
   ],
   "source": [
    "final_df1['floor'].value_counts()"
   ]
  },
  {
   "cell_type": "code",
   "execution_count": 46,
   "metadata": {},
   "outputs": [
    {
     "data": {
      "text/plain": [
       "2490"
      ]
     },
     "execution_count": 46,
     "metadata": {},
     "output_type": "execute_result"
    }
   ],
   "source": [
    "final_df1['floor'].isnull().sum()"
   ]
  },
  {
   "cell_type": "code",
   "execution_count": 47,
   "metadata": {},
   "outputs": [
    {
     "data": {
      "text/plain": [
       "2436"
      ]
     },
     "execution_count": 47,
     "metadata": {},
     "output_type": "execute_result"
    }
   ],
   "source": [
    "final_df1['floor'].notnull().sum()"
   ]
  },
  {
   "cell_type": "markdown",
   "metadata": {},
   "source": [
    "Limpiar nuda propiedad"
   ]
  },
  {
   "cell_type": "code",
   "execution_count": 49,
   "metadata": {},
   "outputs": [],
   "source": [
    "#Cleaning the final df\n",
    "#df = df[~df['description'].str.contains('nuda|sin cedula|sin cédula')]"
   ]
  },
  {
   "cell_type": "markdown",
   "metadata": {},
   "source": [
    "#### Saving the scrapped df"
   ]
  },
  {
   "cell_type": "code",
   "execution_count": 48,
   "metadata": {},
   "outputs": [],
   "source": [
    "today = datetime.now().strftime('%Y.%m.%d')\n",
    "final_df1.to_csv(path_or_buf = '/Users/ignaciolorenzoqueralt/Documents/Ironhack/Final Project/properties/rent/'+today+'_'+ccaa+'_'+str(max_price)+'_'+str(num_properties_per_town)+'.csv')"
   ]
  }
 ],
 "metadata": {
  "kernelspec": {
   "display_name": "ironhack_1",
   "language": "python",
   "name": "ironhack_1"
  },
  "language_info": {
   "codemirror_mode": {
    "name": "ipython",
    "version": 3
   },
   "file_extension": ".py",
   "mimetype": "text/x-python",
   "name": "python",
   "nbconvert_exporter": "python",
   "pygments_lexer": "ipython3",
   "version": "3.8.5"
  }
 },
 "nbformat": 4,
 "nbformat_minor": 5
}
