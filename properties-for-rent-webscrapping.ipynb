{
 "cells": [
  {
   "cell_type": "markdown",
   "metadata": {},
   "source": [
    "## Finding the most profitable towns in a CCAA given a max price"
   ]
  },
  {
   "cell_type": "code",
   "execution_count": 1,
   "metadata": {},
   "outputs": [],
   "source": [
    "import pandas as pd\n",
    "import math\n",
    "from bs4 import BeautifulSoup\n",
    "import requests\n",
    "import nums_from_string as nfs\n",
    "import numpy as np\n",
    "from re import search\n",
    "from random import randint\n",
    "from time import sleep\n",
    "import openpyxl\n",
    "import xlrd\n",
    "import lxml\n",
    "from datetime import datetime, timedelta\n",
    "import matplotlib.pyplot as plt\n",
    "import seaborn as sns\n",
    "from functions import *"
   ]
  },
  {
   "cell_type": "markdown",
   "metadata": {},
   "source": [
    "#### Importing geo data from csv file"
   ]
  },
  {
   "cell_type": "code",
   "execution_count": 2,
   "metadata": {},
   "outputs": [],
   "source": [
    "geo_data = pd.read_csv('/Users/ignaciolorenzoqueralt/Documents/Ironhack/Final Project/data/province-town-n_props/geo-data_2021.10.23.csv')"
   ]
  },
  {
   "cell_type": "markdown",
   "metadata": {},
   "source": [
    "#### Getting data about properties for sale to query accordingly properties for rent "
   ]
  },
  {
   "cell_type": "markdown",
   "metadata": {},
   "source": [
    "Importing properties for sale csv"
   ]
  },
  {
   "cell_type": "code",
   "execution_count": 3,
   "metadata": {},
   "outputs": [],
   "source": [
    "data_sale_properties = pd.read_csv('/Users/ignaciolorenzoqueralt/Documents/Ironhack/Final Project/properties/sale/2021.11.13_cataluña_60000_1000.csv', engine = 'python')\n",
    "data_sale_properties = data_sale_properties.loc[:, ~data_sale_properties.columns.str.contains('^Unnamed')]"
   ]
  },
  {
   "cell_type": "code",
   "execution_count": 4,
   "metadata": {},
   "outputs": [],
   "source": [
    "def checking_nulls(df):\n",
    "    # This function shows which columns have null values and returns a df with only nulls\n",
    "    for c in df.columns:\n",
    "        null_count = df[c].isnull().sum()\n",
    "        if null_count > 0:\n",
    "            print (\"The column \", c, \" has \", null_count, \" null values\")\n",
    "    nulls = df[df.isna().any(axis=1)]\n",
    "    return nulls.head(3)"
   ]
  },
  {
   "cell_type": "code",
   "execution_count": 5,
   "metadata": {},
   "outputs": [],
   "source": [
    "data_sale_properties = data_sale_properties.dropna()"
   ]
  },
  {
   "cell_type": "code",
   "execution_count": 6,
   "metadata": {},
   "outputs": [
    {
     "data": {
      "text/html": [
       "<div>\n",
       "<style scoped>\n",
       "    .dataframe tbody tr th:only-of-type {\n",
       "        vertical-align: middle;\n",
       "    }\n",
       "\n",
       "    .dataframe tbody tr th {\n",
       "        vertical-align: top;\n",
       "    }\n",
       "\n",
       "    .dataframe thead th {\n",
       "        text-align: right;\n",
       "    }\n",
       "</style>\n",
       "<table border=\"1\" class=\"dataframe\">\n",
       "  <thead>\n",
       "    <tr style=\"text-align: right;\">\n",
       "      <th></th>\n",
       "      <th>name</th>\n",
       "      <th>floor</th>\n",
       "      <th>area</th>\n",
       "      <th>neighborhood</th>\n",
       "      <th>geo_town</th>\n",
       "      <th>m2</th>\n",
       "      <th>n_rooms</th>\n",
       "      <th>n_bath</th>\n",
       "      <th>price_m2</th>\n",
       "      <th>price</th>\n",
       "      <th>price_reduction</th>\n",
       "      <th>opportunity</th>\n",
       "      <th>last_update</th>\n",
       "      <th>description</th>\n",
       "      <th>url</th>\n",
       "      <th>lift</th>\n",
       "      <th>province</th>\n",
       "      <th>ccaa</th>\n",
       "    </tr>\n",
       "  </thead>\n",
       "  <tbody>\n",
       "  </tbody>\n",
       "</table>\n",
       "</div>"
      ],
      "text/plain": [
       "Empty DataFrame\n",
       "Columns: [name, floor, area, neighborhood, geo_town, m2, n_rooms, n_bath, price_m2, price, price_reduction, opportunity, last_update, description, url, lift, province, ccaa]\n",
       "Index: []"
      ]
     },
     "execution_count": 6,
     "metadata": {},
     "output_type": "execute_result"
    }
   ],
   "source": [
    "checking_nulls(data_sale_properties)"
   ]
  },
  {
   "cell_type": "code",
   "execution_count": 7,
   "metadata": {},
   "outputs": [
    {
     "data": {
      "text/html": [
       "<div>\n",
       "<style scoped>\n",
       "    .dataframe tbody tr th:only-of-type {\n",
       "        vertical-align: middle;\n",
       "    }\n",
       "\n",
       "    .dataframe tbody tr th {\n",
       "        vertical-align: top;\n",
       "    }\n",
       "\n",
       "    .dataframe thead th {\n",
       "        text-align: right;\n",
       "    }\n",
       "</style>\n",
       "<table border=\"1\" class=\"dataframe\">\n",
       "  <thead>\n",
       "    <tr style=\"text-align: right;\">\n",
       "      <th></th>\n",
       "      <th>name</th>\n",
       "      <th>floor</th>\n",
       "      <th>area</th>\n",
       "      <th>neighborhood</th>\n",
       "      <th>geo_town</th>\n",
       "      <th>m2</th>\n",
       "      <th>n_rooms</th>\n",
       "      <th>n_bath</th>\n",
       "      <th>price_m2</th>\n",
       "      <th>price</th>\n",
       "      <th>price_reduction</th>\n",
       "      <th>opportunity</th>\n",
       "      <th>last_update</th>\n",
       "      <th>description</th>\n",
       "      <th>url</th>\n",
       "      <th>lift</th>\n",
       "      <th>province</th>\n",
       "      <th>ccaa</th>\n",
       "    </tr>\n",
       "  </thead>\n",
       "  <tbody>\n",
       "    <tr>\n",
       "      <th>0</th>\n",
       "      <td>Planta baja  Genova. Piso en calle genova</td>\n",
       "      <td>underground</td>\n",
       "      <td>Badalona</td>\n",
       "      <td>Montigalà</td>\n",
       "      <td>badalona</td>\n",
       "      <td>61</td>\n",
       "      <td>3</td>\n",
       "      <td>2</td>\n",
       "      <td>975</td>\n",
       "      <td>59500</td>\n",
       "      <td>3000</td>\n",
       "      <td>no</td>\n",
       "      <td>0</td>\n",
       "      <td>Sótano para reformar Piso en planta sótano (es...</td>\n",
       "      <td>https://www.habitaclia.com/comprar-planta_baja...</td>\n",
       "      <td>yes</td>\n",
       "      <td>barcelona</td>\n",
       "      <td>cataluña</td>\n",
       "    </tr>\n",
       "    <tr>\n",
       "      <th>1</th>\n",
       "      <td>Piso  Carrer federico garcia lorca. Se vende n...</td>\n",
       "      <td>fourth</td>\n",
       "      <td>Barcelona</td>\n",
       "      <td>Canyelles</td>\n",
       "      <td>barcelona</td>\n",
       "      <td>86</td>\n",
       "      <td>4</td>\n",
       "      <td>1</td>\n",
       "      <td>453</td>\n",
       "      <td>39000</td>\n",
       "      <td>0</td>\n",
       "      <td>no</td>\n",
       "      <td>0</td>\n",
       "      <td>SOLO INVERSORES. SE VENDE LA NUDA PROPIEDAD Pr...</td>\n",
       "      <td>https://www.habitaclia.com/comprar-piso-se_ven...</td>\n",
       "      <td>yes</td>\n",
       "      <td>barcelona</td>\n",
       "      <td>cataluña</td>\n",
       "    </tr>\n",
       "    <tr>\n",
       "      <th>2</th>\n",
       "      <td>Piso  en  Lloreda. Solo inversores. se vende l...</td>\n",
       "      <td>eighth</td>\n",
       "      <td>Badalona</td>\n",
       "      <td>Lloreda</td>\n",
       "      <td>badalona</td>\n",
       "      <td>74</td>\n",
       "      <td>3</td>\n",
       "      <td>1</td>\n",
       "      <td>432</td>\n",
       "      <td>32000</td>\n",
       "      <td>8000</td>\n",
       "      <td>no</td>\n",
       "      <td>0</td>\n",
       "      <td>SOLO INVERSORES. VIVIENDA NO DISPONIBLE PARA V...</td>\n",
       "      <td>https://www.habitaclia.com/comprar-piso-solo_i...</td>\n",
       "      <td>yes</td>\n",
       "      <td>barcelona</td>\n",
       "      <td>cataluña</td>\n",
       "    </tr>\n",
       "  </tbody>\n",
       "</table>\n",
       "</div>"
      ],
      "text/plain": [
       "                                                name        floor        area  \\\n",
       "0          Planta baja  Genova. Piso en calle genova  underground   Badalona    \n",
       "1  Piso  Carrer federico garcia lorca. Se vende n...       fourth  Barcelona    \n",
       "2  Piso  en  Lloreda. Solo inversores. se vende l...       eighth   Badalona    \n",
       "\n",
       "  neighborhood   geo_town  m2  n_rooms  n_bath  price_m2  price  \\\n",
       "0    Montigalà   badalona  61        3       2       975  59500   \n",
       "1    Canyelles  barcelona  86        4       1       453  39000   \n",
       "2      Lloreda   badalona  74        3       1       432  32000   \n",
       "\n",
       "   price_reduction opportunity  last_update  \\\n",
       "0             3000          no            0   \n",
       "1                0          no            0   \n",
       "2             8000          no            0   \n",
       "\n",
       "                                         description  \\\n",
       "0  Sótano para reformar Piso en planta sótano (es...   \n",
       "1  SOLO INVERSORES. SE VENDE LA NUDA PROPIEDAD Pr...   \n",
       "2  SOLO INVERSORES. VIVIENDA NO DISPONIBLE PARA V...   \n",
       "\n",
       "                                                 url lift   province      ccaa  \n",
       "0  https://www.habitaclia.com/comprar-planta_baja...  yes  barcelona  cataluña  \n",
       "1  https://www.habitaclia.com/comprar-piso-se_ven...  yes  barcelona  cataluña  \n",
       "2  https://www.habitaclia.com/comprar-piso-solo_i...  yes  barcelona  cataluña  "
      ]
     },
     "execution_count": 7,
     "metadata": {},
     "output_type": "execute_result"
    }
   ],
   "source": [
    "data_sale_properties.head(3)"
   ]
  },
  {
   "cell_type": "markdown",
   "metadata": {},
   "source": [
    "#### Cleaning imported data"
   ]
  },
  {
   "cell_type": "code",
   "execution_count": 8,
   "metadata": {},
   "outputs": [],
   "source": [
    "def convert_to_num(df, column):\n",
    "    for i,value in enumerate(df[column]):\n",
    "        df[column] = df[column].astype(int)"
   ]
  },
  {
   "cell_type": "code",
   "execution_count": 9,
   "metadata": {},
   "outputs": [],
   "source": [
    "convert_to_num(data_sale_properties, column = 'm2')\n",
    "convert_to_num(data_sale_properties, column = 'n_rooms')\n",
    "convert_to_num(data_sale_properties, column = 'n_bath')"
   ]
  },
  {
   "cell_type": "markdown",
   "metadata": {},
   "source": [
    "#### Exploring numerical features"
   ]
  },
  {
   "cell_type": "code",
   "execution_count": 10,
   "metadata": {},
   "outputs": [],
   "source": [
    "features = data_sale_properties.filter(['m2','n_bath', 'n_rooms'], axis=1)"
   ]
  },
  {
   "cell_type": "code",
   "execution_count": 11,
   "metadata": {},
   "outputs": [
    {
     "data": {
      "text/html": [
       "<div>\n",
       "<style scoped>\n",
       "    .dataframe tbody tr th:only-of-type {\n",
       "        vertical-align: middle;\n",
       "    }\n",
       "\n",
       "    .dataframe tbody tr th {\n",
       "        vertical-align: top;\n",
       "    }\n",
       "\n",
       "    .dataframe thead th {\n",
       "        text-align: right;\n",
       "    }\n",
       "</style>\n",
       "<table border=\"1\" class=\"dataframe\">\n",
       "  <thead>\n",
       "    <tr style=\"text-align: right;\">\n",
       "      <th></th>\n",
       "      <th>count</th>\n",
       "      <th>mean</th>\n",
       "      <th>std</th>\n",
       "      <th>min</th>\n",
       "      <th>25%</th>\n",
       "      <th>50%</th>\n",
       "      <th>75%</th>\n",
       "      <th>max</th>\n",
       "    </tr>\n",
       "  </thead>\n",
       "  <tbody>\n",
       "    <tr>\n",
       "      <th>m2</th>\n",
       "      <td>28.0</td>\n",
       "      <td>64.892857</td>\n",
       "      <td>17.808319</td>\n",
       "      <td>32.0</td>\n",
       "      <td>53.00</td>\n",
       "      <td>63.0</td>\n",
       "      <td>81.00</td>\n",
       "      <td>103.0</td>\n",
       "    </tr>\n",
       "    <tr>\n",
       "      <th>n_rooms</th>\n",
       "      <td>28.0</td>\n",
       "      <td>2.428571</td>\n",
       "      <td>1.033820</td>\n",
       "      <td>1.0</td>\n",
       "      <td>1.75</td>\n",
       "      <td>3.0</td>\n",
       "      <td>3.00</td>\n",
       "      <td>4.0</td>\n",
       "    </tr>\n",
       "    <tr>\n",
       "      <th>n_bath</th>\n",
       "      <td>28.0</td>\n",
       "      <td>1.214286</td>\n",
       "      <td>0.498675</td>\n",
       "      <td>1.0</td>\n",
       "      <td>1.00</td>\n",
       "      <td>1.0</td>\n",
       "      <td>1.00</td>\n",
       "      <td>3.0</td>\n",
       "    </tr>\n",
       "    <tr>\n",
       "      <th>price_m2</th>\n",
       "      <td>28.0</td>\n",
       "      <td>526.821429</td>\n",
       "      <td>344.046407</td>\n",
       "      <td>1.0</td>\n",
       "      <td>324.25</td>\n",
       "      <td>640.0</td>\n",
       "      <td>800.75</td>\n",
       "      <td>975.0</td>\n",
       "    </tr>\n",
       "    <tr>\n",
       "      <th>price</th>\n",
       "      <td>28.0</td>\n",
       "      <td>50013.357143</td>\n",
       "      <td>8172.609335</td>\n",
       "      <td>27000.0</td>\n",
       "      <td>45750.00</td>\n",
       "      <td>52450.0</td>\n",
       "      <td>55000.00</td>\n",
       "      <td>59800.0</td>\n",
       "    </tr>\n",
       "    <tr>\n",
       "      <th>price_reduction</th>\n",
       "      <td>28.0</td>\n",
       "      <td>1509.285714</td>\n",
       "      <td>2872.379229</td>\n",
       "      <td>0.0</td>\n",
       "      <td>0.00</td>\n",
       "      <td>0.0</td>\n",
       "      <td>2250.00</td>\n",
       "      <td>11760.0</td>\n",
       "    </tr>\n",
       "    <tr>\n",
       "      <th>last_update</th>\n",
       "      <td>28.0</td>\n",
       "      <td>4.964286</td>\n",
       "      <td>6.368221</td>\n",
       "      <td>0.0</td>\n",
       "      <td>0.00</td>\n",
       "      <td>2.0</td>\n",
       "      <td>8.75</td>\n",
       "      <td>16.0</td>\n",
       "    </tr>\n",
       "  </tbody>\n",
       "</table>\n",
       "</div>"
      ],
      "text/plain": [
       "                 count          mean          std      min       25%      50%  \\\n",
       "m2                28.0     64.892857    17.808319     32.0     53.00     63.0   \n",
       "n_rooms           28.0      2.428571     1.033820      1.0      1.75      3.0   \n",
       "n_bath            28.0      1.214286     0.498675      1.0      1.00      1.0   \n",
       "price_m2          28.0    526.821429   344.046407      1.0    324.25    640.0   \n",
       "price             28.0  50013.357143  8172.609335  27000.0  45750.00  52450.0   \n",
       "price_reduction   28.0   1509.285714  2872.379229      0.0      0.00      0.0   \n",
       "last_update       28.0      4.964286     6.368221      0.0      0.00      2.0   \n",
       "\n",
       "                      75%      max  \n",
       "m2                  81.00    103.0  \n",
       "n_rooms              3.00      4.0  \n",
       "n_bath               1.00      3.0  \n",
       "price_m2           800.75    975.0  \n",
       "price            55000.00  59800.0  \n",
       "price_reduction   2250.00  11760.0  \n",
       "last_update          8.75     16.0  "
      ]
     },
     "execution_count": 11,
     "metadata": {},
     "output_type": "execute_result"
    }
   ],
   "source": [
    "data_sale_properties.describe().T"
   ]
  },
  {
   "cell_type": "markdown",
   "metadata": {},
   "source": [
    "#### Getting the maximum price for the rent of the properties that we want to scrape"
   ]
  },
  {
   "cell_type": "markdown",
   "metadata": {},
   "source": [
    "We get the 50% quantile price of the imported properties listed for sale and we extrapolate an expected rent price for those properties assuming a 12% rent. Since we want a maximum price, we use a generous profitability ratio (12%)."
   ]
  },
  {
   "cell_type": "code",
   "execution_count": 12,
   "metadata": {},
   "outputs": [],
   "source": [
    "max_prices = [300, 400, 500, 600, 700, 800, 900, 1000, 1100, 1200, 1500, 1800, 2000, 3000, 4000, 5000]"
   ]
  },
  {
   "cell_type": "code",
   "execution_count": 13,
   "metadata": {
    "jupyter": {
     "source_hidden": true
    }
   },
   "outputs": [],
   "source": [
    "max_price = data_sale_properties.price.quantile(0.5)*0.12/12\n",
    "\n",
    "if max_price < 1200:\n",
    "    max_price = max_price/100\n",
    "    max_price = math.ceil(max_price)*100\n",
    "elif max_price > 1200 & max_price < 1500:\n",
    "    max_price = 1500\n",
    "elif max_price > 1500 & max_price < 1800:\n",
    "    max_price = 1800\n",
    "elif max_price > 1800 & max_price < 2000:\n",
    "    max_price = 2000\n",
    "elif max_price > 2000 & max_price < 3000:\n",
    "    max_price = 3000\n",
    "elif max_price > 3000 & max_price < 4000:\n",
    "    max_price = 4000\n",
    "elif max_price > 4000 & max_price < 5000:\n",
    "    max_price = 5000\n",
    "elif max_price > 5000:\n",
    "    max_price = 5000"
   ]
  },
  {
   "cell_type": "code",
   "execution_count": 49,
   "metadata": {},
   "outputs": [
    {
     "data": {
      "text/plain": [
       "900"
      ]
     },
     "execution_count": 49,
     "metadata": {},
     "output_type": "execute_result"
    }
   ],
   "source": [
    "max_price"
   ]
  },
  {
   "cell_type": "code",
   "execution_count": 50,
   "metadata": {},
   "outputs": [],
   "source": [
    "max_price = 900"
   ]
  },
  {
   "cell_type": "markdown",
   "metadata": {},
   "source": [
    "#### Get input from user"
   ]
  },
  {
   "cell_type": "code",
   "execution_count": 51,
   "metadata": {},
   "outputs": [
    {
     "name": "stdin",
     "output_type": "stream",
     "text": [
      "ccaa:  cataluña\n"
     ]
    }
   ],
   "source": [
    "ccaa_lst = geo_data['ccaa'].unique().tolist()\n",
    "ccaa = input(\"ccaa: \")\n",
    "while ccaa not in ccaa_lst:\n",
    "    ccaa = input(\"There was no match between your input and our ccaa, try again: \")"
   ]
  },
  {
   "cell_type": "code",
   "execution_count": 52,
   "metadata": {},
   "outputs": [
    {
     "name": "stdin",
     "output_type": "stream",
     "text": [
      "Minimum number of properties per town:  10\n"
     ]
    }
   ],
   "source": [
    "num_properties_per_town = \"\"\n",
    "while num_properties_per_town == \"\":\n",
    "    try:\n",
    "        \n",
    "        num_properties_per_town = int(input(\"Minimum number of properties per town: \"))\n",
    "    except: \n",
    "        num_properties_per_town = \"\""
   ]
  },
  {
   "cell_type": "code",
   "execution_count": 53,
   "metadata": {},
   "outputs": [],
   "source": [
    "filtered_df = geo_data[(geo_data['ccaa'] == ccaa) & (geo_data['n_properties'] > num_properties_per_town)]"
   ]
  },
  {
   "cell_type": "markdown",
   "metadata": {},
   "source": [
    "#### List of towns that we need to extract data from"
   ]
  },
  {
   "cell_type": "code",
   "execution_count": 54,
   "metadata": {},
   "outputs": [],
   "source": [
    "towns = filtered_df[filtered_df['ccaa'] == ccaa].town.to_list()"
   ]
  },
  {
   "cell_type": "markdown",
   "metadata": {},
   "source": [
    "Hay que hacer un for loop que para cada town saque el df y le haga un append a el global."
   ]
  },
  {
   "cell_type": "markdown",
   "metadata": {},
   "source": [
    "#### Extracting data from each town"
   ]
  },
  {
   "cell_type": "code",
   "execution_count": 55,
   "metadata": {},
   "outputs": [],
   "source": [
    "property = \"alquiler\"\n",
    "municipio = \"hospitalet_de_llobregat\"\n",
    "ascensor = \"-ascensor\"\n",
    "\n",
    "habitaciones = \"hab=\"+\"1\"\n",
    "baños = \"&\"+\"ban=\"+\"1\"\n",
    "maximum_price = \"pmax=\"+str(max_price)\n",
    "metros = \"m2=\"+\"50\""
   ]
  },
  {
   "cell_type": "code",
   "execution_count": 56,
   "metadata": {},
   "outputs": [],
   "source": [
    "url = \"https://www.habitaclia.com/\"+property+ascensor+\"-\"+municipio+\".htm?\"+habitaciones+baños+maximum_price"
   ]
  },
  {
   "cell_type": "code",
   "execution_count": 57,
   "metadata": {},
   "outputs": [],
   "source": [
    "# Creation of the df to which we will append the properties of the selected towns.\n",
    "name = []\n",
    "town = []\n",
    "area = []\n",
    "neighborhood = []\n",
    "geo_town = []\n",
    "features = []\n",
    "m2 = []\n",
    "n_rooms = []\n",
    "n_bath = []\n",
    "price_m2 = []\n",
    "description = []\n",
    "price = []\n",
    "opportunity = []\n",
    "price_reduction = []\n",
    "opportunity = []\n",
    "last_update = []\n",
    "url = []\n",
    "\n",
    "x = min(len(name), len(town), len(area), len(neighborhood), len(geo_town), len(description), len(price), len(last_update), len(url))\n",
    "dct = {'name': name[:x], 'town': town[:x], 'area': area[:x], 'neighborhood': neighborhood[:x], 'geo_town':geo_town[:x],'m2': m2[:x], 'n_rooms': n_rooms[:x], 'n_bath': n_bath[:x], 'price_m2': price_m2[:x] ,'price': price[:x], 'price_reduction': price_reduction[:x], 'opportunity':opportunity[:x], 'last_update': last_update[:x],  'description': description[:x], 'url':url[:x] }\n",
    "df = pd.DataFrame.from_dict(dct)\n",
    "\n",
    "# Pulling properties from each town in the previously defined list:\n",
    "\n",
    "for t in towns:\n",
    "    \n",
    "    # Getting the number of properties for that town to see how many pages do we need to scrape.\n",
    "    url = \"https://www.habitaclia.com/\"+property+\"-\"+t+\".htm?\"+maximum_price\n",
    "    r = requests.get(url)\n",
    "    r.status_code\n",
    "    soup = BeautifulSoup(r.content, 'html.parser')\n",
    "    \n",
    "    try:\n",
    "        total_results = int(soup.find('h2', attrs={'class': 'f-right'}).find('span').get_text().replace(\".\",\"\"))\n",
    "        pages = range(int(math.floor(total_results/16))+1)\n",
    "        properties = []\n",
    "\n",
    "        # Adding all the properties listed in each page to the list.\n",
    "        for p in pages:\n",
    "            sleep(randint(2,5))\n",
    "            url = \"https://www.habitaclia.com/\"+property+\"-\"+t+\"-\"+str(p)+\".htm?\"+maximum_price\n",
    "            #print(url)\n",
    "            try:\n",
    "                r = requests.get(url)\n",
    "                soup = BeautifulSoup(r.content, 'html.parser')\n",
    "                properties += soup.find_all('div', attrs={'class': 'list-item-info'})\n",
    "                del properties[-1] # Last item is an ad\n",
    "            except:\n",
    "                print('Error on page', p)\n",
    "            #print('town: ', t, \" page: \", p)\n",
    "\n",
    "        # Creating a list for each piece of information I want to extract from each property.\n",
    "        name = []\n",
    "        town = []\n",
    "        area = []\n",
    "        neighborhood = []\n",
    "        geo_town = []\n",
    "        features = []\n",
    "        m2 = []\n",
    "        n_rooms = []\n",
    "        n_bath = []\n",
    "        price_m2 = []\n",
    "        description = []\n",
    "        price = []\n",
    "        opportunity = []\n",
    "        price_reduction = []\n",
    "        opportunity = []\n",
    "        last_update = []\n",
    "        url = []\n",
    "\n",
    "        # Getting the information from each property.\n",
    "        for i,properties in enumerate(properties): \n",
    "            # Each feature is set as empty prior to being defined. This way we avoid errors when a feature is not available for a certain property.\n",
    "            name_temp = \"\"\n",
    "            town_temp = \"\"\n",
    "            area_temp = \"\"\n",
    "            neighborhood_temp = \"\"\n",
    "            geo_town_temp = \"\"\n",
    "            m2_temp = \"\"\n",
    "            n_rooms_temp = \"\"\n",
    "            n_bath_temp = \"\"\n",
    "            price_m2_temp = \"\"\n",
    "            price_temp = \"\"\n",
    "            opportunity_temp = \"\"\n",
    "            price_reduction_temp = \"\"\n",
    "            description_temp = \"\"\n",
    "            last_update_temp = \"\"\n",
    "            url_temp = \"\"\n",
    "\n",
    "            # other_location enables us to differ between listed properties vs suggested properties, which appear when there are very few properties for one town. We want to avoid them as they are nearby properties not belonging to our target town.\n",
    "            other_location = properties.find('span', attrs={'class': 'ady-relationship'})\n",
    "            if other_location is None:\n",
    "                other_locations_properties = \"\"\n",
    "            else: \n",
    "                #print(i)\n",
    "                other_locations_properties = other_location.get_text(strip=True).find('Se encuentra en')\n",
    "\n",
    "            # Now I am skipping all the properties that are suggested so as to not append them to the df.\n",
    "            if other_locations_properties == 0:\n",
    "                pass\n",
    "            else:\n",
    "                try:\n",
    "                    # Extracting the features of a property and saving them in a temporary variable.\n",
    "                    name_temp = properties.find('h3', attrs={'class': 'list-item-title'}).get_text(strip=True)\n",
    "                    town_temp = properties.find('p', attrs={'class': 'list-item-location'}).get_text(strip=True).split(\"-\",1)[0].strip().replace(\"Ver mapa\",\"\")\n",
    "                    area_temp = properties.find('p', attrs={'class': 'list-item-location'}).get_text(strip=True).replace('/','-').strip().replace(\"Ver mapa\",\"\").split(\"-\",1)[0]\n",
    "                    neighborhood_temp = properties.find('p', attrs={'class': 'list-item-location'}).get_text(strip=True).replace('/','-').strip().replace(\"Ver mapa\",\"\").split(\"-\",1)[1].strip()\n",
    "                    geo_town_temp = t\n",
    "                    m2_temp = nfs.get_nums(properties.find('p', attrs={'class': 'list-item-feature'}).get_text(strip=True).split(\"-\")[0])[0] \n",
    "                    n_rooms_temp = nfs.get_nums(properties.find('p', attrs={'class': 'list-item-feature'}).get_text(strip=True).split(\"-\")[1])[0]\n",
    "                    n_bath_temp = nfs.get_nums(properties.find('p', attrs={'class': 'list-item-feature'}).get_text(strip=True).split(\"-\")[2])[0] \n",
    "                    price_m2_temp = nfs.get_nums(properties.find('p', attrs={'class': 'list-item-feature'}).get_text(strip=True).split(\"-\")[3])[0] \n",
    "                    raw_price_temp = properties.find('article', attrs={'class': 'list-item-price'}).get_text()\n",
    "                    if search(\"Oportunidad\", raw_price_temp):\n",
    "                        if search(\"ha bajado\", raw_price_temp): \n",
    "                            price_temp = nfs.get_nums((properties.find('article', attrs={'class': 'list-item-price'}).get_text()).replace(\".\",\"\"))[0]\n",
    "                            price_reduction_temp = nfs.get_nums((properties.find('article', attrs={'class': 'list-item-price'}).get_text()).replace(\".\",\"\"))[1]\n",
    "                            opportunity_temp = \"yes\"\n",
    "                        else:\n",
    "                            price_temp = nfs.get_nums((properties.find('article', attrs={'class': 'list-item-price'}).get_text()).replace(\".\",\"\"))[0]\n",
    "                            price_reduction_temp = \"0\"\n",
    "                            opportunity_temp = \"yes\"\n",
    "                    elif search(\"ha bajado\", raw_price_temp):\n",
    "                        price_temp = nfs.get_nums((properties.find('article', attrs={'class': 'list-item-price'}).get_text()).replace(\".\",\"\"))[0]\n",
    "                        price_reduction_temp = nfs.get_nums((properties.find('article', attrs={'class': 'list-item-price'}).get_text()).replace(\".\",\"\"))[1]      \n",
    "                        opportunity_temp = \"no\"\n",
    "                    else: \n",
    "                        price_temp = nfs.get_nums((properties.find('article', attrs={'class': 'list-item-price'}).get_text()).replace(\".\",\"\"))[0]\n",
    "                        price_reduction_temp = \"0\"\n",
    "                        opportunity_temp = \"no\"\n",
    "                    description_temp = properties.find('p', attrs={'class': 'list-item-description'}).get_text(strip=True)\n",
    "                    last_update_temp = nfs.get_nums(properties.find('span', attrs={'class': 'list-item-date'}).get_text(strip=True))\n",
    "                    url_temp = properties.find('h3', attrs={'class': 'list-item-title'}).find('a').get('href')\n",
    "\n",
    "                    # Appending temporary variables features to their corresponding list.\n",
    "                    name.append(name_temp)\n",
    "                    town.append(town_temp)\n",
    "                    area.append(area_temp)\n",
    "                    neighborhood.append(neighborhood_temp)\n",
    "                    geo_town.append(geo_town_temp)\n",
    "                    m2.append(m2_temp)\n",
    "                    n_rooms.append(n_rooms_temp)\n",
    "                    n_bath.append(n_bath_temp)\n",
    "                    price_m2.append(price_m2_temp)\n",
    "                    price.append(price_temp)\n",
    "                    opportunity.append(opportunity_temp)\n",
    "                    price_reduction.append(price_reduction_temp)\n",
    "                    description.append(description_temp)\n",
    "                    last_update.append(last_update_temp)\n",
    "                    url.append(url_temp)\n",
    "\n",
    "                except:\n",
    "                    # In case we may encounter an error, we print the features of each property to find the bug.\n",
    "                    '''\n",
    "                    print('------------------------------------')\n",
    "                    print('nombre: ', name_temp)\n",
    "                    print('town_temp: ', town_temp)\n",
    "                    print('area_temp: ', area_temp)\n",
    "                    print('m2_temp: ', m2_temp)\n",
    "                    print('n_rooms_temp: ', n_rooms_temp)\n",
    "                    print('n_bath_temp: ', n_bath_temp)\n",
    "                    print('price_m2_temp: ', price_m2_temp)\n",
    "                    print('price_temp: ', price_temp)\n",
    "                    print('opportunity_temp: ', opportunity_temp)\n",
    "                    print('price_reduction_temp: ', price_reduction_temp)\n",
    "                    print('description_temp: ', description_temp)\n",
    "                    print('last_update_temp: ', last_update_temp)\n",
    "                    print('url_temp: ', url_temp)\n",
    "                    print('------------------------------------')\n",
    "                    '''\n",
    "\n",
    "        x_town = min(len(name), len(town), len(area), len(neighborhood), len(geo_town), len(description), len(price), len(last_update), len(url))\n",
    "        dct_town = {'name': name[:x_town], 'town': town[:x_town], 'area': area[:x_town], 'neighborhood': neighborhood[:x_town], 'geo_town':geo_town[:x_town],'m2': m2[:x_town], 'n_rooms': n_rooms[:x_town], 'n_bath': n_bath[:x_town], 'price_m2': price_m2[:x_town] ,'price': price[:x_town], 'price_reduction': price_reduction[:x_town], 'opportunity':opportunity[:x_town], 'last_update': last_update[:x_town],  'description': description[:x_town], 'url':url[:x_town] }\n",
    "        df_town = pd.DataFrame.from_dict(dct_town)\n",
    "        df = df.append(df_town, ignore_index = True)\n",
    "\n",
    "    except:\n",
    "        pass\n",
    "        #print(\"no properties found at: \", url)"
   ]
  },
  {
   "cell_type": "markdown",
   "metadata": {},
   "source": [
    "#### Output from the web scrapping"
   ]
  },
  {
   "cell_type": "code",
   "execution_count": 58,
   "metadata": {},
   "outputs": [
    {
     "data": {
      "text/plain": [
       "(3204, 15)"
      ]
     },
     "execution_count": 58,
     "metadata": {},
     "output_type": "execute_result"
    }
   ],
   "source": [
    "df.shape"
   ]
  },
  {
   "cell_type": "code",
   "execution_count": 59,
   "metadata": {},
   "outputs": [],
   "source": [
    "df1 = df.copy()"
   ]
  },
  {
   "cell_type": "markdown",
   "metadata": {},
   "source": [
    "#### Cleaning the df"
   ]
  },
  {
   "cell_type": "code",
   "execution_count": 60,
   "metadata": {},
   "outputs": [],
   "source": [
    "df1 = df1.merge(geo_data, left_on='geo_town', right_on='town', how='left')\n",
    "df1 = df1.drop([\"town_x\", \"town_y\", \"n_properties\"], axis=1)\n",
    "df1 = df1.loc[:, ~df1.columns.str.contains('^Unnamed')]"
   ]
  },
  {
   "cell_type": "code",
   "execution_count": 61,
   "metadata": {
    "scrolled": true
   },
   "outputs": [],
   "source": [
    "def clean_last_update():\n",
    "    for i,n in enumerate(df1['last_update']):\n",
    "        try:\n",
    "            df1['last_update'][i] = df1['last_update'][i][0]\n",
    "        except:\n",
    "            df1['last_update'][i] = 'null'\n",
    "clean_last_update()"
   ]
  },
  {
   "cell_type": "code",
   "execution_count": 62,
   "metadata": {},
   "outputs": [],
   "source": [
    "numericals = ['m2', 'n_rooms', 'n_bath', 'price_m2', 'price', 'price_reduction', 'last_update']\n",
    "def anytype_to_numerical(df, columns = []):\n",
    "    for c in columns:\n",
    "        if df[c].dtypes == 'float64':\n",
    "            df[c] = df[c].astype(int)\n",
    "anytype_to_numerical(df1, columns = numericals)"
   ]
  },
  {
   "cell_type": "code",
   "execution_count": 63,
   "metadata": {},
   "outputs": [
    {
     "data": {
      "text/html": [
       "<div>\n",
       "<style scoped>\n",
       "    .dataframe tbody tr th:only-of-type {\n",
       "        vertical-align: middle;\n",
       "    }\n",
       "\n",
       "    .dataframe tbody tr th {\n",
       "        vertical-align: top;\n",
       "    }\n",
       "\n",
       "    .dataframe thead th {\n",
       "        text-align: right;\n",
       "    }\n",
       "</style>\n",
       "<table border=\"1\" class=\"dataframe\">\n",
       "  <thead>\n",
       "    <tr style=\"text-align: right;\">\n",
       "      <th></th>\n",
       "      <th>name</th>\n",
       "      <th>area</th>\n",
       "      <th>neighborhood</th>\n",
       "      <th>geo_town</th>\n",
       "      <th>m2</th>\n",
       "      <th>n_rooms</th>\n",
       "      <th>n_bath</th>\n",
       "      <th>price_m2</th>\n",
       "      <th>price</th>\n",
       "      <th>price_reduction</th>\n",
       "      <th>opportunity</th>\n",
       "      <th>last_update</th>\n",
       "      <th>description</th>\n",
       "      <th>url</th>\n",
       "      <th>province</th>\n",
       "      <th>ccaa</th>\n",
       "    </tr>\n",
       "  </thead>\n",
       "  <tbody>\n",
       "    <tr>\n",
       "      <th>0</th>\n",
       "      <td>Alquiler Apartamento  N ii junquera. Alquiler ...</td>\n",
       "      <td>Arenys de Mar</td>\n",
       "      <td>Urbanitzacions</td>\n",
       "      <td>arenys_de_mar</td>\n",
       "      <td>70</td>\n",
       "      <td>3</td>\n",
       "      <td>1</td>\n",
       "      <td>14</td>\n",
       "      <td>980</td>\n",
       "      <td>120</td>\n",
       "      <td>yes</td>\n",
       "      <td>11</td>\n",
       "      <td>INMUEBLE NO SUJETO A LA LIMITACIÓN DE PRECIOS ...</td>\n",
       "      <td>https://www.habitaclia.com/alquiler-apartament...</td>\n",
       "      <td>barcelona</td>\n",
       "      <td>cataluña</td>\n",
       "    </tr>\n",
       "    <tr>\n",
       "      <th>1</th>\n",
       "      <td>Alquiler Piso  en  Carrer mig (del), 20. Vivie...</td>\n",
       "      <td>Arenys de Mar</td>\n",
       "      <td>Urbanitzacions</td>\n",
       "      <td>arenys_de_mar</td>\n",
       "      <td>89</td>\n",
       "      <td>2</td>\n",
       "      <td>1</td>\n",
       "      <td>7</td>\n",
       "      <td>680</td>\n",
       "      <td>20</td>\n",
       "      <td>no</td>\n",
       "      <td>5</td>\n",
       "      <td>Vivienda en la Urbanización Carolines de Areny...</td>\n",
       "      <td>https://www.habitaclia.com/alquiler-piso-vivie...</td>\n",
       "      <td>barcelona</td>\n",
       "      <td>cataluña</td>\n",
       "    </tr>\n",
       "    <tr>\n",
       "      <th>2</th>\n",
       "      <td>Alquiler Apartamento  Carrer camí ral del caba...</td>\n",
       "      <td>Arenys de Mar</td>\n",
       "      <td>Urbanitzacions</td>\n",
       "      <td>arenys_de_mar</td>\n",
       "      <td>70</td>\n",
       "      <td>3</td>\n",
       "      <td>1</td>\n",
       "      <td>14</td>\n",
       "      <td>980</td>\n",
       "      <td>10</td>\n",
       "      <td>no</td>\n",
       "      <td>2</td>\n",
       "      <td>ALQUILER DE TEMPORADA - Bonito piso de 70 m2 t...</td>\n",
       "      <td>https://www.habitaclia.com/alquiler-apartament...</td>\n",
       "      <td>barcelona</td>\n",
       "      <td>cataluña</td>\n",
       "    </tr>\n",
       "  </tbody>\n",
       "</table>\n",
       "</div>"
      ],
      "text/plain": [
       "                                                name            area  \\\n",
       "0  Alquiler Apartamento  N ii junquera. Alquiler ...  Arenys de Mar    \n",
       "1  Alquiler Piso  en  Carrer mig (del), 20. Vivie...  Arenys de Mar    \n",
       "2  Alquiler Apartamento  Carrer camí ral del caba...  Arenys de Mar    \n",
       "\n",
       "     neighborhood       geo_town  m2  n_rooms  n_bath  price_m2  price  \\\n",
       "0  Urbanitzacions  arenys_de_mar  70        3       1        14    980   \n",
       "1  Urbanitzacions  arenys_de_mar  89        2       1         7    680   \n",
       "2  Urbanitzacions  arenys_de_mar  70        3       1        14    980   \n",
       "\n",
       "  price_reduction opportunity last_update  \\\n",
       "0             120         yes          11   \n",
       "1              20          no           5   \n",
       "2              10          no           2   \n",
       "\n",
       "                                         description  \\\n",
       "0  INMUEBLE NO SUJETO A LA LIMITACIÓN DE PRECIOS ...   \n",
       "1  Vivienda en la Urbanización Carolines de Areny...   \n",
       "2  ALQUILER DE TEMPORADA - Bonito piso de 70 m2 t...   \n",
       "\n",
       "                                                 url   province      ccaa  \n",
       "0  https://www.habitaclia.com/alquiler-apartament...  barcelona  cataluña  \n",
       "1  https://www.habitaclia.com/alquiler-piso-vivie...  barcelona  cataluña  \n",
       "2  https://www.habitaclia.com/alquiler-apartament...  barcelona  cataluña  "
      ]
     },
     "execution_count": 63,
     "metadata": {},
     "output_type": "execute_result"
    }
   ],
   "source": [
    "df1.head(3)"
   ]
  },
  {
   "cell_type": "markdown",
   "metadata": {},
   "source": [
    "#### Getting info about lifts"
   ]
  },
  {
   "cell_type": "code",
   "execution_count": 64,
   "metadata": {},
   "outputs": [],
   "source": [
    "# Creation of the df to which we will append the properties of the selected towns.\n",
    "name = []\n",
    "town = []\n",
    "area = []\n",
    "neighborhood = []\n",
    "geo_town = []\n",
    "features = []\n",
    "m2 = []\n",
    "n_rooms = []\n",
    "n_bath = []\n",
    "price_m2 = []\n",
    "description = []\n",
    "price = []\n",
    "opportunity = []\n",
    "price_reduction = []\n",
    "opportunity = []\n",
    "last_update = []\n",
    "url = []\n",
    "lift = []\n",
    "\n",
    "x = min(len(name), len(town), len(area), len(neighborhood), len(geo_town), len(description), len(price), len(last_update), len(url), len(lift))\n",
    "dct = {'name': name[:x], 'town': town[:x], 'area': area[:x], 'neighborhood': neighborhood[:x], 'geo_town':geo_town[:x],'m2': m2[:x], 'n_rooms': n_rooms[:x], 'n_bath': n_bath[:x], 'price_m2': price_m2[:x] ,'price': price[:x], 'price_reduction': price_reduction[:x], 'opportunity':opportunity[:x], 'last_update': last_update[:x],  'description': description[:x], 'url':url[:x], 'lift':lift[:x]}\n",
    "df_lift = pd.DataFrame.from_dict(dct)\n",
    "\n",
    "# Pulling properties from each town in the previously defined list:\n",
    "\n",
    "for t in towns:\n",
    "    \n",
    "    # Getting the number of properties for that town to see how many pages do we need to scrape.\n",
    "    url = \"https://www.habitaclia.com/\"+property+\"-\"+\"viviendas-ascensor\"+\"-\"+t+\".htm?\"+maximum_price\n",
    "    r = requests.get(url)\n",
    "    r.status_code\n",
    "    soup = BeautifulSoup(r.content, 'html.parser')\n",
    "    try:\n",
    "        total_results = int(soup.find('h2', attrs={'class': 'f-right'}).find('span').get_text().replace(\".\",\"\"))\n",
    "        pages = range(int(math.floor(total_results/16))+1)\n",
    "        properties = []\n",
    "\n",
    "        # Adding all the properties listed in each page to the list.\n",
    "        for p in pages:\n",
    "            sleep(randint(2,5))\n",
    "            url = \"https://www.habitaclia.com/\"+property+\"-\"+\"viviendas-ascensor\"+\"-\"+t+\"-\"+str(p)+\".htm?\"+maximum_price\n",
    "            try:\n",
    "                r = requests.get(url)\n",
    "                soup = BeautifulSoup(r.content, 'html.parser')\n",
    "                properties += soup.find_all('div', attrs={'class': 'list-item-info'})\n",
    "                del properties[-1] # Last item is an ad\n",
    "            except:\n",
    "                print('Error on page', p)\n",
    "                print('town: ', t, \" page: \", p, \"url: \", url)\n",
    "\n",
    "        # Creating a list for each piece of information I want to extract from each property.\n",
    "        name = []\n",
    "        town = []\n",
    "        area = []\n",
    "        neighborhood = []\n",
    "        geo_town = []\n",
    "        features = []\n",
    "        m2 = []\n",
    "        n_rooms = []\n",
    "        n_bath = []\n",
    "        price_m2 = []\n",
    "        description = []\n",
    "        price = []\n",
    "        opportunity = []\n",
    "        price_reduction = []\n",
    "        opportunity = []\n",
    "        last_update = []\n",
    "        url = []\n",
    "\n",
    "        # Getting the information from each property.\n",
    "        for i,properties in enumerate(properties):    \n",
    "            # Each feature is set as empty prior to being defined. This way we avoid errors when a feature is not available for a certain property.\n",
    "            name_temp = \"\"\n",
    "            town_temp = \"\"\n",
    "            area_temp = \"\"\n",
    "            neighborhood_temp = \"\"\n",
    "            geo_town_temp = \"\"\n",
    "            m2_temp = \"\"\n",
    "            n_rooms_temp = \"\"\n",
    "            n_bath_temp = \"\"\n",
    "            price_m2_temp = \"\"\n",
    "            price_temp = \"\"\n",
    "            opportunity_temp = \"\"\n",
    "            price_reduction_temp = \"\"\n",
    "            description_temp = \"\"\n",
    "            last_update_temp = \"\"\n",
    "            url_temp = \"\"\n",
    "            lift_temp = \"\"\n",
    "\n",
    "            # other_location enables us to differ between listed properties vs suggested properties, which appear when there are very few properties for one town. We want to avoid them as they are nearby properties not belonging to our target town.\n",
    "            other_location = properties.find('span', attrs={'class': 'ady-relationship'})\n",
    "            if other_location is None:\n",
    "                other_locations_properties = \"\"\n",
    "            else: \n",
    "                #print(i)\n",
    "                other_locations_properties = other_location.get_text(strip=True).find('Se encuentra en')\n",
    "\n",
    "            # Now I am skipping all the properties that are suggested so as to not append them to the df.\n",
    "            if other_locations_properties == 0:\n",
    "                pass\n",
    "            else:\n",
    "                try:\n",
    "                    # Extracting the features of a property and saving them in a temporary variable.\n",
    "                    name_temp = properties.find('h3', attrs={'class': 'list-item-title'}).get_text(strip=True)\n",
    "                    town_temp = properties.find('p', attrs={'class': 'list-item-location'}).get_text(strip=True).split(\"-\",1)[0].strip().replace(\"Ver mapa\",\"\")\n",
    "                    area_temp = properties.find('p', attrs={'class': 'list-item-location'}).get_text(strip=True).replace('/','-').strip().replace(\"Ver mapa\",\"\").split(\"-\",1)[0]\n",
    "                    neighborhood_temp = properties.find('p', attrs={'class': 'list-item-location'}).get_text(strip=True).replace('/','-').strip().replace(\"Ver mapa\",\"\").split(\"-\",1)[1].strip()\n",
    "                    geo_town_temp = t\n",
    "                    m2_temp = nfs.get_nums(properties.find('p', attrs={'class': 'list-item-feature'}).get_text(strip=True).split(\"-\")[0])[0] \n",
    "                    n_rooms_temp = nfs.get_nums(properties.find('p', attrs={'class': 'list-item-feature'}).get_text(strip=True).split(\"-\")[1])[0]\n",
    "                    n_bath_temp = nfs.get_nums(properties.find('p', attrs={'class': 'list-item-feature'}).get_text(strip=True).split(\"-\")[2])[0] \n",
    "                    price_m2_temp = nfs.get_nums(properties.find('p', attrs={'class': 'list-item-feature'}).get_text(strip=True).split(\"-\")[3])[0] \n",
    "                    raw_price_temp = properties.find('article', attrs={'class': 'list-item-price'}).get_text()\n",
    "                    if search(\"Oportunidad\", raw_price_temp):\n",
    "                        if search(\"ha bajado\", raw_price_temp): \n",
    "                            price_temp = nfs.get_nums((properties.find('article', attrs={'class': 'list-item-price'}).get_text()).replace(\".\",\"\"))[0]\n",
    "                            price_reduction_temp = nfs.get_nums((properties.find('article', attrs={'class': 'list-item-price'}).get_text()).replace(\".\",\"\"))[1]\n",
    "                            opportunity_temp = \"yes\"\n",
    "                        else:\n",
    "                            price_temp = nfs.get_nums((properties.find('article', attrs={'class': 'list-item-price'}).get_text()).replace(\".\",\"\"))[0]\n",
    "                            price_reduction_temp = \"0\"\n",
    "                            opportunity_temp = \"yes\"\n",
    "                    elif search(\"ha bajado\", raw_price_temp):\n",
    "                        price_temp = nfs.get_nums((properties.find('article', attrs={'class': 'list-item-price'}).get_text()).replace(\".\",\"\"))[0]\n",
    "                        price_reduction_temp = nfs.get_nums((properties.find('article', attrs={'class': 'list-item-price'}).get_text()).replace(\".\",\"\"))[1]      \n",
    "                        opportunity_temp = \"no\"\n",
    "                    else: \n",
    "                        price_temp = nfs.get_nums((properties.find('article', attrs={'class': 'list-item-price'}).get_text()).replace(\".\",\"\"))[0]\n",
    "                        price_reduction_temp = \"0\"\n",
    "                        opportunity_temp = \"no\"\n",
    "                    description_temp = properties.find('p', attrs={'class': 'list-item-description'}).get_text(strip=True)\n",
    "                    last_update_temp = nfs.get_nums(properties.find('span', attrs={'class': 'list-item-date'}).get_text(strip=True))\n",
    "                    url_temp = properties.find('h3', attrs={'class': 'list-item-title'}).find('a').get('href')\n",
    "                    lift_temp = 'yes'\n",
    "\n",
    "                    # Appending temporary variables features to their corresponding list.\n",
    "                    name.append(name_temp)\n",
    "                    town.append(town_temp)\n",
    "                    area.append(area_temp)\n",
    "                    neighborhood.append(neighborhood_temp)\n",
    "                    geo_town.append(geo_town_temp)\n",
    "                    m2.append(m2_temp)\n",
    "                    n_rooms.append(n_rooms_temp)\n",
    "                    n_bath.append(n_bath_temp)\n",
    "                    price_m2.append(price_m2_temp)\n",
    "                    price.append(price_temp)\n",
    "                    opportunity.append(opportunity_temp)\n",
    "                    price_reduction.append(price_reduction_temp)\n",
    "                    description.append(description_temp)\n",
    "                    last_update.append(last_update_temp)\n",
    "                    url.append(url_temp)\n",
    "                    lift.append(lift_temp)\n",
    "\n",
    "                except:\n",
    "                    # In case we may encounter an error, we print the features of each property to find the bug.\n",
    "                    '''\n",
    "                    print('------------------------------------')\n",
    "                    print('nombre: ', name_temp)\n",
    "                    print('town_temp: ', town_temp)\n",
    "                    print('area_temp: ', area_temp)\n",
    "                    print('m2_temp: ', m2_temp)\n",
    "                    print('n_rooms_temp: ', n_rooms_temp)\n",
    "                    print('n_bath_temp: ', n_bath_temp)\n",
    "                    print('price_m2_temp: ', price_m2_temp)\n",
    "                    print('price_temp: ', price_temp)\n",
    "                    print('opportunity_temp: ', opportunity_temp)\n",
    "                    print('price_reduction_temp: ', price_reduction_temp)\n",
    "                    print('description_temp: ', description_temp)\n",
    "                    print('last_update_temp: ', last_update_temp)\n",
    "                    print('url_temp: ', url_temp)\n",
    "                    print('------------------------------------')\n",
    "                    '''\n",
    "        \n",
    "        x_town = min(len(name), len(town), len(area), len(neighborhood), len(geo_town), len(description), len(price), len(last_update), len(url), len(lift))\n",
    "        dct_town = {'name': name[:x_town], 'town': town[:x_town], 'area': area[:x_town], 'neighborhood': neighborhood[:x_town], 'geo_town':geo_town[:x_town],'m2': m2[:x_town], 'n_rooms': n_rooms[:x_town], 'n_bath': n_bath[:x_town], 'price_m2': price_m2[:x_town] ,'price': price[:x_town], 'price_reduction': price_reduction[:x_town], 'opportunity':opportunity[:x_town], 'last_update': last_update[:x_town],  'description': description[:x_town], 'url':url[:x_town], 'lift':lift[:x_town]}\n",
    "        df_town = pd.DataFrame.from_dict(dct_town)\n",
    "        df_lift = df_lift.append(df_town, ignore_index = True)\n",
    "        \n",
    "        #Cleaning the final df\n",
    "        #df = df[~df['description'].str.contains('nuda|sin cedula|sin cédula')]\n",
    "    except:\n",
    "        pass\n",
    "        #print(\"no properties found at: \", url)"
   ]
  },
  {
   "cell_type": "code",
   "execution_count": 65,
   "metadata": {},
   "outputs": [],
   "source": [
    "df1_lift = df_lift.copy()"
   ]
  },
  {
   "cell_type": "code",
   "execution_count": 66,
   "metadata": {},
   "outputs": [],
   "source": [
    "df1_lift = df1_lift.merge(geo_data, left_on='geo_town', right_on='town', how='left')\n",
    "df1_lift = df1_lift.drop([\"town_x\", \"town_y\", \"n_properties\"], axis=1)\n",
    "df1_lift = df1_lift.loc[:, ~df1_lift.columns.str.contains('^Unnamed')]"
   ]
  },
  {
   "cell_type": "code",
   "execution_count": 67,
   "metadata": {},
   "outputs": [],
   "source": [
    "numericals = ['m2', 'n_rooms', 'n_bath', 'price_m2', 'price', 'price_reduction', 'last_update']\n",
    "\n",
    "def anytype_to_numerical(df, columns = []):\n",
    "    for c in columns:\n",
    "        if df[c].dtypes == 'float64':\n",
    "            df[c] = df[c].astype(int)\n",
    "\n",
    "def clean_last_update():\n",
    "    for i,n in enumerate(df1_lift['last_update']):\n",
    "        try:\n",
    "            df1_lift['last_update'][i] = df1_lift['last_update'][i][0]\n",
    "        except:\n",
    "            df1_lift['last_update'][i] = '0'"
   ]
  },
  {
   "cell_type": "code",
   "execution_count": 68,
   "metadata": {},
   "outputs": [],
   "source": [
    "anytype_to_numerical(df1_lift, columns = numericals)\n",
    "clean_last_update()"
   ]
  },
  {
   "cell_type": "code",
   "execution_count": 69,
   "metadata": {},
   "outputs": [],
   "source": [
    "df1_lift= df1_lift[df1_lift['price']<int(max_price)]"
   ]
  },
  {
   "cell_type": "code",
   "execution_count": 70,
   "metadata": {},
   "outputs": [
    {
     "data": {
      "text/plain": [
       "(1284, 17)"
      ]
     },
     "execution_count": 70,
     "metadata": {},
     "output_type": "execute_result"
    }
   ],
   "source": [
    "df1_lift.shape"
   ]
  },
  {
   "cell_type": "code",
   "execution_count": 71,
   "metadata": {},
   "outputs": [],
   "source": [
    "list_names_with_lift = list(df1_lift['name'])"
   ]
  },
  {
   "cell_type": "code",
   "execution_count": 72,
   "metadata": {},
   "outputs": [],
   "source": [
    "final_df = df1.combine_first(df1_lift)"
   ]
  },
  {
   "cell_type": "code",
   "execution_count": 73,
   "metadata": {},
   "outputs": [
    {
     "data": {
      "text/plain": [
       "(3204, 17)"
      ]
     },
     "execution_count": 73,
     "metadata": {},
     "output_type": "execute_result"
    }
   ],
   "source": [
    "final_df.shape"
   ]
  },
  {
   "cell_type": "markdown",
   "metadata": {},
   "source": [
    "#### Data about the floor of each property"
   ]
  },
  {
   "cell_type": "code",
   "execution_count": 74,
   "metadata": {},
   "outputs": [],
   "source": [
    "final_df.insert(1, 'floor', '')"
   ]
  },
  {
   "cell_type": "code",
   "execution_count": 75,
   "metadata": {},
   "outputs": [
    {
     "data": {
      "text/html": [
       "<div>\n",
       "<style scoped>\n",
       "    .dataframe tbody tr th:only-of-type {\n",
       "        vertical-align: middle;\n",
       "    }\n",
       "\n",
       "    .dataframe tbody tr th {\n",
       "        vertical-align: top;\n",
       "    }\n",
       "\n",
       "    .dataframe thead th {\n",
       "        text-align: right;\n",
       "    }\n",
       "</style>\n",
       "<table border=\"1\" class=\"dataframe\">\n",
       "  <thead>\n",
       "    <tr style=\"text-align: right;\">\n",
       "      <th></th>\n",
       "      <th>area</th>\n",
       "      <th>floor</th>\n",
       "      <th>ccaa</th>\n",
       "      <th>description</th>\n",
       "      <th>geo_town</th>\n",
       "      <th>last_update</th>\n",
       "      <th>lift</th>\n",
       "      <th>m2</th>\n",
       "      <th>n_bath</th>\n",
       "      <th>n_rooms</th>\n",
       "      <th>name</th>\n",
       "      <th>neighborhood</th>\n",
       "      <th>opportunity</th>\n",
       "      <th>price</th>\n",
       "      <th>price_m2</th>\n",
       "      <th>price_reduction</th>\n",
       "      <th>province</th>\n",
       "      <th>url</th>\n",
       "    </tr>\n",
       "  </thead>\n",
       "  <tbody>\n",
       "    <tr>\n",
       "      <th>0</th>\n",
       "      <td>Arenys de Mar</td>\n",
       "      <td></td>\n",
       "      <td>cataluña</td>\n",
       "      <td>INMUEBLE NO SUJETO A LA LIMITACIÓN DE PRECIOS ...</td>\n",
       "      <td>arenys_de_mar</td>\n",
       "      <td>11</td>\n",
       "      <td>NaN</td>\n",
       "      <td>70</td>\n",
       "      <td>1</td>\n",
       "      <td>3</td>\n",
       "      <td>Alquiler Apartamento  N ii junquera. Alquiler ...</td>\n",
       "      <td>Urbanitzacions</td>\n",
       "      <td>yes</td>\n",
       "      <td>980</td>\n",
       "      <td>14</td>\n",
       "      <td>120</td>\n",
       "      <td>barcelona</td>\n",
       "      <td>https://www.habitaclia.com/alquiler-apartament...</td>\n",
       "    </tr>\n",
       "    <tr>\n",
       "      <th>1</th>\n",
       "      <td>Arenys de Mar</td>\n",
       "      <td></td>\n",
       "      <td>cataluña</td>\n",
       "      <td>Vivienda en la Urbanización Carolines de Areny...</td>\n",
       "      <td>arenys_de_mar</td>\n",
       "      <td>5</td>\n",
       "      <td>yes</td>\n",
       "      <td>89</td>\n",
       "      <td>1</td>\n",
       "      <td>2</td>\n",
       "      <td>Alquiler Piso  en  Carrer mig (del), 20. Vivie...</td>\n",
       "      <td>Urbanitzacions</td>\n",
       "      <td>no</td>\n",
       "      <td>680</td>\n",
       "      <td>7</td>\n",
       "      <td>20</td>\n",
       "      <td>barcelona</td>\n",
       "      <td>https://www.habitaclia.com/alquiler-piso-vivie...</td>\n",
       "    </tr>\n",
       "    <tr>\n",
       "      <th>2</th>\n",
       "      <td>Arenys de Mar</td>\n",
       "      <td></td>\n",
       "      <td>cataluña</td>\n",
       "      <td>ALQUILER DE TEMPORADA - Bonito piso de 70 m2 t...</td>\n",
       "      <td>arenys_de_mar</td>\n",
       "      <td>2</td>\n",
       "      <td>NaN</td>\n",
       "      <td>70</td>\n",
       "      <td>1</td>\n",
       "      <td>3</td>\n",
       "      <td>Alquiler Apartamento  Carrer camí ral del caba...</td>\n",
       "      <td>Urbanitzacions</td>\n",
       "      <td>no</td>\n",
       "      <td>980</td>\n",
       "      <td>14</td>\n",
       "      <td>10</td>\n",
       "      <td>barcelona</td>\n",
       "      <td>https://www.habitaclia.com/alquiler-apartament...</td>\n",
       "    </tr>\n",
       "  </tbody>\n",
       "</table>\n",
       "</div>"
      ],
      "text/plain": [
       "             area floor      ccaa  \\\n",
       "0  Arenys de Mar         cataluña   \n",
       "1  Arenys de Mar         cataluña   \n",
       "2  Arenys de Mar         cataluña   \n",
       "\n",
       "                                         description       geo_town  \\\n",
       "0  INMUEBLE NO SUJETO A LA LIMITACIÓN DE PRECIOS ...  arenys_de_mar   \n",
       "1  Vivienda en la Urbanización Carolines de Areny...  arenys_de_mar   \n",
       "2  ALQUILER DE TEMPORADA - Bonito piso de 70 m2 t...  arenys_de_mar   \n",
       "\n",
       "  last_update lift  m2  n_bath  n_rooms  \\\n",
       "0          11  NaN  70       1        3   \n",
       "1           5  yes  89       1        2   \n",
       "2           2  NaN  70       1        3   \n",
       "\n",
       "                                                name    neighborhood  \\\n",
       "0  Alquiler Apartamento  N ii junquera. Alquiler ...  Urbanitzacions   \n",
       "1  Alquiler Piso  en  Carrer mig (del), 20. Vivie...  Urbanitzacions   \n",
       "2  Alquiler Apartamento  Carrer camí ral del caba...  Urbanitzacions   \n",
       "\n",
       "  opportunity  price  price_m2 price_reduction   province  \\\n",
       "0         yes    980        14             120  barcelona   \n",
       "1          no    680         7              20  barcelona   \n",
       "2          no    980        14              10  barcelona   \n",
       "\n",
       "                                                 url  \n",
       "0  https://www.habitaclia.com/alquiler-apartament...  \n",
       "1  https://www.habitaclia.com/alquiler-piso-vivie...  \n",
       "2  https://www.habitaclia.com/alquiler-apartament...  "
      ]
     },
     "execution_count": 75,
     "metadata": {},
     "output_type": "execute_result"
    }
   ],
   "source": [
    "final_df.head(3)"
   ]
  },
  {
   "cell_type": "code",
   "execution_count": 76,
   "metadata": {},
   "outputs": [],
   "source": [
    "for l in list_floors:\n",
    "    find_floor(final_df, \n",
    "               column = 'description', \n",
    "               key_words = l)"
   ]
  },
  {
   "cell_type": "code",
   "execution_count": 77,
   "metadata": {},
   "outputs": [
    {
     "name": "stdout",
     "output_type": "stream",
     "text": [
      "0\n",
      "100\n",
      "200\n",
      "300\n",
      "400\n",
      "500\n",
      "600\n",
      "700\n",
      "800\n",
      "900\n",
      "1000\n",
      "1100\n",
      "1200\n",
      "1300\n",
      "1400\n",
      "1500\n",
      "1600\n",
      "1700\n",
      "1800\n",
      "1900\n",
      "2000\n",
      "2100\n",
      "2200\n",
      "2300\n",
      "2400\n",
      "2500\n",
      "2600\n",
      "2700\n",
      "2800\n",
      "2900\n",
      "3000\n",
      "3100\n",
      "3200\n"
     ]
    }
   ],
   "source": [
    "get_lift_from_property_url(final_df)"
   ]
  },
  {
   "cell_type": "code",
   "execution_count": 78,
   "metadata": {},
   "outputs": [],
   "source": [
    "final_df1 = final_df.copy()"
   ]
  },
  {
   "cell_type": "code",
   "execution_count": 79,
   "metadata": {},
   "outputs": [],
   "source": [
    "clean_floors(final_df1)"
   ]
  },
  {
   "cell_type": "code",
   "execution_count": 80,
   "metadata": {},
   "outputs": [
    {
     "data": {
      "text/plain": [
       "first          481\n",
       "second         400\n",
       "third          323\n",
       "fourth         187\n",
       "fifth           90\n",
       "sixth           53\n",
       "ground          34\n",
       "seventh         25\n",
       "eighth          13\n",
       "ninth            8\n",
       "tenth            5\n",
       "underground      4\n",
       "12               1\n",
       "16               1\n",
       "Name: floor, dtype: int64"
      ]
     },
     "execution_count": 80,
     "metadata": {},
     "output_type": "execute_result"
    }
   ],
   "source": [
    "final_df1['floor'].value_counts()"
   ]
  },
  {
   "cell_type": "code",
   "execution_count": 81,
   "metadata": {},
   "outputs": [
    {
     "data": {
      "text/plain": [
       "1579"
      ]
     },
     "execution_count": 81,
     "metadata": {},
     "output_type": "execute_result"
    }
   ],
   "source": [
    "final_df1['floor'].isnull().sum()"
   ]
  },
  {
   "cell_type": "markdown",
   "metadata": {},
   "source": [
    "#### Saving the scrapped df"
   ]
  },
  {
   "cell_type": "code",
   "execution_count": 82,
   "metadata": {},
   "outputs": [],
   "source": [
    "today = datetime.now().strftime('%Y.%m.%d')\n",
    "final_df.to_csv(path_or_buf = '/Users/ignaciolorenzoqueralt/Documents/Ironhack/Final Project/properties/rent/'+today+'_'+ccaa+'_'+str(max_price)+'_'+str(num_properties_per_town)+'.csv')"
   ]
  },
  {
   "cell_type": "code",
   "execution_count": null,
   "metadata": {},
   "outputs": [],
   "source": []
  }
 ],
 "metadata": {
  "kernelspec": {
   "display_name": "ironhack_1",
   "language": "python",
   "name": "ironhack_1"
  },
  "language_info": {
   "codemirror_mode": {
    "name": "ipython",
    "version": 3
   },
   "file_extension": ".py",
   "mimetype": "text/x-python",
   "name": "python",
   "nbconvert_exporter": "python",
   "pygments_lexer": "ipython3",
   "version": "3.8.5"
  }
 },
 "nbformat": 4,
 "nbformat_minor": 5
}
